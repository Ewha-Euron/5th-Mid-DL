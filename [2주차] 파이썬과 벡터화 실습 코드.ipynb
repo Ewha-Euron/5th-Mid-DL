{
  "nbformat": 4,
  "nbformat_minor": 0,
  "metadata": {
    "colab": {
      "provenance": []
    },
    "kernelspec": {
      "name": "python3",
      "display_name": "Python 3"
    },
    "language_info": {
      "name": "python"
    }
  },
  "cells": [
    {
      "cell_type": "markdown",
      "source": [
        "# Vectorization"
      ],
      "metadata": {
        "id": "KPJA2vMCwgmQ"
      }
    },
    {
      "cell_type": "code",
      "execution_count": null,
      "metadata": {
        "colab": {
          "base_uri": "https://localhost:8080/"
        },
        "id": "0MnN_X7o45Iv",
        "outputId": "a8ae6911-bca4-4400-9522-5c70f6577606"
      },
      "outputs": [
        {
          "output_type": "stream",
          "name": "stdout",
          "text": [
            "[1 2 3 4]\n"
          ]
        }
      ],
      "source": [
        "import numpy as np\n",
        "\n",
        "a=np.array([1,2,3,4])\n",
        "print(a)"
      ]
    },
    {
      "cell_type": "code",
      "source": [
        "import time\n",
        "\n",
        "a=np.random.rand(1000000)\n",
        "b=np.random.rand(1000000)\n",
        "\n",
        "tic=time.time() #현재 시간\n",
        "c=np.dot(a,b)\n",
        "toc=time.time()\n",
        "\n",
        "print(c)\n",
        "print(\"Vectorized version:\" +str(1000*(toc-tic))+\"ms\") #밀리초 단위로 표현"
      ],
      "metadata": {
        "colab": {
          "base_uri": "https://localhost:8080/"
        },
        "id": "QpgruGqD5B3g",
        "outputId": "22e49384-e358-4f48-e475-d1b882d067a0"
      },
      "execution_count": null,
      "outputs": [
        {
          "output_type": "stream",
          "name": "stdout",
          "text": [
            "250202.96287023884\n",
            "Vectorized version:2.147674560546875ms\n"
          ]
        }
      ]
    },
    {
      "cell_type": "code",
      "source": [
        "c=0\n",
        "tic=time.time()\n",
        "for i in range (1000000):\n",
        "  c +=a[i]*b[i]\n",
        "toc=time.time()\n",
        "\n",
        "print(c)\n",
        "print(\"for loop:\" + str(1000*(toc-tic))+\"ms\")"
      ],
      "metadata": {
        "colab": {
          "base_uri": "https://localhost:8080/"
        },
        "id": "j1qOyEv585iI",
        "outputId": "dfe6cdc7-9676-4657-d17f-ac191f15c606"
      },
      "execution_count": null,
      "outputs": [
        {
          "output_type": "stream",
          "name": "stdout",
          "text": [
            "249756.92230481037\n",
            "for loop:473.3731746673584ms\n"
          ]
        }
      ]
    },
    {
      "cell_type": "markdown",
      "source": [],
      "metadata": {
        "id": "aN1pPKxmwq3E"
      }
    },
    {
      "cell_type": "markdown",
      "source": [
        "# Broadcasting in Python"
      ],
      "metadata": {
        "id": "nE9GzHB7wusB"
      }
    },
    {
      "cell_type": "code",
      "source": [
        "import numpy as np\n",
        "\n",
        "A=np.array([[56.0, 0.0, 4.4, 68.0],\n",
        "            [1.2, 104.0, 52.0, 8.0],\n",
        "            [1.8, 135.0, 99.0, 0.9]])\n",
        "print(A)"
      ],
      "metadata": {
        "id": "xckjsDCl9lHP",
        "colab": {
          "base_uri": "https://localhost:8080/"
        },
        "outputId": "2215d214-0af6-4022-f77c-9db817183e44"
      },
      "execution_count": 1,
      "outputs": [
        {
          "output_type": "stream",
          "name": "stdout",
          "text": [
            "[[ 56.    0.    4.4  68. ]\n",
            " [  1.2 104.   52.    8. ]\n",
            " [  1.8 135.   99.    0.9]]\n"
          ]
        }
      ]
    },
    {
      "cell_type": "code",
      "source": [
        "cal=A.sum(axis=0) #열을 더함\n",
        "print(cal)"
      ],
      "metadata": {
        "colab": {
          "base_uri": "https://localhost:8080/"
        },
        "id": "E0ho6e0MxOI8",
        "outputId": "07121a93-8ffa-428d-d4ee-6a14b7890af2"
      },
      "execution_count": 2,
      "outputs": [
        {
          "output_type": "stream",
          "name": "stdout",
          "text": [
            "[ 59.  239.  155.4  76.9]\n"
          ]
        }
      ]
    },
    {
      "cell_type": "code",
      "source": [
        "percentage = 100*A/cal.reshape(1,4)\n",
        "print(percentage)"
      ],
      "metadata": {
        "colab": {
          "base_uri": "https://localhost:8080/"
        },
        "id": "FW6m67XTxa0E",
        "outputId": "fc877979-f46d-453b-b197-709bb7ffcb9b"
      },
      "execution_count": 3,
      "outputs": [
        {
          "output_type": "stream",
          "name": "stdout",
          "text": [
            "[[94.91525424  0.          2.83140283 88.42652796]\n",
            " [ 2.03389831 43.51464435 33.46203346 10.40312094]\n",
            " [ 3.05084746 56.48535565 63.70656371  1.17035111]]\n"
          ]
        }
      ]
    },
    {
      "cell_type": "markdown",
      "source": [
        "# A note on python/numpy vectors"
      ],
      "metadata": {
        "id": "hKR6tGQh0ufX"
      }
    },
    {
      "cell_type": "code",
      "source": [
        "import numpy as np\n",
        "a=np.random.randn(5)"
      ],
      "metadata": {
        "id": "JKjngbDdxj-o"
      },
      "execution_count": 4,
      "outputs": []
    },
    {
      "cell_type": "code",
      "source": [
        "print(a)"
      ],
      "metadata": {
        "colab": {
          "base_uri": "https://localhost:8080/"
        },
        "id": "0Fhx-iGN1NCt",
        "outputId": "80114f0e-bd7c-473c-de88-bf6a65c37166"
      },
      "execution_count": 5,
      "outputs": [
        {
          "output_type": "stream",
          "name": "stdout",
          "text": [
            "[-0.55405951  0.6852566  -1.00746228  0.14955755 -1.21813413]\n"
          ]
        }
      ]
    },
    {
      "cell_type": "code",
      "source": [
        "print(a.shape) #rank 1인 배열, 행/열 벡터 둘다 x"
      ],
      "metadata": {
        "colab": {
          "base_uri": "https://localhost:8080/"
        },
        "id": "HVWw1SI21N9T",
        "outputId": "de708593-dbd2-4bc2-f31a-b25b41afe4cb"
      },
      "execution_count": 6,
      "outputs": [
        {
          "output_type": "stream",
          "name": "stdout",
          "text": [
            "(5,)\n"
          ]
        }
      ]
    },
    {
      "cell_type": "code",
      "source": [
        "print(a.T)"
      ],
      "metadata": {
        "colab": {
          "base_uri": "https://localhost:8080/"
        },
        "id": "4kRxJKRJ1PPl",
        "outputId": "296c56f1-f4b7-49f7-b4ca-3849a03c4e45"
      },
      "execution_count": 7,
      "outputs": [
        {
          "output_type": "stream",
          "name": "stdout",
          "text": [
            "[-0.55405951  0.6852566  -1.00746228  0.14955755 -1.21813413]\n"
          ]
        }
      ]
    },
    {
      "cell_type": "code",
      "source": [
        "print(np.dot(a,a.T))"
      ],
      "metadata": {
        "colab": {
          "base_uri": "https://localhost:8080/"
        },
        "id": "3SpWpky21XGN",
        "outputId": "3aba0641-f5c3-4480-d229-7a006d55677d"
      },
      "execution_count": 8,
      "outputs": [
        {
          "output_type": "stream",
          "name": "stdout",
          "text": [
            "3.2977570172311785\n"
          ]
        }
      ]
    },
    {
      "cell_type": "markdown",
      "source": [
        "크기가 (n,)인 랭크가 1인 배열 사용하지 x"
      ],
      "metadata": {
        "id": "FEpV006Z1hpu"
      }
    },
    {
      "cell_type": "code",
      "source": [
        "a=np.random.randn(5,1)\n",
        "print(a) #a는 5x1 벡터"
      ],
      "metadata": {
        "colab": {
          "base_uri": "https://localhost:8080/"
        },
        "id": "1URIulEB1c2p",
        "outputId": "24c8d7d2-94a3-4098-b2ec-59c180aab74c"
      },
      "execution_count": 9,
      "outputs": [
        {
          "output_type": "stream",
          "name": "stdout",
          "text": [
            "[[ 0.27149543]\n",
            " [-0.14281956]\n",
            " [-1.83525918]\n",
            " [ 0.40874818]\n",
            " [ 0.54109981]]\n"
          ]
        }
      ]
    },
    {
      "cell_type": "code",
      "source": [
        "print(a.T)"
      ],
      "metadata": {
        "colab": {
          "base_uri": "https://localhost:8080/"
        },
        "id": "ScBKen8V1tyq",
        "outputId": "e86ee586-7a5d-4d8a-81dc-22b6be6ee67c"
      },
      "execution_count": 10,
      "outputs": [
        {
          "output_type": "stream",
          "name": "stdout",
          "text": [
            "[[ 0.27149543 -0.14281956 -1.83525918  0.40874818  0.54109981]]\n"
          ]
        }
      ]
    },
    {
      "cell_type": "code",
      "source": [
        "print(np.dot(a,a.T)) #외적"
      ],
      "metadata": {
        "colab": {
          "base_uri": "https://localhost:8080/"
        },
        "id": "3B_QX0Oj1xrs",
        "outputId": "24684059-03a4-45ec-9564-fcb76a6d149f"
      },
      "execution_count": 11,
      "outputs": [
        {
          "output_type": "stream",
          "name": "stdout",
          "text": [
            "[[ 0.07370977 -0.03877486 -0.49826448  0.11097326  0.14690612]\n",
            " [-0.03877486  0.02039743  0.26211091 -0.05837723 -0.07727964]\n",
            " [-0.49826448  0.26211091  3.36817627 -0.75015885 -0.9930584 ]\n",
            " [ 0.11097326 -0.05837723 -0.75015885  0.16707507  0.22117356]\n",
            " [ 0.14690612 -0.07727964 -0.9930584   0.22117356  0.29278901]]\n"
          ]
        }
      ]
    }
  ]
}