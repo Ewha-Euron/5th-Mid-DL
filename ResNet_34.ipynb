{
  "nbformat": 4,
  "nbformat_minor": 0,
  "metadata": {
    "colab": {
      "provenance": [],
      "mount_file_id": "13_CXkva5-uf9yfBTcSoOOwcvr5Ny7xn7",
      "authorship_tag": "ABX9TyOvyalt8wcmnHMa1tm1wqj2",
      "include_colab_link": true
    },
    "kernelspec": {
      "name": "python3",
      "display_name": "Python 3"
    },
    "language_info": {
      "name": "python"
    }
  },
  "cells": [
    {
      "cell_type": "markdown",
      "metadata": {
        "id": "view-in-github",
        "colab_type": "text"
      },
      "source": [
        "<a href=\"https://colab.research.google.com/github/aaoiii/5th-Mid-DL/blob/17%EC%A3%BC%EC%B0%A8/ResNet_34.ipynb\" target=\"_parent\"><img src=\"https://colab.research.google.com/assets/colab-badge.svg\" alt=\"Open In Colab\"/></a>"
      ]
    },
    {
      "cell_type": "markdown",
      "source": [
        "## **ResNet-34 PyTorch Starter Kit** ##\n",
        "\n",
        "### Part 1 ###"
      ],
      "metadata": {
        "id": "gS-4Y8InTWyw"
      }
    },
    {
      "cell_type": "code",
      "execution_count": null,
      "metadata": {
        "id": "rW6wYwxATPhY"
      },
      "outputs": [],
      "source": [
        "import numpy as np #linear algebra\n",
        "import pandas as pd #data preprocessing, CSV file I/O (e.g. pd.read_csv)\n",
        "\n",
        "import os\n",
        "import os\n",
        "for dirname, _, filenames in os.walk('/kaggle/input'):\n",
        "    for filename in filenames:\n",
        "        print(os.path.join(dirname, filename))\n",
        "\n",
        "import torch\n",
        "import torch.nn as nn\n",
        "from torch.utils.data import Dataset,DataLoader\n",
        "from torchvision import transforms,models\n",
        "from tqdm import tqdm_notebook as tqdm\n"
      ]
    },
    {
      "cell_type": "code",
      "source": [
        "import pyarrow.feather as feather"
      ],
      "metadata": {
        "id": "sy2yyePDnYur"
      },
      "execution_count": null,
      "outputs": []
    },
    {
      "cell_type": "code",
      "source": [
        "train = pd.read_csv('train.csv')"
      ],
      "metadata": {
        "id": "dEu4dKK9Vv0o"
      },
      "execution_count": null,
      "outputs": []
    },
    {
      "cell_type": "code",
      "source": [
        "train.head()"
      ],
      "metadata": {
        "colab": {
          "base_uri": "https://localhost:8080/",
          "height": 226
        },
        "id": "mzKn9UVlnrgf",
        "outputId": "000d3976-c877-4d99-a08a-c2fe40327748"
      },
      "execution_count": null,
      "outputs": [
        {
          "output_type": "execute_result",
          "data": {
            "text/plain": [
              "  image_id  grapheme_root  vowel_diacritic  consonant_diacritic grapheme\n",
              "0  Train_0             15                9                    5   ক্ট্রো\n",
              "1  Train_1            159                0                    0        হ\n",
              "2  Train_2             22                3                    5     খ্রী\n",
              "3  Train_3             53                2                    2     র্টি\n",
              "4  Train_4             71                9                    5     থ্রো"
            ],
            "text/html": [
              "\n",
              "  <div id=\"df-c073581b-e458-4a0c-88ab-d6ce21b525d5\" class=\"colab-df-container\">\n",
              "    <div>\n",
              "<style scoped>\n",
              "    .dataframe tbody tr th:only-of-type {\n",
              "        vertical-align: middle;\n",
              "    }\n",
              "\n",
              "    .dataframe tbody tr th {\n",
              "        vertical-align: top;\n",
              "    }\n",
              "\n",
              "    .dataframe thead th {\n",
              "        text-align: right;\n",
              "    }\n",
              "</style>\n",
              "<table border=\"1\" class=\"dataframe\">\n",
              "  <thead>\n",
              "    <tr style=\"text-align: right;\">\n",
              "      <th></th>\n",
              "      <th>image_id</th>\n",
              "      <th>grapheme_root</th>\n",
              "      <th>vowel_diacritic</th>\n",
              "      <th>consonant_diacritic</th>\n",
              "      <th>grapheme</th>\n",
              "    </tr>\n",
              "  </thead>\n",
              "  <tbody>\n",
              "    <tr>\n",
              "      <th>0</th>\n",
              "      <td>Train_0</td>\n",
              "      <td>15</td>\n",
              "      <td>9</td>\n",
              "      <td>5</td>\n",
              "      <td>ক্ট্রো</td>\n",
              "    </tr>\n",
              "    <tr>\n",
              "      <th>1</th>\n",
              "      <td>Train_1</td>\n",
              "      <td>159</td>\n",
              "      <td>0</td>\n",
              "      <td>0</td>\n",
              "      <td>হ</td>\n",
              "    </tr>\n",
              "    <tr>\n",
              "      <th>2</th>\n",
              "      <td>Train_2</td>\n",
              "      <td>22</td>\n",
              "      <td>3</td>\n",
              "      <td>5</td>\n",
              "      <td>খ্রী</td>\n",
              "    </tr>\n",
              "    <tr>\n",
              "      <th>3</th>\n",
              "      <td>Train_3</td>\n",
              "      <td>53</td>\n",
              "      <td>2</td>\n",
              "      <td>2</td>\n",
              "      <td>র্টি</td>\n",
              "    </tr>\n",
              "    <tr>\n",
              "      <th>4</th>\n",
              "      <td>Train_4</td>\n",
              "      <td>71</td>\n",
              "      <td>9</td>\n",
              "      <td>5</td>\n",
              "      <td>থ্রো</td>\n",
              "    </tr>\n",
              "  </tbody>\n",
              "</table>\n",
              "</div>\n",
              "    <div class=\"colab-df-buttons\">\n",
              "\n",
              "  <div class=\"colab-df-container\">\n",
              "    <button class=\"colab-df-convert\" onclick=\"convertToInteractive('df-c073581b-e458-4a0c-88ab-d6ce21b525d5')\"\n",
              "            title=\"Convert this dataframe to an interactive table.\"\n",
              "            style=\"display:none;\">\n",
              "\n",
              "  <svg xmlns=\"http://www.w3.org/2000/svg\" height=\"24px\" viewBox=\"0 -960 960 960\">\n",
              "    <path d=\"M120-120v-720h720v720H120Zm60-500h600v-160H180v160Zm220 220h160v-160H400v160Zm0 220h160v-160H400v160ZM180-400h160v-160H180v160Zm440 0h160v-160H620v160ZM180-180h160v-160H180v160Zm440 0h160v-160H620v160Z\"/>\n",
              "  </svg>\n",
              "    </button>\n",
              "\n",
              "  <style>\n",
              "    .colab-df-container {\n",
              "      display:flex;\n",
              "      gap: 12px;\n",
              "    }\n",
              "\n",
              "    .colab-df-convert {\n",
              "      background-color: #E8F0FE;\n",
              "      border: none;\n",
              "      border-radius: 50%;\n",
              "      cursor: pointer;\n",
              "      display: none;\n",
              "      fill: #1967D2;\n",
              "      height: 32px;\n",
              "      padding: 0 0 0 0;\n",
              "      width: 32px;\n",
              "    }\n",
              "\n",
              "    .colab-df-convert:hover {\n",
              "      background-color: #E2EBFA;\n",
              "      box-shadow: 0px 1px 2px rgba(60, 64, 67, 0.3), 0px 1px 3px 1px rgba(60, 64, 67, 0.15);\n",
              "      fill: #174EA6;\n",
              "    }\n",
              "\n",
              "    .colab-df-buttons div {\n",
              "      margin-bottom: 4px;\n",
              "    }\n",
              "\n",
              "    [theme=dark] .colab-df-convert {\n",
              "      background-color: #3B4455;\n",
              "      fill: #D2E3FC;\n",
              "    }\n",
              "\n",
              "    [theme=dark] .colab-df-convert:hover {\n",
              "      background-color: #434B5C;\n",
              "      box-shadow: 0px 1px 3px 1px rgba(0, 0, 0, 0.15);\n",
              "      filter: drop-shadow(0px 1px 2px rgba(0, 0, 0, 0.3));\n",
              "      fill: #FFFFFF;\n",
              "    }\n",
              "  </style>\n",
              "\n",
              "    <script>\n",
              "      const buttonEl =\n",
              "        document.querySelector('#df-c073581b-e458-4a0c-88ab-d6ce21b525d5 button.colab-df-convert');\n",
              "      buttonEl.style.display =\n",
              "        google.colab.kernel.accessAllowed ? 'block' : 'none';\n",
              "\n",
              "      async function convertToInteractive(key) {\n",
              "        const element = document.querySelector('#df-c073581b-e458-4a0c-88ab-d6ce21b525d5');\n",
              "        const dataTable =\n",
              "          await google.colab.kernel.invokeFunction('convertToInteractive',\n",
              "                                                    [key], {});\n",
              "        if (!dataTable) return;\n",
              "\n",
              "        const docLinkHtml = 'Like what you see? Visit the ' +\n",
              "          '<a target=\"_blank\" href=https://colab.research.google.com/notebooks/data_table.ipynb>data table notebook</a>'\n",
              "          + ' to learn more about interactive tables.';\n",
              "        element.innerHTML = '';\n",
              "        dataTable['output_type'] = 'display_data';\n",
              "        await google.colab.output.renderOutput(dataTable, element);\n",
              "        const docLink = document.createElement('div');\n",
              "        docLink.innerHTML = docLinkHtml;\n",
              "        element.appendChild(docLink);\n",
              "      }\n",
              "    </script>\n",
              "  </div>\n",
              "\n",
              "\n",
              "<div id=\"df-9f53b9f1-7c64-430c-8f3a-c51f4a783513\">\n",
              "  <button class=\"colab-df-quickchart\" onclick=\"quickchart('df-9f53b9f1-7c64-430c-8f3a-c51f4a783513')\"\n",
              "            title=\"Suggest charts\"\n",
              "            style=\"display:none;\">\n",
              "\n",
              "<svg xmlns=\"http://www.w3.org/2000/svg\" height=\"24px\"viewBox=\"0 0 24 24\"\n",
              "     width=\"24px\">\n",
              "    <g>\n",
              "        <path d=\"M19 3H5c-1.1 0-2 .9-2 2v14c0 1.1.9 2 2 2h14c1.1 0 2-.9 2-2V5c0-1.1-.9-2-2-2zM9 17H7v-7h2v7zm4 0h-2V7h2v10zm4 0h-2v-4h2v4z\"/>\n",
              "    </g>\n",
              "</svg>\n",
              "  </button>\n",
              "\n",
              "<style>\n",
              "  .colab-df-quickchart {\n",
              "      --bg-color: #E8F0FE;\n",
              "      --fill-color: #1967D2;\n",
              "      --hover-bg-color: #E2EBFA;\n",
              "      --hover-fill-color: #174EA6;\n",
              "      --disabled-fill-color: #AAA;\n",
              "      --disabled-bg-color: #DDD;\n",
              "  }\n",
              "\n",
              "  [theme=dark] .colab-df-quickchart {\n",
              "      --bg-color: #3B4455;\n",
              "      --fill-color: #D2E3FC;\n",
              "      --hover-bg-color: #434B5C;\n",
              "      --hover-fill-color: #FFFFFF;\n",
              "      --disabled-bg-color: #3B4455;\n",
              "      --disabled-fill-color: #666;\n",
              "  }\n",
              "\n",
              "  .colab-df-quickchart {\n",
              "    background-color: var(--bg-color);\n",
              "    border: none;\n",
              "    border-radius: 50%;\n",
              "    cursor: pointer;\n",
              "    display: none;\n",
              "    fill: var(--fill-color);\n",
              "    height: 32px;\n",
              "    padding: 0;\n",
              "    width: 32px;\n",
              "  }\n",
              "\n",
              "  .colab-df-quickchart:hover {\n",
              "    background-color: var(--hover-bg-color);\n",
              "    box-shadow: 0 1px 2px rgba(60, 64, 67, 0.3), 0 1px 3px 1px rgba(60, 64, 67, 0.15);\n",
              "    fill: var(--button-hover-fill-color);\n",
              "  }\n",
              "\n",
              "  .colab-df-quickchart-complete:disabled,\n",
              "  .colab-df-quickchart-complete:disabled:hover {\n",
              "    background-color: var(--disabled-bg-color);\n",
              "    fill: var(--disabled-fill-color);\n",
              "    box-shadow: none;\n",
              "  }\n",
              "\n",
              "  .colab-df-spinner {\n",
              "    border: 2px solid var(--fill-color);\n",
              "    border-color: transparent;\n",
              "    border-bottom-color: var(--fill-color);\n",
              "    animation:\n",
              "      spin 1s steps(1) infinite;\n",
              "  }\n",
              "\n",
              "  @keyframes spin {\n",
              "    0% {\n",
              "      border-color: transparent;\n",
              "      border-bottom-color: var(--fill-color);\n",
              "      border-left-color: var(--fill-color);\n",
              "    }\n",
              "    20% {\n",
              "      border-color: transparent;\n",
              "      border-left-color: var(--fill-color);\n",
              "      border-top-color: var(--fill-color);\n",
              "    }\n",
              "    30% {\n",
              "      border-color: transparent;\n",
              "      border-left-color: var(--fill-color);\n",
              "      border-top-color: var(--fill-color);\n",
              "      border-right-color: var(--fill-color);\n",
              "    }\n",
              "    40% {\n",
              "      border-color: transparent;\n",
              "      border-right-color: var(--fill-color);\n",
              "      border-top-color: var(--fill-color);\n",
              "    }\n",
              "    60% {\n",
              "      border-color: transparent;\n",
              "      border-right-color: var(--fill-color);\n",
              "    }\n",
              "    80% {\n",
              "      border-color: transparent;\n",
              "      border-right-color: var(--fill-color);\n",
              "      border-bottom-color: var(--fill-color);\n",
              "    }\n",
              "    90% {\n",
              "      border-color: transparent;\n",
              "      border-bottom-color: var(--fill-color);\n",
              "    }\n",
              "  }\n",
              "</style>\n",
              "\n",
              "  <script>\n",
              "    async function quickchart(key) {\n",
              "      const quickchartButtonEl =\n",
              "        document.querySelector('#' + key + ' button');\n",
              "      quickchartButtonEl.disabled = true;  // To prevent multiple clicks.\n",
              "      quickchartButtonEl.classList.add('colab-df-spinner');\n",
              "      try {\n",
              "        const charts = await google.colab.kernel.invokeFunction(\n",
              "            'suggestCharts', [key], {});\n",
              "      } catch (error) {\n",
              "        console.error('Error during call to suggestCharts:', error);\n",
              "      }\n",
              "      quickchartButtonEl.classList.remove('colab-df-spinner');\n",
              "      quickchartButtonEl.classList.add('colab-df-quickchart-complete');\n",
              "    }\n",
              "    (() => {\n",
              "      let quickchartButtonEl =\n",
              "        document.querySelector('#df-9f53b9f1-7c64-430c-8f3a-c51f4a783513 button');\n",
              "      quickchartButtonEl.style.display =\n",
              "        google.colab.kernel.accessAllowed ? 'block' : 'none';\n",
              "    })();\n",
              "  </script>\n",
              "</div>\n",
              "    </div>\n",
              "  </div>\n"
            ]
          },
          "metadata": {},
          "execution_count": 14
        }
      ]
    },
    {
      "cell_type": "code",
      "source": [
        "data0 = pd.read_feather('train_data_0.feather')\n",
        "data1 = pd.read_feather('train_data_1.feather')\n",
        "data2 = pd.read_feather('train_data_2.feather')\n",
        "data3 = pd.read_feather('train_data_3.feather')"
      ],
      "metadata": {
        "id": "UuYpJ6pMs73x"
      },
      "execution_count": null,
      "outputs": []
    },
    {
      "cell_type": "code",
      "source": [
        "data_full=pd.concat([data0,data1,data2,data3],ignore_index=True)"
      ],
      "metadata": {
        "id": "-NFex8g0XHSU"
      },
      "execution_count": null,
      "outputs": []
    },
    {
      "cell_type": "code",
      "source": [
        "class GraphemeDataset(Dataset):\n",
        "    def __init__(self,df,label,_type='train'):\n",
        "        self.df = df\n",
        "        self.label = label\n",
        "    def __len__(self):\n",
        "        return len(self.df)\n",
        "    def __getitem__(self,idx):\n",
        "        label1 = self.label.vowel_diacritic.values[idx]\n",
        "        label2 = self.label.grapheme_root.values[idx]\n",
        "        label3 = self.label.consonant_diacritic.values[idx]\n",
        "        image = self.df.iloc[idx][1:].values.reshape(64,64).astype(np.float)\n",
        "        return image,label1,label2,label3"
      ],
      "metadata": {
        "id": "IIk1ZdgDhRNT"
      },
      "execution_count": null,
      "outputs": []
    },
    {
      "cell_type": "code",
      "source": [
        "class ResidualBlock(nn.Module):\n",
        "    def __init__(self,in_channels,out_channels,stride=1,kernel_size=3,padding=1,bias=False):\n",
        "        super(ResidualBlock,self).__init__()\n",
        "        self.cnn1 =nn.Sequential(\n",
        "            nn.Conv2d(in_channels,out_channels,kernel_size,stride,padding,bias=False),\n",
        "            nn.BatchNorm2d(out_channels),\n",
        "            nn.ReLU(True)\n",
        "        )\n",
        "        self.cnn2 = nn.Sequential(\n",
        "            nn.Conv2d(out_channels,out_channels,kernel_size,1,padding,bias=False),\n",
        "            nn.BatchNorm2d(out_channels)\n",
        "        )\n",
        "        if stride != 1 or in_channels != out_channels:\n",
        "            self.shortcut = nn.Sequential(\n",
        "                nn.Conv2d(in_channels,out_channels,kernel_size=1,stride=stride,bias=False),\n",
        "                nn.BatchNorm2d(out_channels)\n",
        "            )\n",
        "        else:\n",
        "            self.shortcut = nn.Sequential()\n",
        "\n",
        "    def forward(self,x):\n",
        "        residual = x\n",
        "        x = self.cnn1(x)\n",
        "        x = self.cnn2(x)\n",
        "        x += self.shortcut(residual)\n",
        "        x = nn.ReLU(True)(x)\n",
        "        return x"
      ],
      "metadata": {
        "id": "pPF3RAu_hTxQ"
      },
      "execution_count": null,
      "outputs": []
    },
    {
      "cell_type": "markdown",
      "source": [
        "## ResNet-18 Model ##"
      ],
      "metadata": {
        "id": "mTGJ2lP2oSpz"
      }
    },
    {
      "cell_type": "code",
      "source": [
        "class ResNet18(nn.Module):\n",
        "    def __init__(self):\n",
        "        super(ResNet18,self).__init__()\n",
        "\n",
        "        self.block1 = nn.Sequential(\n",
        "            nn.Conv2d(1,64,kernel_size=2,stride=2,padding=3,bias=False),\n",
        "            nn.BatchNorm2d(64),\n",
        "            nn.ReLU(True)\n",
        "        )\n",
        "\n",
        "        self.block2 = nn.Sequential(\n",
        "            nn.MaxPool2d(1,1),\n",
        "            ResidualBlock(64,64),\n",
        "            ResidualBlock(64,64,2)\n",
        "        )\n",
        "\n",
        "        self.block3 = nn.Sequential(\n",
        "            ResidualBlock(64,128),\n",
        "            ResidualBlock(128,128,2)\n",
        "        )\n",
        "\n",
        "        self.block4 = nn.Sequential(\n",
        "            ResidualBlock(128,256),\n",
        "            ResidualBlock(256,256,2)\n",
        "        )\n",
        "        self.block5 = nn.Sequential(\n",
        "            ResidualBlock(256,512),\n",
        "            ResidualBlock(512,512,2)\n",
        "        )\n",
        "\n",
        "        self.avgpool = nn.AvgPool2d(2)\n",
        "        # vowel_diacritic\n",
        "        self.fc1 = nn.Linear(512,11)\n",
        "        # grapheme_root\n",
        "        self.fc2 = nn.Linear(512,168)\n",
        "        # consonant_diacritic\n",
        "        self.fc3 = nn.Linear(512,7)\n",
        "\n",
        "    def forward(self,x):\n",
        "        x = self.block1(x)\n",
        "        x = self.block2(x)\n",
        "        x = self.block3(x)\n",
        "        x = self.block4(x)\n",
        "        x = self.block5(x)\n",
        "        x = self.avgpool(x)\n",
        "        x = x.view(x.size(0),-1)\n",
        "        x1 = self.fc1(x)\n",
        "        x2 = self.fc2(x)\n",
        "        x3 = self.fc3(x)\n",
        "        return x1,x2,x3"
      ],
      "metadata": {
        "id": "ge9lMNuyoVcH"
      },
      "execution_count": null,
      "outputs": []
    },
    {
      "cell_type": "markdown",
      "source": [
        "## ResNet34 Model ##"
      ],
      "metadata": {
        "id": "vMmzm50Yoa8M"
      }
    },
    {
      "cell_type": "code",
      "source": [
        "class ResNet34(nn.Module):\n",
        "    def __init__(self):\n",
        "        super(ResNet34,self).__init__()\n",
        "\n",
        "        self.block1 = nn.Sequential(\n",
        "            nn.Conv2d(1,64,kernel_size=2,stride=2,padding=3,bias=False),\n",
        "            nn.BatchNorm2d(64),\n",
        "            nn.ReLU(True)\n",
        "        )\n",
        "\n",
        "        self.block2 = nn.Sequential(\n",
        "            nn.MaxPool2d(1,1),\n",
        "            ResidualBlock(64,64),\n",
        "            ResidualBlock(64,64,2)\n",
        "        )\n",
        "\n",
        "        self.block3 = nn.Sequential(\n",
        "            ResidualBlock(64,128),\n",
        "            ResidualBlock(128,128,2)\n",
        "        )\n",
        "\n",
        "        self.block4 = nn.Sequential(\n",
        "            ResidualBlock(128,256),\n",
        "            ResidualBlock(256,256,2)\n",
        "        )\n",
        "        self.block5 = nn.Sequential(\n",
        "            ResidualBlock(256,512),\n",
        "            ResidualBlock(512,512,2)\n",
        "        )\n",
        "\n",
        "        self.avgpool = nn.AvgPool2d(2)\n",
        "        # vowel_diacritic\n",
        "        self.fc1 = nn.Linear(512,11)\n",
        "        # grapheme_root\n",
        "        self.fc2 = nn.Linear(512,168)\n",
        "        # consonant_diacritic\n",
        "        self.fc3 = nn.Linear(512,7)\n",
        "\n",
        "    def forward(self,x):\n",
        "        x = self.block1(x)\n",
        "        x = self.block2(x)\n",
        "        x = self.block3(x)\n",
        "        x = self.block4(x)\n",
        "        x = self.block5(x)\n",
        "        x = self.avgpool(x)\n",
        "        x = x.view(x.size(0),-1)\n",
        "        x1 = self.fc1(x)\n",
        "        x2 = self.fc2(x)\n",
        "        x3 = self.fc3(x)\n",
        "        return x1,x2,x3"
      ],
      "metadata": {
        "id": "esIhR4Z_oaVa"
      },
      "execution_count": null,
      "outputs": []
    },
    {
      "cell_type": "markdown",
      "source": [
        "### Remarks ###\n",
        "- See previous version for torch summary as submission must not have internet enabled"
      ],
      "metadata": {
        "id": "YC0SOfeTokWO"
      }
    },
    {
      "cell_type": "code",
      "source": [
        "!pip install torchsummary"
      ],
      "metadata": {
        "colab": {
          "base_uri": "https://localhost:8080/"
        },
        "id": "PomYRnxKohso",
        "outputId": "e6ccd3ba-1fdb-4a8f-e511-f52dd7262ea9"
      },
      "execution_count": null,
      "outputs": [
        {
          "output_type": "stream",
          "name": "stdout",
          "text": [
            "Requirement already satisfied: torchsummary in /usr/local/lib/python3.10/dist-packages (1.5.1)\n"
          ]
        }
      ]
    },
    {
      "cell_type": "code",
      "source": [
        "device = torch.device(\"cuda:0\" if torch.cuda.is_available() else \"cpu\")"
      ],
      "metadata": {
        "id": "W9HRquS-qsbm"
      },
      "execution_count": 23,
      "outputs": []
    },
    {
      "cell_type": "code",
      "source": [
        "model_resnet34 = ResNet34().to(device)\n",
        "#summary(model_resnet34, (1, 64, 64))"
      ],
      "metadata": {
        "id": "00xQbbLsqzIg"
      },
      "execution_count": 26,
      "outputs": []
    },
    {
      "cell_type": "markdown",
      "source": [
        "## Training Model ##\n",
        "- We use ResNet34 and train for 50 epochs"
      ],
      "metadata": {
        "id": "0YSPh0G5q8pG"
      }
    },
    {
      "cell_type": "code",
      "source": [
        "model = ResNet34().to(device)\n",
        "optimizer = optimizer = torch.optim.Adam(model.parameters(), lr=4e-4)\n",
        "\n",
        "criterion = nn.CrossEntropyLoss()\n",
        "batch_size=32"
      ],
      "metadata": {
        "id": "-ycnvl3TrBH5"
      },
      "execution_count": 27,
      "outputs": []
    },
    {
      "cell_type": "code",
      "source": [
        "epochs = 50 #original 50\n",
        "model.train()\n",
        "losses = []\n",
        "accs = []\n",
        "\n",
        "for epoch in range(epochs):\n",
        "    reduced_index =train.groupby(['grapheme_root', 'vowel_diacritic', 'consonant_diacritic']).apply(lambda x: x.sample(5)).image_id.values\n",
        "    reduced_train = train.loc[train.image_id.isin(reduced_index)]\n",
        "    reduced_data = data_full.loc[data_full.image_id.isin(reduced_index)]\n",
        "    train_image = GraphemeDataset(reduced_data,reduced_train)\n",
        "    train_loader = torch.utils.data.DataLoader(train_image,batch_size=batch_size,shuffle=True)\n",
        "\n",
        "    print('epochs {}/{} '.format(epoch+1,epochs))\n",
        "    running_loss = 0.0\n",
        "    running_acc = 0.0\n",
        "\n",
        "    for idx, (inputs,labels1,labels2,labels3) in tqdm(enumerate(train_loader),total=len(train_loader)):\n",
        "        inputs = inputs.to(device)\n",
        "        labels1 = labels1.to(device)\n",
        "        labels2 = labels2.to(device)\n",
        "        labels3 = labels3.to(device)\n",
        "\n",
        "        optimizer.zero_grad()\n",
        "        outputs1,outputs2,outputs3 = model(inputs.unsqueeze(1).float())\n",
        "        loss1 = criterion(outputs1,labels1)\n",
        "        loss2 = criterion(outputs2,labels2)\n",
        "        loss3 = criterion(outputs3,labels3)\n",
        "        running_loss += loss1+loss2+loss3\n",
        "        running_acc += (outputs1.argmax(1)==labels1).float().mean()\n",
        "        running_acc += (outputs2.argmax(1)==labels2).float().mean()\n",
        "        running_acc += (outputs3.argmax(1)==labels3).float().mean()\n",
        "        (loss1+loss2+loss3).backward()\n",
        "        optimizer.step()\n",
        "    #scheduler.step()\n",
        "    losses.append(running_loss/len(train_loader))\n",
        "    accs.append(running_acc/(len(train_loader)*3))\n",
        "\n",
        "    print('acc : {:.2f}%'.format(running_acc/(len(train_loader)*3)))\n",
        "    print('loss : {:.4f}'.format(running_loss/len(train_loader)))\n",
        "\n",
        "torch.save(model.state_dict(), 'resnet34_50epochs_saved_weights.pth')"
      ],
      "metadata": {
        "id": "8cGnRPxkrPAH"
      },
      "execution_count": null,
      "outputs": []
    },
    {
      "cell_type": "code",
      "source": [
        "import matplotlib.pyplot as plt\n",
        "fig,ax = plt.subplots(1,2,figsize=(15,5))\n",
        "ax[0].plot(losses)\n",
        "ax[0].set_title('loss')\n",
        "ax[1].plot(accs)\n",
        "ax[1].set_title('acc')"
      ],
      "metadata": {
        "id": "Ix6VkJN6rXz6"
      },
      "execution_count": null,
      "outputs": []
    },
    {
      "cell_type": "markdown",
      "source": [
        "## Part 2 ##"
      ],
      "metadata": {
        "id": "lasYA4MprZjf"
      }
    },
    {
      "cell_type": "code",
      "source": [
        "import numpy as np # linear algebra\n",
        "import pandas as pd # data processing, CSV file I/O (e.g. pd.read_csv)\n",
        "\n",
        "import os\n",
        "for dirname, _, filenames in os.walk('/kaggle/input'):\n",
        "    for filename in filenames:\n",
        "        print(os.path.join(dirname, filename))\n",
        "\n",
        "# Any results you write to the current directory are saved as output.\n",
        "import cv2\n",
        "import torch\n",
        "import torch.nn as nn\n",
        "from torch.utils.data import Dataset,DataLoader\n",
        "from torchvision import transforms,models\n",
        "from tqdm import tqdm_notebook as tqdm"
      ],
      "metadata": {
        "id": "pmm2aWeyrYdO"
      },
      "execution_count": 30,
      "outputs": []
    },
    {
      "cell_type": "code",
      "source": [
        "test = pd.read_csv('test.csv')"
      ],
      "metadata": {
        "id": "aCoFpEStri-a"
      },
      "execution_count": 36,
      "outputs": []
    },
    {
      "cell_type": "code",
      "source": [
        "class GraphemeDataset(Dataset):\n",
        "    def __init__(self,df,_type='train'):\n",
        "        self.df = df\n",
        "    def __len__(self):\n",
        "        return len(self.df)\n",
        "    def __getitem__(self,idx):\n",
        "        image = self.df.iloc[idx][1:].values.reshape(64,64).astype(float)\n",
        "        return image"
      ],
      "metadata": {
        "id": "rJKyvye2rjZa"
      },
      "execution_count": 31,
      "outputs": []
    },
    {
      "cell_type": "code",
      "source": [
        "device = torch.device(\"cuda:0\" if torch.cuda.is_available() else \"cpu\")\n",
        "model = ResNet34().to(device)\n",
        "model.load_state_dict(torch.load('/kaggle/input/trained400/resnet34_400epochs_saved_weights.pth'))"
      ],
      "metadata": {
        "id": "oeEu73OMrlou"
      },
      "execution_count": null,
      "outputs": []
    },
    {
      "cell_type": "code",
      "source": [
        "def Resize(df,size=64):\n",
        "    resized = {}\n",
        "    df = df.set_index('image_id')\n",
        "    for i in tqdm(range(df.shape[0])):\n",
        "        image = cv2.resize(df.loc[df.index[i]].values.reshape(137,236),(size,size))\n",
        "        resized[df.index[i]] = image.reshape(-1)\n",
        "    resized = pd.DataFrame(resized).T.reset_index()\n",
        "    resized.columns = resized.columns.astype(str)\n",
        "    resized.rename(columns={'index':'image_id'},inplace=True)\n",
        "    return resized"
      ],
      "metadata": {
        "id": "mEuLfv8erot0"
      },
      "execution_count": 32,
      "outputs": []
    },
    {
      "cell_type": "code",
      "source": [
        "model.eval()\n",
        "test_data = ['test_image_data_0.parquet','test_image_data_1.parquet','test_image_data_2.parquet','test_image_data_3.parquet']\n",
        "predictions = []\n",
        "batch_size=1\n",
        "for fname in test_data:\n",
        "    data = pd.read_parquet(f'/kaggle/input/bengaliai-cv19/{fname}')\n",
        "    data = Resize(data)\n",
        "    test_image = GraphemeDataset(data)\n",
        "    test_loader = torch.utils.data.DataLoader(test_image,batch_size=1,shuffle=False)\n",
        "    with torch.no_grad():\n",
        "        for idx, (inputs) in tqdm(enumerate(test_loader),total=len(test_loader)):\n",
        "            inputs.to(device)\n",
        "\n",
        "            outputs1,outputs2,outputs3 = model(inputs.unsqueeze(1).float().cuda())\n",
        "            predictions.append(outputs3.argmax(1).cpu().detach().numpy())\n",
        "            predictions.append(outputs2.argmax(1).cpu().detach().numpy())\n",
        "            predictions.append(outputs1.argmax(1).cpu().detach().numpy())"
      ],
      "metadata": {
        "id": "KP7K0eB8rsaE"
      },
      "execution_count": null,
      "outputs": []
    },
    {
      "cell_type": "markdown",
      "source": [
        "## Save Results\n"
      ],
      "metadata": {
        "id": "BQXsXYYAruJP"
      }
    },
    {
      "cell_type": "code",
      "source": [
        "submission = pd.read_csv('sample_submission.csv')"
      ],
      "metadata": {
        "id": "pBUo3T_ortAc"
      },
      "execution_count": 34,
      "outputs": []
    },
    {
      "cell_type": "code",
      "source": [
        "submission.target = np.hstack(predictions)\n",
        "submission.head(10)"
      ],
      "metadata": {
        "id": "aaw3CLfyr3r5"
      },
      "execution_count": null,
      "outputs": []
    },
    {
      "cell_type": "code",
      "source": [
        "submission.to_csv('submission.csv',index=False)"
      ],
      "metadata": {
        "id": "XvcocIXyr4PJ"
      },
      "execution_count": null,
      "outputs": []
    }
  ]
}