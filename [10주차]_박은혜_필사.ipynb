{
  "nbformat": 4,
  "nbformat_minor": 0,
  "metadata": {
    "colab": {
      "provenance": []
    },
    "kernelspec": {
      "name": "python3",
      "display_name": "Python 3"
    },
    "language_info": {
      "name": "python"
    }
  },
  "cells": [
    {
      "cell_type": "markdown",
      "source": [
        "basics of pytorch, linear regression, logistic regression, ANN"
      ],
      "metadata": {
        "id": "vsjPMepveOq3"
      }
    },
    {
      "cell_type": "markdown",
      "source": [
        "# Basics of Pytorch\n",
        "\n",
        "## Matrices\n",
        "np.array와 torch.Tensor의 차이"
      ],
      "metadata": {
        "id": "Co1w0V6vaCeV"
      }
    },
    {
      "cell_type": "code",
      "source": [
        "import numpy as np\n",
        "\n",
        "array = [[1,2,3], [4,5,6]]\n",
        "first_array = np.array(array)\n",
        "\n",
        "print(\"Array Type : {}\".format(type(first_array)))\n",
        "print(\"Array Shape : {}\".format(np.shape(first_array)))\n",
        "print(first_array)"
      ],
      "metadata": {
        "colab": {
          "base_uri": "https://localhost:8080/"
        },
        "id": "CPFJNdpRZ9pV",
        "outputId": "4a4d78c8-cad7-4b5a-d113-db7699c7c5dc"
      },
      "execution_count": 1,
      "outputs": [
        {
          "output_type": "stream",
          "name": "stdout",
          "text": [
            "Array Type : <class 'numpy.ndarray'>\n",
            "Array Shape : (2, 3)\n",
            "[[1 2 3]\n",
            " [4 5 6]]\n"
          ]
        }
      ]
    },
    {
      "cell_type": "code",
      "source": [
        "import torch\n",
        "\n",
        "# array = [[1,2,3], [4,5,6]]\n",
        "tensor = torch.Tensor(array)\n",
        "print(\"Array Type : {}\".format(tensor.type))\n",
        "print(\"Array Shape : {}\".format(tensor.shape))\n",
        "print(tensor)"
      ],
      "metadata": {
        "colab": {
          "base_uri": "https://localhost:8080/"
        },
        "id": "TgltcezXaV2X",
        "outputId": "4f2afdef-bd5d-4167-fd37-ef1103e01a81"
      },
      "execution_count": 2,
      "outputs": [
        {
          "output_type": "stream",
          "name": "stdout",
          "text": [
            "Array Type : <built-in method type of Tensor object at 0x79d8fd904400>\n",
            "Array Shape : torch.Size([2, 3])\n",
            "tensor([[1., 2., 3.],\n",
            "        [4., 5., 6.]])\n"
          ]
        }
      ]
    },
    {
      "cell_type": "code",
      "source": [
        "# 넘파이와 텐서의 ones\n",
        "\n",
        "print(\"Numpy {}\\n\".format(np.ones((2,3))))\n",
        "print(torch.ones(2,3))"
      ],
      "metadata": {
        "colab": {
          "base_uri": "https://localhost:8080/"
        },
        "id": "l_bwLMu_ajr7",
        "outputId": "e86e6485-b3ab-42a9-eaa7-392a18eceece"
      },
      "execution_count": 3,
      "outputs": [
        {
          "output_type": "stream",
          "name": "stdout",
          "text": [
            "Numpy [[1. 1. 1.]\n",
            " [1. 1. 1.]]\n",
            "\n",
            "tensor([[1., 1., 1.],\n",
            "        [1., 1., 1.]])\n"
          ]
        }
      ]
    },
    {
      "cell_type": "code",
      "source": [
        "# 넘파이와 텐서의 random\n",
        "\n",
        "print(\"Numpy {}\\n\".format(np.random.rand(2,3)))\n",
        "print(torch.rand(2,3))"
      ],
      "metadata": {
        "colab": {
          "base_uri": "https://localhost:8080/"
        },
        "id": "czJTWiryaxQF",
        "outputId": "221a9fd8-df37-4089-b9b6-13289f06243e"
      },
      "execution_count": 4,
      "outputs": [
        {
          "output_type": "stream",
          "name": "stdout",
          "text": [
            "Numpy [[0.74001797 0.36904446 0.40146772]\n",
            " [0.08021862 0.6849988  0.6078359 ]]\n",
            "\n",
            "tensor([[0.7852, 0.3653, 0.4718],\n",
            "        [0.2468, 0.9795, 0.1295]])\n"
          ]
        }
      ]
    },
    {
      "cell_type": "code",
      "source": [
        "# 넘파이와 텐서 변환\n",
        "\n",
        "array = np.random.rand(2,2)\n",
        "print(\"{} {}\\n\".format(type(array), array))\n",
        "\n",
        "# numpy > tensor\n",
        "from_numpy_to_tensor = torch.from_numpy(array)\n",
        "print(\"from np to tensor\")\n",
        "print(\"{}\\n\".format(from_numpy_to_tensor))\n",
        "\n",
        "# tensor > numpy\n",
        "tensor = from_numpy_to_tensor\n",
        "from_tensor_to_numpy = tensor.numpy()\n",
        "print(\"from tensor to np\")\n",
        "print(\"{} {}\\n\".format(type(from_tensor_to_numpy), type(from_numpy_to_tensor)))"
      ],
      "metadata": {
        "colab": {
          "base_uri": "https://localhost:8080/"
        },
        "id": "K460YgG3a93t",
        "outputId": "b25034a9-2f3c-4ab5-cd94-4b956ed9742e"
      },
      "execution_count": 5,
      "outputs": [
        {
          "output_type": "stream",
          "name": "stdout",
          "text": [
            "<class 'numpy.ndarray'> [[0.13593953 0.17392057]\n",
            " [0.32042065 0.68430643]]\n",
            "\n",
            "from np to tensor\n",
            "tensor([[0.1359, 0.1739],\n",
            "        [0.3204, 0.6843]], dtype=torch.float64)\n",
            "\n",
            "from tensor to np\n",
            "<class 'numpy.ndarray'> <class 'torch.Tensor'>\n",
            "\n"
          ]
        }
      ]
    },
    {
      "cell_type": "markdown",
      "source": [
        "## Basic Math w Pytorch"
      ],
      "metadata": {
        "id": "ICTMIVAvbtYN"
      }
    },
    {
      "cell_type": "code",
      "source": [
        "tensor = torch.ones(3,3)\n",
        "print(tensor)"
      ],
      "metadata": {
        "colab": {
          "base_uri": "https://localhost:8080/"
        },
        "id": "7WDjeKgHblp8",
        "outputId": "8b061aa4-582c-489f-d54f-c832b34b4c96"
      },
      "execution_count": 6,
      "outputs": [
        {
          "output_type": "stream",
          "name": "stdout",
          "text": [
            "tensor([[1., 1., 1.],\n",
            "        [1., 1., 1.],\n",
            "        [1., 1., 1.]])\n"
          ]
        }
      ]
    },
    {
      "cell_type": "code",
      "source": [
        "# resize\n",
        "print(tensor.view(9).shape)\n",
        "print(tensor.view(9))"
      ],
      "metadata": {
        "colab": {
          "base_uri": "https://localhost:8080/"
        },
        "id": "D5BRFTEeb0tN",
        "outputId": "f9f46869-dc94-4a9a-d517-d465b990a51d"
      },
      "execution_count": 7,
      "outputs": [
        {
          "output_type": "stream",
          "name": "stdout",
          "text": [
            "torch.Size([9])\n",
            "tensor([1., 1., 1., 1., 1., 1., 1., 1., 1.])\n"
          ]
        }
      ]
    },
    {
      "cell_type": "code",
      "source": [
        "# addition\n",
        "print(\"Addition \\n{}\".format(torch.add(tensor, tensor)))"
      ],
      "metadata": {
        "colab": {
          "base_uri": "https://localhost:8080/"
        },
        "id": "TIkmpQEkb_Pq",
        "outputId": "6a3bddcd-0290-4afe-beaf-fc5e86f1d67d"
      },
      "execution_count": 8,
      "outputs": [
        {
          "output_type": "stream",
          "name": "stdout",
          "text": [
            "Addition \n",
            "tensor([[2., 2., 2.],\n",
            "        [2., 2., 2.],\n",
            "        [2., 2., 2.]])\n"
          ]
        }
      ]
    },
    {
      "cell_type": "code",
      "source": [
        "# subtraction\n",
        "print(\"Subtraction \\n{}\".format(tensor.sub(tensor)))"
      ],
      "metadata": {
        "colab": {
          "base_uri": "https://localhost:8080/"
        },
        "id": "ZsXHI3YOcGGz",
        "outputId": "6ec16715-b31b-406c-ab00-ee1bc8f25b28"
      },
      "execution_count": 9,
      "outputs": [
        {
          "output_type": "stream",
          "name": "stdout",
          "text": [
            "Subtraction \n",
            "tensor([[0., 0., 0.],\n",
            "        [0., 0., 0.],\n",
            "        [0., 0., 0.]])\n"
          ]
        }
      ]
    },
    {
      "cell_type": "code",
      "source": [
        "# element-wise multiplication\n",
        "print(\"Element-Wise Multiplication \\n{}\".format(torch.mul(tensor, tensor)))"
      ],
      "metadata": {
        "colab": {
          "base_uri": "https://localhost:8080/"
        },
        "id": "dsFEZFqwcP7-",
        "outputId": "7fea5416-a903-4139-c877-8b27e8b85af5"
      },
      "execution_count": 10,
      "outputs": [
        {
          "output_type": "stream",
          "name": "stdout",
          "text": [
            "Element-Wise Multiplication \n",
            "tensor([[1., 1., 1.],\n",
            "        [1., 1., 1.],\n",
            "        [1., 1., 1.]])\n"
          ]
        }
      ]
    },
    {
      "cell_type": "code",
      "source": [
        "# element-wise division\n",
        "print(\"Element-Wise Division \\n{}\".format(torch.div(tensor, tensor)))"
      ],
      "metadata": {
        "colab": {
          "base_uri": "https://localhost:8080/"
        },
        "id": "s_ToWTatcavR",
        "outputId": "0e402e34-3c3a-4b1c-a005-e965a5b5e8b9"
      },
      "execution_count": 11,
      "outputs": [
        {
          "output_type": "stream",
          "name": "stdout",
          "text": [
            "Element-Wise Division \n",
            "tensor([[1., 1., 1.],\n",
            "        [1., 1., 1.],\n",
            "        [1., 1., 1.]])\n"
          ]
        }
      ]
    },
    {
      "cell_type": "code",
      "source": [
        "print(\"Mean : {}\".format(tensor.mean()))    # mean\n",
        "print(\"Std : {}\".format(tensor.std()))      # std"
      ],
      "metadata": {
        "colab": {
          "base_uri": "https://localhost:8080/"
        },
        "id": "fwateh_hciOr",
        "outputId": "10f5ba27-3e63-4c58-cc3f-16ac96cd68ee"
      },
      "execution_count": 12,
      "outputs": [
        {
          "output_type": "stream",
          "name": "stdout",
          "text": [
            "Mean : 1.0\n",
            "Std : 0.0\n"
          ]
        }
      ]
    },
    {
      "cell_type": "markdown",
      "source": [
        "## Variable\n",
        "- Difference between variables and tensor is variable accumulates gradients\n",
        "- In order to make back prop we need variables"
      ],
      "metadata": {
        "id": "6VmQUAkSc5gd"
      }
    },
    {
      "cell_type": "code",
      "source": [
        "from torch.autograd import Variable\n",
        "var = Variable(torch.ones(3), requires_grad=True)\n",
        "var"
      ],
      "metadata": {
        "colab": {
          "base_uri": "https://localhost:8080/"
        },
        "id": "42-BkrJGcv74",
        "outputId": "31c07165-2a9c-4ca9-b014-8df7a46b2346"
      },
      "execution_count": 13,
      "outputs": [
        {
          "output_type": "execute_result",
          "data": {
            "text/plain": [
              "tensor([1., 1., 1.], requires_grad=True)"
            ]
          },
          "metadata": {},
          "execution_count": 13
        }
      ]
    },
    {
      "cell_type": "markdown",
      "source": [
        "$y = x^2$\n",
        "- define x=[2,4]\n",
        "- find y=[4,16]"
      ],
      "metadata": {
        "id": "58WlGfMedKEH"
      }
    },
    {
      "cell_type": "code",
      "source": [
        "# define x\n",
        "array = [2,4]\n",
        "tensor = torch.Tensor(array)\n",
        "\n",
        "x = Variable(tensor, requires_grad=True)\n",
        "y = x**2\n",
        "\n",
        "print('y = ', y)"
      ],
      "metadata": {
        "colab": {
          "base_uri": "https://localhost:8080/"
        },
        "id": "YN98xnOMdA2m",
        "outputId": "5e18be53-6765-44c2-a3b2-07664d453629"
      },
      "execution_count": 14,
      "outputs": [
        {
          "output_type": "stream",
          "name": "stdout",
          "text": [
            "y =  tensor([ 4., 16.], grad_fn=<PowBackward0>)\n"
          ]
        }
      ]
    },
    {
      "cell_type": "code",
      "source": [
        "o = (1/2)*sum(y)\n",
        "print('o = ', o)"
      ],
      "metadata": {
        "colab": {
          "base_uri": "https://localhost:8080/"
        },
        "id": "N7hikSLVdntJ",
        "outputId": "7e8e3e5d-bf12-4ac0-f67a-c985eefc0a44"
      },
      "execution_count": 15,
      "outputs": [
        {
          "output_type": "stream",
          "name": "stdout",
          "text": [
            "o =  tensor(10., grad_fn=<MulBackward0>)\n"
          ]
        }
      ]
    },
    {
      "cell_type": "code",
      "source": [
        "o.backward() # calculates gradients\n",
        "print('gradients : ', x.grad)"
      ],
      "metadata": {
        "colab": {
          "base_uri": "https://localhost:8080/"
        },
        "id": "PM7GdUu4du0B",
        "outputId": "ac072617-54d9-4035-9e8d-eb4daf83a2e9"
      },
      "execution_count": 16,
      "outputs": [
        {
          "output_type": "stream",
          "name": "stdout",
          "text": [
            "gradients :  tensor([2., 4.])\n"
          ]
        }
      ]
    },
    {
      "cell_type": "markdown",
      "source": [
        "## Linear Regression"
      ],
      "metadata": {
        "id": "0qgvVHKJexdJ"
      }
    },
    {
      "cell_type": "code",
      "source": [
        "car_prices_array = [3,4,5,6,7,8,9]\n",
        "car_prices_np = np.array(car_prices_array, dtype=np.float32)\n",
        "car_prices_np = car_prices_np.reshape(-1,1)\n",
        "car_price_tensor = Variable(torch.from_numpy(car_prices_np))"
      ],
      "metadata": {
        "id": "0jIa2cpgdxyE"
      },
      "execution_count": 17,
      "outputs": []
    },
    {
      "cell_type": "code",
      "source": [
        "num_of_car_sell_array = [ 7.5, 7., 6.5, 6., 5.5, 5., 4.5]\n",
        "num_of_car_sell_np = np.array(num_of_car_sell_array, dtype=np.float32)\n",
        "num_of_car_sell_np = num_of_car_sell_np.reshape(-1,1)\n",
        "num_of_car_sell_tensor = Variable(torch.from_numpy(num_of_car_sell_np))"
      ],
      "metadata": {
        "id": "t1crMqWCfDmI"
      },
      "execution_count": 18,
      "outputs": []
    },
    {
      "cell_type": "code",
      "source": [
        "import matplotlib.pyplot as plt\n",
        "\n",
        "plt.scatter(car_prices_array, num_of_car_sell_array)\n",
        "plt.xlabel(\"Car Price $\")\n",
        "plt.ylabel(\"Num of Car Sell\")\n",
        "plt.title(\"Car Prices $ VS. Num of Car Sell\")\n",
        "plt.show()"
      ],
      "metadata": {
        "colab": {
          "base_uri": "https://localhost:8080/",
          "height": 472
        },
        "id": "7JgdP48wfkC7",
        "outputId": "6d95a88c-5c84-4108-dc81-9bbcc3d3b60f"
      },
      "execution_count": 19,
      "outputs": [
        {
          "output_type": "display_data",
          "data": {
            "text/plain": [
              "<Figure size 640x480 with 1 Axes>"
            ],
            "image/png": "[encoded data removed]"
          },
          "metadata": {}
        }
      ]
    },
    {
      "cell_type": "markdown",
      "source": [
        "Linear Regression with Pytorch"
      ],
      "metadata": {
        "id": "4VME0G8gf3ev"
      }
    },
    {
      "cell_type": "code",
      "source": [
        "import torch\n",
        "from torch.autograd import Variable\n",
        "import torch.nn as nn\n",
        "import warnings\n",
        "warnings.filterwarnings('ignore')"
      ],
      "metadata": {
        "id": "cZ292Y-ffz3J"
      },
      "execution_count": 20,
      "outputs": []
    },
    {
      "cell_type": "code",
      "source": [
        "class LinearRegression(nn.Module):\n",
        "    def __init__(self, input_size, output_size):\n",
        "        super(LinearRegression, self).__init__()\n",
        "        self.linear = nn.Linear(input_dim, output_dim)\n",
        "\n",
        "    def forward(self, x):\n",
        "        return self.linear(x)"
      ],
      "metadata": {
        "id": "kbgAUvejgAu6"
      },
      "execution_count": 21,
      "outputs": []
    },
    {
      "cell_type": "code",
      "source": [
        "input_dim = 1\n",
        "output_dim = 1\n",
        "model = LinearRegression(input_dim, output_dim)\n",
        "\n",
        "mse = nn.MSELoss()\n",
        "\n",
        "learning_rate = 0.02\n",
        "optimizer = torch.optim.SGD(model.parameters(), lr=learning_rate)"
      ],
      "metadata": {
        "id": "D9-xXeH0gTGb"
      },
      "execution_count": 22,
      "outputs": []
    },
    {
      "cell_type": "code",
      "source": [
        "loss_list = []\n",
        "iteration_num = 1001\n",
        "\n",
        "for iteration in range(iteration_num):\n",
        "    optimizer.zero_grad()\n",
        "\n",
        "    results = model(car_price_tensor)\n",
        "    loss = mse(results, num_of_car_sell_tensor)\n",
        "    loss.backward()\n",
        "    optimizer.step()\n",
        "    loss_list.append(loss.data)\n",
        "\n",
        "    if (iteration % 50 == 0):\n",
        "        print('epoch {}, loss {}'.format(iteration, loss.data))\n",
        "\n",
        "plt.plot(range(iteration_num), loss_list)\n",
        "plt.xlabel(\"Number of Iterations\")\n",
        "plt.ylabel(\"Loss\")\n",
        "plt.show()"
      ],
      "metadata": {
        "colab": {
          "base_uri": "https://localhost:8080/",
          "height": 814
        },
        "id": "9atyPWmXgZFD",
        "outputId": "a28d4698-cfcc-4fa1-df92-19ba1a283fb2"
      },
      "execution_count": 23,
      "outputs": [
        {
          "output_type": "stream",
          "name": "stdout",
          "text": [
            "epoch 0, loss 10.514286994934082\n",
            "epoch 50, loss 6.262673854827881\n",
            "epoch 100, loss 4.2319512367248535\n",
            "epoch 150, loss 2.8597071170806885\n",
            "epoch 200, loss 1.9324252605438232\n",
            "epoch 250, loss 1.3058208227157593\n",
            "epoch 300, loss 0.8823986053466797\n",
            "epoch 350, loss 0.5962740778923035\n",
            "epoch 400, loss 0.4029276967048645\n",
            "epoch 450, loss 0.2722751498222351\n",
            "epoch 500, loss 0.1839876025915146\n",
            "epoch 550, loss 0.12432799488306046\n",
            "epoch 600, loss 0.08401361852884293\n",
            "epoch 650, loss 0.05677150562405586\n",
            "epoch 700, loss 0.038363195955753326\n",
            "epoch 750, loss 0.025923749431967735\n",
            "epoch 800, loss 0.017518039792776108\n",
            "epoch 850, loss 0.011837847530841827\n",
            "epoch 900, loss 0.007999233901500702\n",
            "epoch 950, loss 0.005405473988503218\n",
            "epoch 1000, loss 0.003652736311778426\n"
          ]
        },
        {
          "output_type": "display_data",
          "data": {
            "text/plain": [
              "<Figure size 640x480 with 1 Axes>"
            ],
            "image/png": "[encoded data removed]"
          },
          "metadata": {}
        }
      ]
    },
    {
      "cell_type": "code",
      "source": [
        "predicted = model(car_price_tensor).data.numpy()\n",
        "plt.scatter(car_prices_array, num_of_car_sell_array, label='original data', color='r')\n",
        "plt.scatter(car_prices_array, predicted, label='predicted data', color='b')\n",
        "\n",
        "plt.legend()\n",
        "plt.xlabel('Car Price $')\n",
        "plt.ylabel('Number of Car Sell')\n",
        "plt.title('Original vs. Predicted Values')\n",
        "plt.show()"
      ],
      "metadata": {
        "colab": {
          "base_uri": "https://localhost:8080/",
          "height": 472
        },
        "id": "HFPWOlNShcQr",
        "outputId": "988d9ab4-64a2-4a0a-bbea-707e9646c6f2"
      },
      "execution_count": 24,
      "outputs": [
        {
          "output_type": "display_data",
          "data": {
            "text/plain": [
              "<Figure size 640x480 with 1 Axes>"
            ],
            "image/png": "[encoded data removed]"
          },
          "metadata": {}
        }
      ]
    },
    {
      "cell_type": "markdown",
      "source": [
        "## Logistic Regression"
      ],
      "metadata": {
        "id": "f7s9xwaOhWgI"
      }
    },
    {
      "cell_type": "code",
      "source": [
        "import torch\n",
        "import torch.nn as nn\n",
        "from torch.autograd import Variable\n",
        "from torch.utils.data import DataLoader\n",
        "import pandas as pd\n",
        "from sklearn.model_selection import train_test_split"
      ],
      "metadata": {
        "id": "mW5cEACehAl6"
      },
      "execution_count": 25,
      "outputs": []
    },
    {
      "cell_type": "code",
      "source": [
        "train = pd.read_csv('train.csv', dtype = np.float32)\n",
        "\n",
        "targets_numpy = train.label.values\n",
        "features_numpy = train.loc[:, train.columns != 'label'].values/255\n",
        "\n",
        "features_train, features_test, targets_train, targets_test = train_test_split(features_numpy, targets_numpy, test_size = 0.2, random_state = 42)\n",
        "\n",
        "featuresTrain = torch.from_numpy(features_train)\n",
        "targetsTrain = torch.from_numpy(targets_train).type(torch.LongTensor)\n",
        "\n",
        "featuresTest = torch.from_numpy(features_test)\n",
        "targetsTest = torch.from_numpy(targets_test).type(torch.LongTensor)"
      ],
      "metadata": {
        "id": "-0qLfX6Sh8qZ"
      },
      "execution_count": 26,
      "outputs": []
    },
    {
      "cell_type": "code",
      "source": [
        "batch_size = 100\n",
        "n_iters = 10000\n",
        "num_epochs = n_iters / (len(features_train) / batch_size)\n",
        "num_epochs = int(num_epochs)\n",
        "\n",
        "train = torch.utils.data.TensorDataset(featuresTrain,targetsTrain)\n",
        "test = torch.utils.data.TensorDataset(featuresTest,targetsTest)\n",
        "\n",
        "train_loader = DataLoader(train, batch_size = batch_size, shuffle = False)\n",
        "test_loader = DataLoader(test, batch_size = batch_size, shuffle = False)\n",
        "\n",
        "plt.imshow(features_numpy[10].reshape(28,28))\n",
        "plt.axis(\"off\")\n",
        "plt.title(str(targets_numpy[10]))\n",
        "plt.savefig('graph.png')\n",
        "plt.show()"
      ],
      "metadata": {
        "colab": {
          "base_uri": "https://localhost:8080/",
          "height": 428
        },
        "id": "4l2ZN-Y9jI3u",
        "outputId": "14acd2d1-324f-4288-c52c-f253d944561e"
      },
      "execution_count": 27,
      "outputs": [
        {
          "output_type": "display_data",
          "data": {
            "text/plain": [
              "<Figure size 640x480 with 1 Axes>"
            ],
            "image/png": "[encoded data removed]"
          },
          "metadata": {}
        }
      ]
    },
    {
      "cell_type": "code",
      "source": [
        "class LogisticRegressionModel(nn.Module):\n",
        "    def __init__(self, input_dim, output_dim):\n",
        "        super(LogisticRegressionModel, self).__init__()\n",
        "        self.linear = nn.Linear(input_dim, output_dim)\n",
        "\n",
        "    def forward(self, x):\n",
        "        out = self.linear(x)\n",
        "        return out\n",
        "\n",
        "input_dim = 28*28\n",
        "output_dim = 10\n",
        "\n",
        "model = LogisticRegressionModel(input_dim, output_dim)\n",
        "error = nn.CrossEntropyLoss()\n",
        "\n",
        "learning_rate = 0.001\n",
        "optimizer = torch.optim.SGD(model.parameters(), lr=learning_rate)"
      ],
      "metadata": {
        "id": "SgWPtXQQjMr2"
      },
      "execution_count": 28,
      "outputs": []
    },
    {
      "cell_type": "code",
      "source": [
        "count = 0\n",
        "loss_list = []\n",
        "iteration_list = []\n",
        "\n",
        "for epoch in range(num_epochs):\n",
        "    for i, (images, labels) in enumerate(train_loader):\n",
        "        train = Variable(images.view(-1, 28*28))\n",
        "        labels = Variable(labels)\n",
        "\n",
        "        optimizer.zero_grad()\n",
        "        outputs = model(train)\n",
        "        loss = error(outputs, labels)\n",
        "        loss.backward()\n",
        "        optimizer.step()\n",
        "\n",
        "        count += 1\n",
        "\n",
        "        if count % 50 == 0:\n",
        "            correct = 0\n",
        "            total = 0\n",
        "\n",
        "            for images, labels in test_loader:\n",
        "                test = Variable(images.view(-1, 28*28))\n",
        "                outputs = model(test)\n",
        "                predicted = torch.max(outputs.data, 1)[1]\n",
        "\n",
        "                total += len(labels)\n",
        "                correct += (predicted == labels).sum()\n",
        "\n",
        "            accuracy = 100 * correct / float(total)\n",
        "\n",
        "            loss_list.append(loss.data)\n",
        "            iteration_list.append(count)\n",
        "\n",
        "        if count % 500 == 0:\n",
        "            print('Iteration: {}  Loss: {}  Accuracy: {}%'.format(count, loss.data, accuracy))"
      ],
      "metadata": {
        "colab": {
          "base_uri": "https://localhost:8080/"
        },
        "id": "NqeCy8KejUo1",
        "outputId": "b158e0be-d149-4fee-a603-e898a9f66c8f"
      },
      "execution_count": 29,
      "outputs": [
        {
          "output_type": "stream",
          "name": "stdout",
          "text": [
            "Iteration: 500  Loss: nan  Accuracy: 8.551483154296875%\n",
            "Iteration: 1000  Loss: nan  Accuracy: 8.551483154296875%\n",
            "Iteration: 1500  Loss: nan  Accuracy: 8.551483154296875%\n",
            "Iteration: 2000  Loss: nan  Accuracy: 8.551483154296875%\n",
            "Iteration: 2500  Loss: nan  Accuracy: 8.551483154296875%\n",
            "Iteration: 3000  Loss: nan  Accuracy: 8.551483154296875%\n",
            "Iteration: 3500  Loss: nan  Accuracy: 8.551483154296875%\n",
            "Iteration: 4000  Loss: nan  Accuracy: 8.551483154296875%\n",
            "Iteration: 4500  Loss: nan  Accuracy: 8.551483154296875%\n",
            "Iteration: 5000  Loss: nan  Accuracy: 8.551483154296875%\n",
            "Iteration: 5500  Loss: nan  Accuracy: 8.551483154296875%\n",
            "Iteration: 6000  Loss: nan  Accuracy: 8.551483154296875%\n",
            "Iteration: 6500  Loss: nan  Accuracy: 8.551483154296875%\n",
            "Iteration: 7000  Loss: nan  Accuracy: 8.551483154296875%\n",
            "Iteration: 7500  Loss: nan  Accuracy: 8.551483154296875%\n",
            "Iteration: 8000  Loss: nan  Accuracy: 8.551483154296875%\n",
            "Iteration: 8500  Loss: nan  Accuracy: 8.551483154296875%\n",
            "Iteration: 9000  Loss: nan  Accuracy: 8.551483154296875%\n",
            "Iteration: 9500  Loss: nan  Accuracy: 8.551483154296875%\n",
            "Iteration: 10000  Loss: nan  Accuracy: 8.551483154296875%\n"
          ]
        }
      ]
    },
    {
      "cell_type": "code",
      "source": [
        "plt.plot(iteration_list,loss_list)\n",
        "plt.xlabel(\"Number of iteration\")\n",
        "plt.ylabel(\"Loss\")\n",
        "plt.title(\"Logistic Regression: Loss vs Number of iteration\")\n",
        "plt.show()"
      ],
      "metadata": {
        "colab": {
          "base_uri": "https://localhost:8080/",
          "height": 472
        },
        "id": "3IPOdkbKjjew",
        "outputId": "3352208b-37db-42a5-adc8-a472b56193cd"
      },
      "execution_count": 30,
      "outputs": [
        {
          "output_type": "display_data",
          "data": {
            "text/plain": [
              "<Figure size 640x480 with 1 Axes>"
            ],
            "image/png": "[encoded data removed]"
          },
          "metadata": {}
        }
      ]
    },
    {
      "cell_type": "markdown",
      "source": [
        "## ANN"
      ],
      "metadata": {
        "id": "nA5q91akkldB"
      }
    },
    {
      "cell_type": "code",
      "source": [
        "import torch\n",
        "import torch.nn as nn\n",
        "from torch.autograd import Variable"
      ],
      "metadata": {
        "id": "Z4YUttYNkh38"
      },
      "execution_count": 31,
      "outputs": []
    },
    {
      "cell_type": "code",
      "source": [
        "class ANNModel(nn.Module):\n",
        "\n",
        "    def __init__(self, input_dim, hidden_dim, output_dim):\n",
        "        super(ANNModel, self).__init__()\n",
        "\n",
        "        self.fc1 = nn.Linear(input_dim, hidden_dim)\n",
        "        self.relu1 = nn.ReLU()\n",
        "        self.fc2 = nn.Linear(hidden_dim, hidden_dim)\n",
        "        self.tanh2 = nn.Tanh()\n",
        "        self.fc3 = nn.Linear(hidden_dim, hidden_dim)\n",
        "        self.elu3 = nn.ELU()\n",
        "        self.fc4 = nn.Linear(hidden_dim, output_dim)\n",
        "\n",
        "    def forward(self, x):\n",
        "        out = self.fc1(x)\n",
        "        out = self.relu1(out)\n",
        "        out = self.fc2(out)\n",
        "        out = self.tanh2(out)\n",
        "        out = self.fc3(out)\n",
        "        out = self.elu3(out)\n",
        "        out = self.fc4(out)\n",
        "        return out\n",
        "\n",
        "input_dim = 28*28\n",
        "hidden_dim = 150\n",
        "output_dim = 10\n",
        "\n",
        "model = ANNModel(input_dim, hidden_dim, output_dim)\n",
        "error = nn.CrossEntropyLoss()\n",
        "\n",
        "learning_rate = 0.02\n",
        "optimizer = torch.optim.SGD(model.parameters(), lr=learning_rate)"
      ],
      "metadata": {
        "id": "bjwcV9ISknUP"
      },
      "execution_count": 32,
      "outputs": []
    },
    {
      "cell_type": "code",
      "source": [
        "count = 0\n",
        "loss_list = []\n",
        "iteration_list = []\n",
        "accuracy_list = []\n",
        "\n",
        "for epoch in range(num_epochs):\n",
        "    for i, (images, labels) in enumerate(train_loader):\n",
        "        train = Variable(images.view(-1, 28*28))\n",
        "        labels = Variable(labels)\n",
        "        optimizer.zero_grad()\n",
        "        outputs = model(train)\n",
        "        loss = error(outputs, labels)\n",
        "        loss.backward()\n",
        "        optimizer.step()\n",
        "\n",
        "        count += 1\n",
        "\n",
        "        if count % 50 == 0:\n",
        "            correct = 0\n",
        "            total = 0\n",
        "\n",
        "            for images, labels in test_loader:\n",
        "\n",
        "                test = Variable(images.view(-1, 28*28))\n",
        "\n",
        "                outputs = model(test)\n",
        "                predicted = torch.max(outputs.data, 1)[1]\n",
        "\n",
        "                total += len(labels)\n",
        "                correct += (predicted == labels).sum()\n",
        "\n",
        "            accuracy = 100 * correct / float(total)\n",
        "\n",
        "            loss_list.append(loss.data)\n",
        "            iteration_list.append(count)\n",
        "            accuracy_list.append(accuracy)\n",
        "        if count % 500 == 0:\n",
        "            print('Iteration: {}  Loss: {}  Accuracy: {} %'.format(count, loss.data, accuracy))"
      ],
      "metadata": {
        "colab": {
          "base_uri": "https://localhost:8080/"
        },
        "id": "kuh1ik7Gkuan",
        "outputId": "17878d46-7fcd-40a5-e66d-8c8dc4c7ad86"
      },
      "execution_count": 33,
      "outputs": [
        {
          "output_type": "stream",
          "name": "stdout",
          "text": [
            "Iteration: 500  Loss: nan  Accuracy: 8.551483154296875 %\n",
            "Iteration: 1000  Loss: nan  Accuracy: 8.551483154296875 %\n",
            "Iteration: 1500  Loss: nan  Accuracy: 8.551483154296875 %\n",
            "Iteration: 2000  Loss: nan  Accuracy: 8.551483154296875 %\n",
            "Iteration: 2500  Loss: nan  Accuracy: 8.551483154296875 %\n",
            "Iteration: 3000  Loss: nan  Accuracy: 8.551483154296875 %\n",
            "Iteration: 3500  Loss: nan  Accuracy: 8.551483154296875 %\n",
            "Iteration: 4000  Loss: nan  Accuracy: 8.551483154296875 %\n",
            "Iteration: 4500  Loss: nan  Accuracy: 8.551483154296875 %\n",
            "Iteration: 5000  Loss: nan  Accuracy: 8.551483154296875 %\n",
            "Iteration: 5500  Loss: nan  Accuracy: 8.551483154296875 %\n",
            "Iteration: 6000  Loss: nan  Accuracy: 8.551483154296875 %\n",
            "Iteration: 6500  Loss: nan  Accuracy: 8.551483154296875 %\n",
            "Iteration: 7000  Loss: nan  Accuracy: 8.551483154296875 %\n",
            "Iteration: 7500  Loss: nan  Accuracy: 8.551483154296875 %\n",
            "Iteration: 8000  Loss: nan  Accuracy: 8.551483154296875 %\n",
            "Iteration: 8500  Loss: nan  Accuracy: 8.551483154296875 %\n",
            "Iteration: 9000  Loss: nan  Accuracy: 8.551483154296875 %\n",
            "Iteration: 9500  Loss: nan  Accuracy: 8.551483154296875 %\n",
            "Iteration: 10000  Loss: nan  Accuracy: 8.551483154296875 %\n"
          ]
        }
      ]
    },
    {
      "cell_type": "code",
      "source": [
        "# visualization loss\n",
        "plt.plot(iteration_list,loss_list)\n",
        "plt.xlabel(\"Number of iteration\")\n",
        "plt.ylabel(\"Loss\")\n",
        "plt.title(\"ANN: Loss vs Number of iteration\")\n",
        "plt.show()"
      ],
      "metadata": {
        "colab": {
          "base_uri": "https://localhost:8080/",
          "height": 472
        },
        "id": "Vt0EaQt_kqKk",
        "outputId": "5b175042-80c2-432b-bf9d-345242a5d2bf"
      },
      "execution_count": 36,
      "outputs": [
        {
          "output_type": "display_data",
          "data": {
            "text/plain": [
              "<Figure size 640x480 with 1 Axes>"
            ],
            "image/png": "[encoded data removed]"
          },
          "metadata": {}
        }
      ]
    },
    {
      "cell_type": "code",
      "source": [
        "# visualization accuracy\n",
        "plt.plot(iteration_list,accuracy_list,color = \"red\")\n",
        "plt.xlabel(\"Number of iteration\")\n",
        "plt.ylabel(\"Accuracy\")\n",
        "plt.title(\"ANN: Accuracy vs Number of iteration\")\n",
        "plt.show()"
      ],
      "metadata": {
        "colab": {
          "base_uri": "https://localhost:8080/",
          "height": 472
        },
        "id": "mAKM6sWkkyzK",
        "outputId": "5c6dc247-db83-4697-8996-1346649ed085"
      },
      "execution_count": 37,
      "outputs": [
        {
          "output_type": "display_data",
          "data": {
            "text/plain": [
              "<Figure size 640x480 with 1 Axes>"
            ],
            "image/png": "[encoded data removed]"
          },
          "metadata": {}
        }
      ]
    },
    {
      "cell_type": "code",
      "source": [],
      "metadata": {
        "id": "WU05jUbjl4c0"
      },
      "execution_count": null,
      "outputs": []
    }
  ]
}