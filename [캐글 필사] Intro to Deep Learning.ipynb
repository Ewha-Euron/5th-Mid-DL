{
  "nbformat": 4,
  "nbformat_minor": 0,
  "metadata": {
    "colab": {
      "provenance": []
    },
    "kernelspec": {
      "name": "python3",
      "display_name": "Python 3"
    },
    "language_info": {
      "name": "python"
    }
  },
  "cells": [
    {
      "cell_type": "markdown",
      "source": [
        "# Intro to Deep Learning"
      ],
      "metadata": {
        "id": "Q4BBRle-hN13"
      }
    },
    {
      "cell_type": "markdown",
      "source": [
        "# 1. A single Neuron"
      ],
      "metadata": {
        "id": "k9ZVjNgbhRfh"
      }
    },
    {
      "cell_type": "code",
      "execution_count": 89,
      "metadata": {
        "id": "uE5d_4cyElxH"
      },
      "outputs": [],
      "source": [
        "# Setup plotting\n",
        "import matplotlib.pyplot as plt\n",
        "\n",
        "plt.style.use('seaborn-v0_8-whitegrid')\n",
        "# Set Matplotlib defaults\n",
        "plt.rc('figure', autolayout=True)\n",
        "plt.rc('axes', labelweight='bold', labelsize='large',\n",
        "       titleweight='bold', titlesize=18, titlepad=10)"
      ]
    },
    {
      "cell_type": "code",
      "source": [
        "import pandas as pd\n",
        "\n",
        "from google.colab import drive\n",
        "drive.mount('/content/drive')\n",
        "\n",
        "red_wine = pd.read_csv(\"/content/drive/MyDrive/Colab Notebooks/Euron/red-wine.csv\")\n",
        "red_wine.head()"
      ],
      "metadata": {
        "colab": {
          "base_uri": "https://localhost:8080/",
          "height": 279
        },
        "id": "4ia-M7L9hxf9",
        "outputId": "a571a0e1-2179-4aa8-b71b-64a801177e2c"
      },
      "execution_count": 90,
      "outputs": [
        {
          "output_type": "stream",
          "name": "stdout",
          "text": [
            "Drive already mounted at /content/drive; to attempt to forcibly remount, call drive.mount(\"/content/drive\", force_remount=True).\n"
          ]
        },
        {
          "output_type": "execute_result",
          "data": {
            "text/plain": [
              "   fixed acidity  volatile acidity  citric acid  residual sugar  chlorides  \\\n",
              "0            7.4              0.70         0.00             1.9      0.076   \n",
              "1            7.8              0.88         0.00             2.6      0.098   \n",
              "2            7.8              0.76         0.04             2.3      0.092   \n",
              "3           11.2              0.28         0.56             1.9      0.075   \n",
              "4            7.4              0.70         0.00             1.9      0.076   \n",
              "\n",
              "   free sulfur dioxide  total sulfur dioxide  density    pH  sulphates  \\\n",
              "0                 11.0                  34.0   0.9978  3.51       0.56   \n",
              "1                 25.0                  67.0   0.9968  3.20       0.68   \n",
              "2                 15.0                  54.0   0.9970  3.26       0.65   \n",
              "3                 17.0                  60.0   0.9980  3.16       0.58   \n",
              "4                 11.0                  34.0   0.9978  3.51       0.56   \n",
              "\n",
              "   alcohol  quality  \n",
              "0      9.4        5  \n",
              "1      9.8        5  \n",
              "2      9.8        5  \n",
              "3      9.8        6  \n",
              "4      9.4        5  "
            ],
            "text/html": [
              "\n",
              "  <div id=\"df-4873d8d7-513f-4337-9ddf-4ff443488c84\" class=\"colab-df-container\">\n",
              "    <div>\n",
              "<style scoped>\n",
              "    .dataframe tbody tr th:only-of-type {\n",
              "        vertical-align: middle;\n",
              "    }\n",
              "\n",
              "    .dataframe tbody tr th {\n",
              "        vertical-align: top;\n",
              "    }\n",
              "\n",
              "    .dataframe thead th {\n",
              "        text-align: right;\n",
              "    }\n",
              "</style>\n",
              "<table border=\"1\" class=\"dataframe\">\n",
              "  <thead>\n",
              "    <tr style=\"text-align: right;\">\n",
              "      <th></th>\n",
              "      <th>fixed acidity</th>\n",
              "      <th>volatile acidity</th>\n",
              "      <th>citric acid</th>\n",
              "      <th>residual sugar</th>\n",
              "      <th>chlorides</th>\n",
              "      <th>free sulfur dioxide</th>\n",
              "      <th>total sulfur dioxide</th>\n",
              "      <th>density</th>\n",
              "      <th>pH</th>\n",
              "      <th>sulphates</th>\n",
              "      <th>alcohol</th>\n",
              "      <th>quality</th>\n",
              "    </tr>\n",
              "  </thead>\n",
              "  <tbody>\n",
              "    <tr>\n",
              "      <th>0</th>\n",
              "      <td>7.4</td>\n",
              "      <td>0.70</td>\n",
              "      <td>0.00</td>\n",
              "      <td>1.9</td>\n",
              "      <td>0.076</td>\n",
              "      <td>11.0</td>\n",
              "      <td>34.0</td>\n",
              "      <td>0.9978</td>\n",
              "      <td>3.51</td>\n",
              "      <td>0.56</td>\n",
              "      <td>9.4</td>\n",
              "      <td>5</td>\n",
              "    </tr>\n",
              "    <tr>\n",
              "      <th>1</th>\n",
              "      <td>7.8</td>\n",
              "      <td>0.88</td>\n",
              "      <td>0.00</td>\n",
              "      <td>2.6</td>\n",
              "      <td>0.098</td>\n",
              "      <td>25.0</td>\n",
              "      <td>67.0</td>\n",
              "      <td>0.9968</td>\n",
              "      <td>3.20</td>\n",
              "      <td>0.68</td>\n",
              "      <td>9.8</td>\n",
              "      <td>5</td>\n",
              "    </tr>\n",
              "    <tr>\n",
              "      <th>2</th>\n",
              "      <td>7.8</td>\n",
              "      <td>0.76</td>\n",
              "      <td>0.04</td>\n",
              "      <td>2.3</td>\n",
              "      <td>0.092</td>\n",
              "      <td>15.0</td>\n",
              "      <td>54.0</td>\n",
              "      <td>0.9970</td>\n",
              "      <td>3.26</td>\n",
              "      <td>0.65</td>\n",
              "      <td>9.8</td>\n",
              "      <td>5</td>\n",
              "    </tr>\n",
              "    <tr>\n",
              "      <th>3</th>\n",
              "      <td>11.2</td>\n",
              "      <td>0.28</td>\n",
              "      <td>0.56</td>\n",
              "      <td>1.9</td>\n",
              "      <td>0.075</td>\n",
              "      <td>17.0</td>\n",
              "      <td>60.0</td>\n",
              "      <td>0.9980</td>\n",
              "      <td>3.16</td>\n",
              "      <td>0.58</td>\n",
              "      <td>9.8</td>\n",
              "      <td>6</td>\n",
              "    </tr>\n",
              "    <tr>\n",
              "      <th>4</th>\n",
              "      <td>7.4</td>\n",
              "      <td>0.70</td>\n",
              "      <td>0.00</td>\n",
              "      <td>1.9</td>\n",
              "      <td>0.076</td>\n",
              "      <td>11.0</td>\n",
              "      <td>34.0</td>\n",
              "      <td>0.9978</td>\n",
              "      <td>3.51</td>\n",
              "      <td>0.56</td>\n",
              "      <td>9.4</td>\n",
              "      <td>5</td>\n",
              "    </tr>\n",
              "  </tbody>\n",
              "</table>\n",
              "</div>\n",
              "    <div class=\"colab-df-buttons\">\n",
              "\n",
              "  <div class=\"colab-df-container\">\n",
              "    <button class=\"colab-df-convert\" onclick=\"convertToInteractive('df-4873d8d7-513f-4337-9ddf-4ff443488c84')\"\n",
              "            title=\"Convert this dataframe to an interactive table.\"\n",
              "            style=\"display:none;\">\n",
              "\n",
              "  <svg xmlns=\"http://www.w3.org/2000/svg\" height=\"24px\" viewBox=\"0 -960 960 960\">\n",
              "    <path d=\"M120-120v-720h720v720H120Zm60-500h600v-160H180v160Zm220 220h160v-160H400v160Zm0 220h160v-160H400v160ZM180-400h160v-160H180v160Zm440 0h160v-160H620v160ZM180-180h160v-160H180v160Zm440 0h160v-160H620v160Z\"/>\n",
              "  </svg>\n",
              "    </button>\n",
              "\n",
              "  <style>\n",
              "    .colab-df-container {\n",
              "      display:flex;\n",
              "      gap: 12px;\n",
              "    }\n",
              "\n",
              "    .colab-df-convert {\n",
              "      background-color: #E8F0FE;\n",
              "      border: none;\n",
              "      border-radius: 50%;\n",
              "      cursor: pointer;\n",
              "      display: none;\n",
              "      fill: #1967D2;\n",
              "      height: 32px;\n",
              "      padding: 0 0 0 0;\n",
              "      width: 32px;\n",
              "    }\n",
              "\n",
              "    .colab-df-convert:hover {\n",
              "      background-color: #E2EBFA;\n",
              "      box-shadow: 0px 1px 2px rgba(60, 64, 67, 0.3), 0px 1px 3px 1px rgba(60, 64, 67, 0.15);\n",
              "      fill: #174EA6;\n",
              "    }\n",
              "\n",
              "    .colab-df-buttons div {\n",
              "      margin-bottom: 4px;\n",
              "    }\n",
              "\n",
              "    [theme=dark] .colab-df-convert {\n",
              "      background-color: #3B4455;\n",
              "      fill: #D2E3FC;\n",
              "    }\n",
              "\n",
              "    [theme=dark] .colab-df-convert:hover {\n",
              "      background-color: #434B5C;\n",
              "      box-shadow: 0px 1px 3px 1px rgba(0, 0, 0, 0.15);\n",
              "      filter: drop-shadow(0px 1px 2px rgba(0, 0, 0, 0.3));\n",
              "      fill: #FFFFFF;\n",
              "    }\n",
              "  </style>\n",
              "\n",
              "    <script>\n",
              "      const buttonEl =\n",
              "        document.querySelector('#df-4873d8d7-513f-4337-9ddf-4ff443488c84 button.colab-df-convert');\n",
              "      buttonEl.style.display =\n",
              "        google.colab.kernel.accessAllowed ? 'block' : 'none';\n",
              "\n",
              "      async function convertToInteractive(key) {\n",
              "        const element = document.querySelector('#df-4873d8d7-513f-4337-9ddf-4ff443488c84');\n",
              "        const dataTable =\n",
              "          await google.colab.kernel.invokeFunction('convertToInteractive',\n",
              "                                                    [key], {});\n",
              "        if (!dataTable) return;\n",
              "\n",
              "        const docLinkHtml = 'Like what you see? Visit the ' +\n",
              "          '<a target=\"_blank\" href=https://colab.research.google.com/notebooks/data_table.ipynb>data table notebook</a>'\n",
              "          + ' to learn more about interactive tables.';\n",
              "        element.innerHTML = '';\n",
              "        dataTable['output_type'] = 'display_data';\n",
              "        await google.colab.output.renderOutput(dataTable, element);\n",
              "        const docLink = document.createElement('div');\n",
              "        docLink.innerHTML = docLinkHtml;\n",
              "        element.appendChild(docLink);\n",
              "      }\n",
              "    </script>\n",
              "  </div>\n",
              "\n",
              "\n",
              "<div id=\"df-b65f5a52-6402-4808-86aa-e0c271b7229a\">\n",
              "  <button class=\"colab-df-quickchart\" onclick=\"quickchart('df-b65f5a52-6402-4808-86aa-e0c271b7229a')\"\n",
              "            title=\"Suggest charts\"\n",
              "            style=\"display:none;\">\n",
              "\n",
              "<svg xmlns=\"http://www.w3.org/2000/svg\" height=\"24px\"viewBox=\"0 0 24 24\"\n",
              "     width=\"24px\">\n",
              "    <g>\n",
              "        <path d=\"M19 3H5c-1.1 0-2 .9-2 2v14c0 1.1.9 2 2 2h14c1.1 0 2-.9 2-2V5c0-1.1-.9-2-2-2zM9 17H7v-7h2v7zm4 0h-2V7h2v10zm4 0h-2v-4h2v4z\"/>\n",
              "    </g>\n",
              "</svg>\n",
              "  </button>\n",
              "\n",
              "<style>\n",
              "  .colab-df-quickchart {\n",
              "      --bg-color: #E8F0FE;\n",
              "      --fill-color: #1967D2;\n",
              "      --hover-bg-color: #E2EBFA;\n",
              "      --hover-fill-color: #174EA6;\n",
              "      --disabled-fill-color: #AAA;\n",
              "      --disabled-bg-color: #DDD;\n",
              "  }\n",
              "\n",
              "  [theme=dark] .colab-df-quickchart {\n",
              "      --bg-color: #3B4455;\n",
              "      --fill-color: #D2E3FC;\n",
              "      --hover-bg-color: #434B5C;\n",
              "      --hover-fill-color: #FFFFFF;\n",
              "      --disabled-bg-color: #3B4455;\n",
              "      --disabled-fill-color: #666;\n",
              "  }\n",
              "\n",
              "  .colab-df-quickchart {\n",
              "    background-color: var(--bg-color);\n",
              "    border: none;\n",
              "    border-radius: 50%;\n",
              "    cursor: pointer;\n",
              "    display: none;\n",
              "    fill: var(--fill-color);\n",
              "    height: 32px;\n",
              "    padding: 0;\n",
              "    width: 32px;\n",
              "  }\n",
              "\n",
              "  .colab-df-quickchart:hover {\n",
              "    background-color: var(--hover-bg-color);\n",
              "    box-shadow: 0 1px 2px rgba(60, 64, 67, 0.3), 0 1px 3px 1px rgba(60, 64, 67, 0.15);\n",
              "    fill: var(--button-hover-fill-color);\n",
              "  }\n",
              "\n",
              "  .colab-df-quickchart-complete:disabled,\n",
              "  .colab-df-quickchart-complete:disabled:hover {\n",
              "    background-color: var(--disabled-bg-color);\n",
              "    fill: var(--disabled-fill-color);\n",
              "    box-shadow: none;\n",
              "  }\n",
              "\n",
              "  .colab-df-spinner {\n",
              "    border: 2px solid var(--fill-color);\n",
              "    border-color: transparent;\n",
              "    border-bottom-color: var(--fill-color);\n",
              "    animation:\n",
              "      spin 1s steps(1) infinite;\n",
              "  }\n",
              "\n",
              "  @keyframes spin {\n",
              "    0% {\n",
              "      border-color: transparent;\n",
              "      border-bottom-color: var(--fill-color);\n",
              "      border-left-color: var(--fill-color);\n",
              "    }\n",
              "    20% {\n",
              "      border-color: transparent;\n",
              "      border-left-color: var(--fill-color);\n",
              "      border-top-color: var(--fill-color);\n",
              "    }\n",
              "    30% {\n",
              "      border-color: transparent;\n",
              "      border-left-color: var(--fill-color);\n",
              "      border-top-color: var(--fill-color);\n",
              "      border-right-color: var(--fill-color);\n",
              "    }\n",
              "    40% {\n",
              "      border-color: transparent;\n",
              "      border-right-color: var(--fill-color);\n",
              "      border-top-color: var(--fill-color);\n",
              "    }\n",
              "    60% {\n",
              "      border-color: transparent;\n",
              "      border-right-color: var(--fill-color);\n",
              "    }\n",
              "    80% {\n",
              "      border-color: transparent;\n",
              "      border-right-color: var(--fill-color);\n",
              "      border-bottom-color: var(--fill-color);\n",
              "    }\n",
              "    90% {\n",
              "      border-color: transparent;\n",
              "      border-bottom-color: var(--fill-color);\n",
              "    }\n",
              "  }\n",
              "</style>\n",
              "\n",
              "  <script>\n",
              "    async function quickchart(key) {\n",
              "      const quickchartButtonEl =\n",
              "        document.querySelector('#' + key + ' button');\n",
              "      quickchartButtonEl.disabled = true;  // To prevent multiple clicks.\n",
              "      quickchartButtonEl.classList.add('colab-df-spinner');\n",
              "      try {\n",
              "        const charts = await google.colab.kernel.invokeFunction(\n",
              "            'suggestCharts', [key], {});\n",
              "      } catch (error) {\n",
              "        console.error('Error during call to suggestCharts:', error);\n",
              "      }\n",
              "      quickchartButtonEl.classList.remove('colab-df-spinner');\n",
              "      quickchartButtonEl.classList.add('colab-df-quickchart-complete');\n",
              "    }\n",
              "    (() => {\n",
              "      let quickchartButtonEl =\n",
              "        document.querySelector('#df-b65f5a52-6402-4808-86aa-e0c271b7229a button');\n",
              "      quickchartButtonEl.style.display =\n",
              "        google.colab.kernel.accessAllowed ? 'block' : 'none';\n",
              "    })();\n",
              "  </script>\n",
              "</div>\n",
              "    </div>\n",
              "  </div>\n"
            ]
          },
          "metadata": {},
          "execution_count": 90
        }
      ]
    },
    {
      "cell_type": "code",
      "source": [
        "red_wine.shape # (rows, columns)"
      ],
      "metadata": {
        "colab": {
          "base_uri": "https://localhost:8080/"
        },
        "id": "41PXlZiemA3b",
        "outputId": "7ad4d860-afe9-47ee-98f7-e372e883959b"
      },
      "execution_count": 91,
      "outputs": [
        {
          "output_type": "execute_result",
          "data": {
            "text/plain": [
              "(1599, 12)"
            ]
          },
          "metadata": {},
          "execution_count": 91
        }
      ]
    },
    {
      "cell_type": "markdown",
      "source": [
        "1) Input shape"
      ],
      "metadata": {
        "id": "wHe_tJCZmPKZ"
      }
    },
    {
      "cell_type": "code",
      "source": [
        "input_shape = [11]"
      ],
      "metadata": {
        "id": "lgLdCGyLmLG7"
      },
      "execution_count": 92,
      "outputs": []
    },
    {
      "cell_type": "markdown",
      "source": [
        "2) Define a linear model"
      ],
      "metadata": {
        "id": "XZHaNpAVn66j"
      }
    },
    {
      "cell_type": "code",
      "source": [
        "from tensorflow import keras\n",
        "from tensorflow.keras import layers\n",
        "\n",
        "model = keras.Sequential([\n",
        "    layers.Dense(units=1, input_shape=[11])\n",
        "])"
      ],
      "metadata": {
        "id": "0GYKhypkny2X"
      },
      "execution_count": 93,
      "outputs": []
    },
    {
      "cell_type": "markdown",
      "source": [
        "3) Look at the weights"
      ],
      "metadata": {
        "id": "BFMmBudjuL1w"
      }
    },
    {
      "cell_type": "code",
      "source": [
        "w, b = model.weights\n",
        "print(\"Weights\\n{}\\n\\nBias\\n{}\".format(w, b))"
      ],
      "metadata": {
        "colab": {
          "base_uri": "https://localhost:8080/"
        },
        "id": "1SUHwvvquQv0",
        "outputId": "2e7fd352-3d34-4d43-e065-b5138117691b"
      },
      "execution_count": 94,
      "outputs": [
        {
          "output_type": "stream",
          "name": "stdout",
          "text": [
            "Weights\n",
            "<tf.Variable 'dense_48/kernel:0' shape=(11, 1) dtype=float32, numpy=\n",
            "array([[ 0.6069109 ],\n",
            "       [ 0.06421781],\n",
            "       [-0.59586525],\n",
            "       [-0.5046746 ],\n",
            "       [ 0.5211621 ],\n",
            "       [-0.0327397 ],\n",
            "       [-0.57472086],\n",
            "       [ 0.17707205],\n",
            "       [-0.042732  ],\n",
            "       [-0.20124513],\n",
            "       [-0.32792878]], dtype=float32)>\n",
            "\n",
            "Bias\n",
            "<tf.Variable 'dense_48/bias:0' shape=(1,) dtype=float32, numpy=array([0.], dtype=float32)>\n"
          ]
        }
      ]
    },
    {
      "cell_type": "markdown",
      "source": [
        "4) Optional: Plot the output of an untrained linear model"
      ],
      "metadata": {
        "id": "q8NP_jNuuS8f"
      }
    },
    {
      "cell_type": "code",
      "source": [
        "import tensorflow as tf\n",
        "import matplotlib.pyplot as plt\n",
        "\n",
        "model = keras.Sequential([\n",
        "    layers.Dense(1, input_shape=[1]),\n",
        "])\n",
        "\n",
        "x = tf.linspace(-1.0, 1.0, 100)\n",
        "y = model.predict(x)\n",
        "\n",
        "plt.figure(dpi=100)\n",
        "plt.plot(x, y, 'k')\n",
        "plt.xlim(-1, 1)\n",
        "plt.ylim(-1, 1)\n",
        "plt.xlabel(\"Input: x\")\n",
        "plt.ylabel(\"Target y\")\n",
        "\n",
        "w, b = model.weights\n",
        "\n",
        "plt.title(\"Weight: {:0.2f}\\nBias: {:0.2f}\".format(w[0][0], b[0]))\n",
        "plt.show()"
      ],
      "metadata": {
        "colab": {
          "base_uri": "https://localhost:8080/",
          "height": 505
        },
        "id": "6iOF26qyutRc",
        "outputId": "39ebc057-302c-4687-f5e5-d243777fb85f"
      },
      "execution_count": 95,
      "outputs": [
        {
          "output_type": "stream",
          "name": "stdout",
          "text": [
            "4/4 [==============================] - 0s 3ms/step\n"
          ]
        },
        {
          "output_type": "display_data",
          "data": {
            "text/plain": [
              "<Figure size 640x480 with 1 Axes>"
            ],
            "image/png": "[encoded data removed]"
          },
          "metadata": {}
        }
      ]
    },
    {
      "cell_type": "markdown",
      "source": [
        "# 2. Deep Neural Networks"
      ],
      "metadata": {
        "id": "9_cTfUHzwrFu"
      }
    },
    {
      "cell_type": "code",
      "source": [
        "import tensorflow as tf\n",
        "\n",
        "# Setup plotting\n",
        "import matplotlib.pyplot as plt\n",
        "\n",
        "plt.style.use('seaborn-v0_8-whitegrid')\n",
        "# Set Matplotlib defaults\n",
        "plt.rc('figure', autolayout=True)\n",
        "plt.rc('axes', labelweight='bold', labelsize='large',\n",
        "       titleweight='bold', titlesize=18, titlepad=10)"
      ],
      "metadata": {
        "id": "-Nd8dginwG1a"
      },
      "execution_count": 43,
      "outputs": []
    },
    {
      "cell_type": "code",
      "source": [
        "import pandas as pd\n",
        "\n",
        "from google.colab import drive\n",
        "drive.mount('/content/drive')\n",
        "\n",
        "concrete = pd.read_csv(\"/content/drive/MyDrive/Colab Notebooks/Euron/concrete.csv\")\n",
        "concrete.head()"
      ],
      "metadata": {
        "colab": {
          "base_uri": "https://localhost:8080/",
          "height": 245
        },
        "id": "rJsMVpXHxJdE",
        "outputId": "64ce6005-d060-4648-db89-93f964cbdb63"
      },
      "execution_count": 44,
      "outputs": [
        {
          "output_type": "stream",
          "name": "stdout",
          "text": [
            "Drive already mounted at /content/drive; to attempt to forcibly remount, call drive.mount(\"/content/drive\", force_remount=True).\n"
          ]
        },
        {
          "output_type": "execute_result",
          "data": {
            "text/plain": [
              "   Cement  BlastFurnaceSlag  FlyAsh  Water  Superplasticizer  CoarseAggregate  \\\n",
              "0   540.0               0.0     0.0  162.0               2.5           1040.0   \n",
              "1   540.0               0.0     0.0  162.0               2.5           1055.0   \n",
              "2   332.5             142.5     0.0  228.0               0.0            932.0   \n",
              "3   332.5             142.5     0.0  228.0               0.0            932.0   \n",
              "4   198.6             132.4     0.0  192.0               0.0            978.4   \n",
              "\n",
              "   FineAggregate  Age  CompressiveStrength  \n",
              "0          676.0   28                79.99  \n",
              "1          676.0   28                61.89  \n",
              "2          594.0  270                40.27  \n",
              "3          594.0  365                41.05  \n",
              "4          825.5  360                44.30  "
            ],
            "text/html": [
              "\n",
              "  <div id=\"df-44bb01c3-c392-496f-b57f-4c47f2895e44\" class=\"colab-df-container\">\n",
              "    <div>\n",
              "<style scoped>\n",
              "    .dataframe tbody tr th:only-of-type {\n",
              "        vertical-align: middle;\n",
              "    }\n",
              "\n",
              "    .dataframe tbody tr th {\n",
              "        vertical-align: top;\n",
              "    }\n",
              "\n",
              "    .dataframe thead th {\n",
              "        text-align: right;\n",
              "    }\n",
              "</style>\n",
              "<table border=\"1\" class=\"dataframe\">\n",
              "  <thead>\n",
              "    <tr style=\"text-align: right;\">\n",
              "      <th></th>\n",
              "      <th>Cement</th>\n",
              "      <th>BlastFurnaceSlag</th>\n",
              "      <th>FlyAsh</th>\n",
              "      <th>Water</th>\n",
              "      <th>Superplasticizer</th>\n",
              "      <th>CoarseAggregate</th>\n",
              "      <th>FineAggregate</th>\n",
              "      <th>Age</th>\n",
              "      <th>CompressiveStrength</th>\n",
              "    </tr>\n",
              "  </thead>\n",
              "  <tbody>\n",
              "    <tr>\n",
              "      <th>0</th>\n",
              "      <td>540.0</td>\n",
              "      <td>0.0</td>\n",
              "      <td>0.0</td>\n",
              "      <td>162.0</td>\n",
              "      <td>2.5</td>\n",
              "      <td>1040.0</td>\n",
              "      <td>676.0</td>\n",
              "      <td>28</td>\n",
              "      <td>79.99</td>\n",
              "    </tr>\n",
              "    <tr>\n",
              "      <th>1</th>\n",
              "      <td>540.0</td>\n",
              "      <td>0.0</td>\n",
              "      <td>0.0</td>\n",
              "      <td>162.0</td>\n",
              "      <td>2.5</td>\n",
              "      <td>1055.0</td>\n",
              "      <td>676.0</td>\n",
              "      <td>28</td>\n",
              "      <td>61.89</td>\n",
              "    </tr>\n",
              "    <tr>\n",
              "      <th>2</th>\n",
              "      <td>332.5</td>\n",
              "      <td>142.5</td>\n",
              "      <td>0.0</td>\n",
              "      <td>228.0</td>\n",
              "      <td>0.0</td>\n",
              "      <td>932.0</td>\n",
              "      <td>594.0</td>\n",
              "      <td>270</td>\n",
              "      <td>40.27</td>\n",
              "    </tr>\n",
              "    <tr>\n",
              "      <th>3</th>\n",
              "      <td>332.5</td>\n",
              "      <td>142.5</td>\n",
              "      <td>0.0</td>\n",
              "      <td>228.0</td>\n",
              "      <td>0.0</td>\n",
              "      <td>932.0</td>\n",
              "      <td>594.0</td>\n",
              "      <td>365</td>\n",
              "      <td>41.05</td>\n",
              "    </tr>\n",
              "    <tr>\n",
              "      <th>4</th>\n",
              "      <td>198.6</td>\n",
              "      <td>132.4</td>\n",
              "      <td>0.0</td>\n",
              "      <td>192.0</td>\n",
              "      <td>0.0</td>\n",
              "      <td>978.4</td>\n",
              "      <td>825.5</td>\n",
              "      <td>360</td>\n",
              "      <td>44.30</td>\n",
              "    </tr>\n",
              "  </tbody>\n",
              "</table>\n",
              "</div>\n",
              "    <div class=\"colab-df-buttons\">\n",
              "\n",
              "  <div class=\"colab-df-container\">\n",
              "    <button class=\"colab-df-convert\" onclick=\"convertToInteractive('df-44bb01c3-c392-496f-b57f-4c47f2895e44')\"\n",
              "            title=\"Convert this dataframe to an interactive table.\"\n",
              "            style=\"display:none;\">\n",
              "\n",
              "  <svg xmlns=\"http://www.w3.org/2000/svg\" height=\"24px\" viewBox=\"0 -960 960 960\">\n",
              "    <path d=\"M120-120v-720h720v720H120Zm60-500h600v-160H180v160Zm220 220h160v-160H400v160Zm0 220h160v-160H400v160ZM180-400h160v-160H180v160Zm440 0h160v-160H620v160ZM180-180h160v-160H180v160Zm440 0h160v-160H620v160Z\"/>\n",
              "  </svg>\n",
              "    </button>\n",
              "\n",
              "  <style>\n",
              "    .colab-df-container {\n",
              "      display:flex;\n",
              "      gap: 12px;\n",
              "    }\n",
              "\n",
              "    .colab-df-convert {\n",
              "      background-color: #E8F0FE;\n",
              "      border: none;\n",
              "      border-radius: 50%;\n",
              "      cursor: pointer;\n",
              "      display: none;\n",
              "      fill: #1967D2;\n",
              "      height: 32px;\n",
              "      padding: 0 0 0 0;\n",
              "      width: 32px;\n",
              "    }\n",
              "\n",
              "    .colab-df-convert:hover {\n",
              "      background-color: #E2EBFA;\n",
              "      box-shadow: 0px 1px 2px rgba(60, 64, 67, 0.3), 0px 1px 3px 1px rgba(60, 64, 67, 0.15);\n",
              "      fill: #174EA6;\n",
              "    }\n",
              "\n",
              "    .colab-df-buttons div {\n",
              "      margin-bottom: 4px;\n",
              "    }\n",
              "\n",
              "    [theme=dark] .colab-df-convert {\n",
              "      background-color: #3B4455;\n",
              "      fill: #D2E3FC;\n",
              "    }\n",
              "\n",
              "    [theme=dark] .colab-df-convert:hover {\n",
              "      background-color: #434B5C;\n",
              "      box-shadow: 0px 1px 3px 1px rgba(0, 0, 0, 0.15);\n",
              "      filter: drop-shadow(0px 1px 2px rgba(0, 0, 0, 0.3));\n",
              "      fill: #FFFFFF;\n",
              "    }\n",
              "  </style>\n",
              "\n",
              "    <script>\n",
              "      const buttonEl =\n",
              "        document.querySelector('#df-44bb01c3-c392-496f-b57f-4c47f2895e44 button.colab-df-convert');\n",
              "      buttonEl.style.display =\n",
              "        google.colab.kernel.accessAllowed ? 'block' : 'none';\n",
              "\n",
              "      async function convertToInteractive(key) {\n",
              "        const element = document.querySelector('#df-44bb01c3-c392-496f-b57f-4c47f2895e44');\n",
              "        const dataTable =\n",
              "          await google.colab.kernel.invokeFunction('convertToInteractive',\n",
              "                                                    [key], {});\n",
              "        if (!dataTable) return;\n",
              "\n",
              "        const docLinkHtml = 'Like what you see? Visit the ' +\n",
              "          '<a target=\"_blank\" href=https://colab.research.google.com/notebooks/data_table.ipynb>data table notebook</a>'\n",
              "          + ' to learn more about interactive tables.';\n",
              "        element.innerHTML = '';\n",
              "        dataTable['output_type'] = 'display_data';\n",
              "        await google.colab.output.renderOutput(dataTable, element);\n",
              "        const docLink = document.createElement('div');\n",
              "        docLink.innerHTML = docLinkHtml;\n",
              "        element.appendChild(docLink);\n",
              "      }\n",
              "    </script>\n",
              "  </div>\n",
              "\n",
              "\n",
              "<div id=\"df-beba83c8-c147-4eec-ab10-07f3c1a72963\">\n",
              "  <button class=\"colab-df-quickchart\" onclick=\"quickchart('df-beba83c8-c147-4eec-ab10-07f3c1a72963')\"\n",
              "            title=\"Suggest charts\"\n",
              "            style=\"display:none;\">\n",
              "\n",
              "<svg xmlns=\"http://www.w3.org/2000/svg\" height=\"24px\"viewBox=\"0 0 24 24\"\n",
              "     width=\"24px\">\n",
              "    <g>\n",
              "        <path d=\"M19 3H5c-1.1 0-2 .9-2 2v14c0 1.1.9 2 2 2h14c1.1 0 2-.9 2-2V5c0-1.1-.9-2-2-2zM9 17H7v-7h2v7zm4 0h-2V7h2v10zm4 0h-2v-4h2v4z\"/>\n",
              "    </g>\n",
              "</svg>\n",
              "  </button>\n",
              "\n",
              "<style>\n",
              "  .colab-df-quickchart {\n",
              "      --bg-color: #E8F0FE;\n",
              "      --fill-color: #1967D2;\n",
              "      --hover-bg-color: #E2EBFA;\n",
              "      --hover-fill-color: #174EA6;\n",
              "      --disabled-fill-color: #AAA;\n",
              "      --disabled-bg-color: #DDD;\n",
              "  }\n",
              "\n",
              "  [theme=dark] .colab-df-quickchart {\n",
              "      --bg-color: #3B4455;\n",
              "      --fill-color: #D2E3FC;\n",
              "      --hover-bg-color: #434B5C;\n",
              "      --hover-fill-color: #FFFFFF;\n",
              "      --disabled-bg-color: #3B4455;\n",
              "      --disabled-fill-color: #666;\n",
              "  }\n",
              "\n",
              "  .colab-df-quickchart {\n",
              "    background-color: var(--bg-color);\n",
              "    border: none;\n",
              "    border-radius: 50%;\n",
              "    cursor: pointer;\n",
              "    display: none;\n",
              "    fill: var(--fill-color);\n",
              "    height: 32px;\n",
              "    padding: 0;\n",
              "    width: 32px;\n",
              "  }\n",
              "\n",
              "  .colab-df-quickchart:hover {\n",
              "    background-color: var(--hover-bg-color);\n",
              "    box-shadow: 0 1px 2px rgba(60, 64, 67, 0.3), 0 1px 3px 1px rgba(60, 64, 67, 0.15);\n",
              "    fill: var(--button-hover-fill-color);\n",
              "  }\n",
              "\n",
              "  .colab-df-quickchart-complete:disabled,\n",
              "  .colab-df-quickchart-complete:disabled:hover {\n",
              "    background-color: var(--disabled-bg-color);\n",
              "    fill: var(--disabled-fill-color);\n",
              "    box-shadow: none;\n",
              "  }\n",
              "\n",
              "  .colab-df-spinner {\n",
              "    border: 2px solid var(--fill-color);\n",
              "    border-color: transparent;\n",
              "    border-bottom-color: var(--fill-color);\n",
              "    animation:\n",
              "      spin 1s steps(1) infinite;\n",
              "  }\n",
              "\n",
              "  @keyframes spin {\n",
              "    0% {\n",
              "      border-color: transparent;\n",
              "      border-bottom-color: var(--fill-color);\n",
              "      border-left-color: var(--fill-color);\n",
              "    }\n",
              "    20% {\n",
              "      border-color: transparent;\n",
              "      border-left-color: var(--fill-color);\n",
              "      border-top-color: var(--fill-color);\n",
              "    }\n",
              "    30% {\n",
              "      border-color: transparent;\n",
              "      border-left-color: var(--fill-color);\n",
              "      border-top-color: var(--fill-color);\n",
              "      border-right-color: var(--fill-color);\n",
              "    }\n",
              "    40% {\n",
              "      border-color: transparent;\n",
              "      border-right-color: var(--fill-color);\n",
              "      border-top-color: var(--fill-color);\n",
              "    }\n",
              "    60% {\n",
              "      border-color: transparent;\n",
              "      border-right-color: var(--fill-color);\n",
              "    }\n",
              "    80% {\n",
              "      border-color: transparent;\n",
              "      border-right-color: var(--fill-color);\n",
              "      border-bottom-color: var(--fill-color);\n",
              "    }\n",
              "    90% {\n",
              "      border-color: transparent;\n",
              "      border-bottom-color: var(--fill-color);\n",
              "    }\n",
              "  }\n",
              "</style>\n",
              "\n",
              "  <script>\n",
              "    async function quickchart(key) {\n",
              "      const quickchartButtonEl =\n",
              "        document.querySelector('#' + key + ' button');\n",
              "      quickchartButtonEl.disabled = true;  // To prevent multiple clicks.\n",
              "      quickchartButtonEl.classList.add('colab-df-spinner');\n",
              "      try {\n",
              "        const charts = await google.colab.kernel.invokeFunction(\n",
              "            'suggestCharts', [key], {});\n",
              "      } catch (error) {\n",
              "        console.error('Error during call to suggestCharts:', error);\n",
              "      }\n",
              "      quickchartButtonEl.classList.remove('colab-df-spinner');\n",
              "      quickchartButtonEl.classList.add('colab-df-quickchart-complete');\n",
              "    }\n",
              "    (() => {\n",
              "      let quickchartButtonEl =\n",
              "        document.querySelector('#df-beba83c8-c147-4eec-ab10-07f3c1a72963 button');\n",
              "      quickchartButtonEl.style.display =\n",
              "        google.colab.kernel.accessAllowed ? 'block' : 'none';\n",
              "    })();\n",
              "  </script>\n",
              "</div>\n",
              "    </div>\n",
              "  </div>\n"
            ]
          },
          "metadata": {},
          "execution_count": 44
        }
      ]
    },
    {
      "cell_type": "code",
      "source": [
        "concrete.shape"
      ],
      "metadata": {
        "colab": {
          "base_uri": "https://localhost:8080/"
        },
        "id": "lqM6c7KAx-kV",
        "outputId": "9e83333a-b831-4ad3-c7e0-a09089ab3f23"
      },
      "execution_count": 45,
      "outputs": [
        {
          "output_type": "execute_result",
          "data": {
            "text/plain": [
              "(1030, 9)"
            ]
          },
          "metadata": {},
          "execution_count": 45
        }
      ]
    },
    {
      "cell_type": "markdown",
      "source": [
        "1) Input Shape"
      ],
      "metadata": {
        "id": "Ce1a10-Nxihx"
      }
    },
    {
      "cell_type": "code",
      "source": [
        "input_shape = [8]"
      ],
      "metadata": {
        "id": "ZUMgs44nxh4X"
      },
      "execution_count": null,
      "outputs": []
    },
    {
      "cell_type": "markdown",
      "source": [
        "2) Define a Model with Hidden Layers"
      ],
      "metadata": {
        "id": "ovyqgBfCxoat"
      }
    },
    {
      "cell_type": "code",
      "source": [
        "from tensorflow import keras\n",
        "from tensorflow.keras import layers\n",
        "\n",
        "model = keras.Sequential([\n",
        "    # the hidden ReLU layers\n",
        "    layers.Dense(units=512, activation='relu', input_shape=[8]),\n",
        "    layers.Dense(units=512, activation='relu'),\n",
        "    layers.Dense(units=512, activation='relu'),\n",
        "    # the linear output layer\n",
        "    layers.Dense(units=1),\n",
        "])"
      ],
      "metadata": {
        "id": "AtRvqGgkxeV3"
      },
      "execution_count": 46,
      "outputs": []
    },
    {
      "cell_type": "markdown",
      "source": [
        "3) Activation Layers"
      ],
      "metadata": {
        "id": "7JVp3Ng1ypya"
      }
    },
    {
      "cell_type": "code",
      "source": [
        "model = keras.Sequential([\n",
        "    layers.Dense(32, input_shape=[8]),\n",
        "    layers.Activation('relu'),\n",
        "    layers.Dense(32),\n",
        "    layers.Activation('relu'),\n",
        "    layers.Dense(1),\n",
        "])"
      ],
      "metadata": {
        "id": "nscm0MVtymYa"
      },
      "execution_count": 47,
      "outputs": []
    },
    {
      "cell_type": "markdown",
      "source": [
        "4) Optional: Alternatives to ReLU"
      ],
      "metadata": {
        "id": "BIJgOGOIz6VS"
      }
    },
    {
      "cell_type": "code",
      "source": [
        "activation_layer = layers.Activation('relu')\n",
        "\n",
        "x = tf.linspace(-3.0, 3.0, 100)\n",
        "y = activation_layer(x) # once created, a layer is callable just like a function\n",
        "\n",
        "plt.figure(dpi=100)\n",
        "plt.plot(x, y)\n",
        "plt.xlim(-3, 3)\n",
        "plt.xlabel(\"Input\")\n",
        "plt.ylabel(\"Output\")\n",
        "plt.show()"
      ],
      "metadata": {
        "colab": {
          "base_uri": "https://localhost:8080/",
          "height": 486
        },
        "id": "mOhycJBq0CIL",
        "outputId": "fe35810e-40c1-48fc-b57d-02660585448a"
      },
      "execution_count": 48,
      "outputs": [
        {
          "output_type": "display_data",
          "data": {
            "text/plain": [
              "<Figure size 640x480 with 1 Axes>"
            ],
            "image/png": "[encoded data removed]"
          },
          "metadata": {}
        }
      ]
    },
    {
      "cell_type": "markdown",
      "source": [
        "# 3. Stochastic Gradient Descent"
      ],
      "metadata": {
        "id": "9ToPocmG0lX_"
      }
    },
    {
      "cell_type": "code",
      "source": [
        "# Setup plotting\n",
        "import matplotlib.pyplot as plt\n",
        "plt.style.use('seaborn-v0_8-whitegrid')\n",
        "# Set Matplotlib defaults\n",
        "plt.rc('figure', autolayout=True)\n",
        "plt.rc('axes', labelweight='bold', labelsize='large',\n",
        "       titleweight='bold', titlesize=18, titlepad=10)\n",
        "plt.rc('animation', html='html5')"
      ],
      "metadata": {
        "id": "moqiLrFp0CmP"
      },
      "execution_count": 50,
      "outputs": []
    },
    {
      "cell_type": "code",
      "source": [
        "import numpy as np\n",
        "import pandas as pd\n",
        "from sklearn.preprocessing import StandardScaler, OneHotEncoder\n",
        "from sklearn.compose import make_column_transformer, make_column_selector\n",
        "from sklearn.model_selection import train_test_split\n",
        "\n",
        "from google.colab import drive\n",
        "drive.mount('/content/drive')\n",
        "\n",
        "fuel = pd.read_csv(\"/content/drive/MyDrive/Colab Notebooks/Euron/fuel.csv\")\n",
        "\n",
        "X = fuel.copy()\n",
        "# Remove target\n",
        "y = X.pop('FE')\n",
        "\n",
        "preprocessor = make_column_transformer(\n",
        "    (StandardScaler(),\n",
        "     make_column_selector(dtype_include=np.number)),\n",
        "    (OneHotEncoder(sparse=False),\n",
        "     make_column_selector(dtype_include=object)),\n",
        ")\n",
        "\n",
        "X = preprocessor.fit_transform(X)\n",
        "y = np.log(y) # log transform target instead of standardizing\n",
        "\n",
        "input_shape = [X.shape[1]]\n",
        "print(\"Input shape: {}\".format(input_shape))"
      ],
      "metadata": {
        "colab": {
          "base_uri": "https://localhost:8080/"
        },
        "id": "CxHJAlGE0uqd",
        "outputId": "68226c4d-049d-4217-dcdb-e81ca8743d46"
      },
      "execution_count": 52,
      "outputs": [
        {
          "output_type": "stream",
          "name": "stdout",
          "text": [
            "Drive already mounted at /content/drive; to attempt to forcibly remount, call drive.mount(\"/content/drive\", force_remount=True).\n",
            "Input shape: [50]\n"
          ]
        },
        {
          "output_type": "stream",
          "name": "stderr",
          "text": [
            "/usr/local/lib/python3.10/dist-packages/sklearn/preprocessing/_encoders.py:868: FutureWarning: `sparse` was renamed to `sparse_output` in version 1.2 and will be removed in 1.4. `sparse_output` is ignored unless you leave `sparse` to its default value.\n",
            "  warnings.warn(\n"
          ]
        }
      ]
    },
    {
      "cell_type": "code",
      "source": [
        "# Uncomment to see original data\n",
        "fuel.head()\n",
        "# Uncomment to see processed features\n",
        "pd.DataFrame(X[:10,:]).head()"
      ],
      "metadata": {
        "colab": {
          "base_uri": "https://localhost:8080/",
          "height": 256
        },
        "id": "yqmO4sBU01-K",
        "outputId": "58cee6dc-a27c-4ac0-8b6a-112952527efc"
      },
      "execution_count": 53,
      "outputs": [
        {
          "output_type": "execute_result",
          "data": {
            "text/plain": [
              "         0         1         2         3         4         5        6   \\\n",
              "0  0.913643  1.068005  0.524148  0.685653 -0.226455  0.391659  0.43492   \n",
              "1  0.913643  1.068005  0.524148  0.685653 -0.226455  0.391659  0.43492   \n",
              "2  0.530594  1.068005  0.524148  0.685653 -0.226455  0.391659  0.43492   \n",
              "3  0.530594  1.068005  0.524148  0.685653 -0.226455  0.391659  0.43492   \n",
              "4  1.296693  2.120794  0.524148 -1.458464 -0.226455  0.391659  0.43492   \n",
              "\n",
              "         7         8    9   ...   40   41   42   43   44   45   46   47   48  \\\n",
              "0  0.463841 -0.447941  0.0  ...  0.0  0.0  0.0  0.0  0.0  0.0  0.0  0.0  0.0   \n",
              "1  0.463841 -0.447941  0.0  ...  0.0  0.0  0.0  0.0  0.0  0.0  0.0  0.0  0.0   \n",
              "2  0.463841 -0.447941  0.0  ...  0.0  0.0  0.0  0.0  0.0  0.0  0.0  0.0  0.0   \n",
              "3  0.463841 -0.447941  0.0  ...  0.0  0.0  0.0  0.0  0.0  0.0  0.0  0.0  0.0   \n",
              "4  0.463841 -0.447941  0.0  ...  0.0  0.0  0.0  0.0  0.0  0.0  0.0  0.0  0.0   \n",
              "\n",
              "    49  \n",
              "0  0.0  \n",
              "1  0.0  \n",
              "2  0.0  \n",
              "3  0.0  \n",
              "4  0.0  \n",
              "\n",
              "[5 rows x 50 columns]"
            ],
            "text/html": [
              "\n",
              "  <div id=\"df-f0a14744-c1d4-4edd-a1fb-3808f9d0ebcd\" class=\"colab-df-container\">\n",
              "    <div>\n",
              "<style scoped>\n",
              "    .dataframe tbody tr th:only-of-type {\n",
              "        vertical-align: middle;\n",
              "    }\n",
              "\n",
              "    .dataframe tbody tr th {\n",
              "        vertical-align: top;\n",
              "    }\n",
              "\n",
              "    .dataframe thead th {\n",
              "        text-align: right;\n",
              "    }\n",
              "</style>\n",
              "<table border=\"1\" class=\"dataframe\">\n",
              "  <thead>\n",
              "    <tr style=\"text-align: right;\">\n",
              "      <th></th>\n",
              "      <th>0</th>\n",
              "      <th>1</th>\n",
              "      <th>2</th>\n",
              "      <th>3</th>\n",
              "      <th>4</th>\n",
              "      <th>5</th>\n",
              "      <th>6</th>\n",
              "      <th>7</th>\n",
              "      <th>8</th>\n",
              "      <th>9</th>\n",
              "      <th>...</th>\n",
              "      <th>40</th>\n",
              "      <th>41</th>\n",
              "      <th>42</th>\n",
              "      <th>43</th>\n",
              "      <th>44</th>\n",
              "      <th>45</th>\n",
              "      <th>46</th>\n",
              "      <th>47</th>\n",
              "      <th>48</th>\n",
              "      <th>49</th>\n",
              "    </tr>\n",
              "  </thead>\n",
              "  <tbody>\n",
              "    <tr>\n",
              "      <th>0</th>\n",
              "      <td>0.913643</td>\n",
              "      <td>1.068005</td>\n",
              "      <td>0.524148</td>\n",
              "      <td>0.685653</td>\n",
              "      <td>-0.226455</td>\n",
              "      <td>0.391659</td>\n",
              "      <td>0.43492</td>\n",
              "      <td>0.463841</td>\n",
              "      <td>-0.447941</td>\n",
              "      <td>0.0</td>\n",
              "      <td>...</td>\n",
              "      <td>0.0</td>\n",
              "      <td>0.0</td>\n",
              "      <td>0.0</td>\n",
              "      <td>0.0</td>\n",
              "      <td>0.0</td>\n",
              "      <td>0.0</td>\n",
              "      <td>0.0</td>\n",
              "      <td>0.0</td>\n",
              "      <td>0.0</td>\n",
              "      <td>0.0</td>\n",
              "    </tr>\n",
              "    <tr>\n",
              "      <th>1</th>\n",
              "      <td>0.913643</td>\n",
              "      <td>1.068005</td>\n",
              "      <td>0.524148</td>\n",
              "      <td>0.685653</td>\n",
              "      <td>-0.226455</td>\n",
              "      <td>0.391659</td>\n",
              "      <td>0.43492</td>\n",
              "      <td>0.463841</td>\n",
              "      <td>-0.447941</td>\n",
              "      <td>0.0</td>\n",
              "      <td>...</td>\n",
              "      <td>0.0</td>\n",
              "      <td>0.0</td>\n",
              "      <td>0.0</td>\n",
              "      <td>0.0</td>\n",
              "      <td>0.0</td>\n",
              "      <td>0.0</td>\n",
              "      <td>0.0</td>\n",
              "      <td>0.0</td>\n",
              "      <td>0.0</td>\n",
              "      <td>0.0</td>\n",
              "    </tr>\n",
              "    <tr>\n",
              "      <th>2</th>\n",
              "      <td>0.530594</td>\n",
              "      <td>1.068005</td>\n",
              "      <td>0.524148</td>\n",
              "      <td>0.685653</td>\n",
              "      <td>-0.226455</td>\n",
              "      <td>0.391659</td>\n",
              "      <td>0.43492</td>\n",
              "      <td>0.463841</td>\n",
              "      <td>-0.447941</td>\n",
              "      <td>0.0</td>\n",
              "      <td>...</td>\n",
              "      <td>0.0</td>\n",
              "      <td>0.0</td>\n",
              "      <td>0.0</td>\n",
              "      <td>0.0</td>\n",
              "      <td>0.0</td>\n",
              "      <td>0.0</td>\n",
              "      <td>0.0</td>\n",
              "      <td>0.0</td>\n",
              "      <td>0.0</td>\n",
              "      <td>0.0</td>\n",
              "    </tr>\n",
              "    <tr>\n",
              "      <th>3</th>\n",
              "      <td>0.530594</td>\n",
              "      <td>1.068005</td>\n",
              "      <td>0.524148</td>\n",
              "      <td>0.685653</td>\n",
              "      <td>-0.226455</td>\n",
              "      <td>0.391659</td>\n",
              "      <td>0.43492</td>\n",
              "      <td>0.463841</td>\n",
              "      <td>-0.447941</td>\n",
              "      <td>0.0</td>\n",
              "      <td>...</td>\n",
              "      <td>0.0</td>\n",
              "      <td>0.0</td>\n",
              "      <td>0.0</td>\n",
              "      <td>0.0</td>\n",
              "      <td>0.0</td>\n",
              "      <td>0.0</td>\n",
              "      <td>0.0</td>\n",
              "      <td>0.0</td>\n",
              "      <td>0.0</td>\n",
              "      <td>0.0</td>\n",
              "    </tr>\n",
              "    <tr>\n",
              "      <th>4</th>\n",
              "      <td>1.296693</td>\n",
              "      <td>2.120794</td>\n",
              "      <td>0.524148</td>\n",
              "      <td>-1.458464</td>\n",
              "      <td>-0.226455</td>\n",
              "      <td>0.391659</td>\n",
              "      <td>0.43492</td>\n",
              "      <td>0.463841</td>\n",
              "      <td>-0.447941</td>\n",
              "      <td>0.0</td>\n",
              "      <td>...</td>\n",
              "      <td>0.0</td>\n",
              "      <td>0.0</td>\n",
              "      <td>0.0</td>\n",
              "      <td>0.0</td>\n",
              "      <td>0.0</td>\n",
              "      <td>0.0</td>\n",
              "      <td>0.0</td>\n",
              "      <td>0.0</td>\n",
              "      <td>0.0</td>\n",
              "      <td>0.0</td>\n",
              "    </tr>\n",
              "  </tbody>\n",
              "</table>\n",
              "<p>5 rows × 50 columns</p>\n",
              "</div>\n",
              "    <div class=\"colab-df-buttons\">\n",
              "\n",
              "  <div class=\"colab-df-container\">\n",
              "    <button class=\"colab-df-convert\" onclick=\"convertToInteractive('df-f0a14744-c1d4-4edd-a1fb-3808f9d0ebcd')\"\n",
              "            title=\"Convert this dataframe to an interactive table.\"\n",
              "            style=\"display:none;\">\n",
              "\n",
              "  <svg xmlns=\"http://www.w3.org/2000/svg\" height=\"24px\" viewBox=\"0 -960 960 960\">\n",
              "    <path d=\"M120-120v-720h720v720H120Zm60-500h600v-160H180v160Zm220 220h160v-160H400v160Zm0 220h160v-160H400v160ZM180-400h160v-160H180v160Zm440 0h160v-160H620v160ZM180-180h160v-160H180v160Zm440 0h160v-160H620v160Z\"/>\n",
              "  </svg>\n",
              "    </button>\n",
              "\n",
              "  <style>\n",
              "    .colab-df-container {\n",
              "      display:flex;\n",
              "      gap: 12px;\n",
              "    }\n",
              "\n",
              "    .colab-df-convert {\n",
              "      background-color: #E8F0FE;\n",
              "      border: none;\n",
              "      border-radius: 50%;\n",
              "      cursor: pointer;\n",
              "      display: none;\n",
              "      fill: #1967D2;\n",
              "      height: 32px;\n",
              "      padding: 0 0 0 0;\n",
              "      width: 32px;\n",
              "    }\n",
              "\n",
              "    .colab-df-convert:hover {\n",
              "      background-color: #E2EBFA;\n",
              "      box-shadow: 0px 1px 2px rgba(60, 64, 67, 0.3), 0px 1px 3px 1px rgba(60, 64, 67, 0.15);\n",
              "      fill: #174EA6;\n",
              "    }\n",
              "\n",
              "    .colab-df-buttons div {\n",
              "      margin-bottom: 4px;\n",
              "    }\n",
              "\n",
              "    [theme=dark] .colab-df-convert {\n",
              "      background-color: #3B4455;\n",
              "      fill: #D2E3FC;\n",
              "    }\n",
              "\n",
              "    [theme=dark] .colab-df-convert:hover {\n",
              "      background-color: #434B5C;\n",
              "      box-shadow: 0px 1px 3px 1px rgba(0, 0, 0, 0.15);\n",
              "      filter: drop-shadow(0px 1px 2px rgba(0, 0, 0, 0.3));\n",
              "      fill: #FFFFFF;\n",
              "    }\n",
              "  </style>\n",
              "\n",
              "    <script>\n",
              "      const buttonEl =\n",
              "        document.querySelector('#df-f0a14744-c1d4-4edd-a1fb-3808f9d0ebcd button.colab-df-convert');\n",
              "      buttonEl.style.display =\n",
              "        google.colab.kernel.accessAllowed ? 'block' : 'none';\n",
              "\n",
              "      async function convertToInteractive(key) {\n",
              "        const element = document.querySelector('#df-f0a14744-c1d4-4edd-a1fb-3808f9d0ebcd');\n",
              "        const dataTable =\n",
              "          await google.colab.kernel.invokeFunction('convertToInteractive',\n",
              "                                                    [key], {});\n",
              "        if (!dataTable) return;\n",
              "\n",
              "        const docLinkHtml = 'Like what you see? Visit the ' +\n",
              "          '<a target=\"_blank\" href=https://colab.research.google.com/notebooks/data_table.ipynb>data table notebook</a>'\n",
              "          + ' to learn more about interactive tables.';\n",
              "        element.innerHTML = '';\n",
              "        dataTable['output_type'] = 'display_data';\n",
              "        await google.colab.output.renderOutput(dataTable, element);\n",
              "        const docLink = document.createElement('div');\n",
              "        docLink.innerHTML = docLinkHtml;\n",
              "        element.appendChild(docLink);\n",
              "      }\n",
              "    </script>\n",
              "  </div>\n",
              "\n",
              "\n",
              "<div id=\"df-57e06913-93f1-4014-a005-8f770095a111\">\n",
              "  <button class=\"colab-df-quickchart\" onclick=\"quickchart('df-57e06913-93f1-4014-a005-8f770095a111')\"\n",
              "            title=\"Suggest charts\"\n",
              "            style=\"display:none;\">\n",
              "\n",
              "<svg xmlns=\"http://www.w3.org/2000/svg\" height=\"24px\"viewBox=\"0 0 24 24\"\n",
              "     width=\"24px\">\n",
              "    <g>\n",
              "        <path d=\"M19 3H5c-1.1 0-2 .9-2 2v14c0 1.1.9 2 2 2h14c1.1 0 2-.9 2-2V5c0-1.1-.9-2-2-2zM9 17H7v-7h2v7zm4 0h-2V7h2v10zm4 0h-2v-4h2v4z\"/>\n",
              "    </g>\n",
              "</svg>\n",
              "  </button>\n",
              "\n",
              "<style>\n",
              "  .colab-df-quickchart {\n",
              "      --bg-color: #E8F0FE;\n",
              "      --fill-color: #1967D2;\n",
              "      --hover-bg-color: #E2EBFA;\n",
              "      --hover-fill-color: #174EA6;\n",
              "      --disabled-fill-color: #AAA;\n",
              "      --disabled-bg-color: #DDD;\n",
              "  }\n",
              "\n",
              "  [theme=dark] .colab-df-quickchart {\n",
              "      --bg-color: #3B4455;\n",
              "      --fill-color: #D2E3FC;\n",
              "      --hover-bg-color: #434B5C;\n",
              "      --hover-fill-color: #FFFFFF;\n",
              "      --disabled-bg-color: #3B4455;\n",
              "      --disabled-fill-color: #666;\n",
              "  }\n",
              "\n",
              "  .colab-df-quickchart {\n",
              "    background-color: var(--bg-color);\n",
              "    border: none;\n",
              "    border-radius: 50%;\n",
              "    cursor: pointer;\n",
              "    display: none;\n",
              "    fill: var(--fill-color);\n",
              "    height: 32px;\n",
              "    padding: 0;\n",
              "    width: 32px;\n",
              "  }\n",
              "\n",
              "  .colab-df-quickchart:hover {\n",
              "    background-color: var(--hover-bg-color);\n",
              "    box-shadow: 0 1px 2px rgba(60, 64, 67, 0.3), 0 1px 3px 1px rgba(60, 64, 67, 0.15);\n",
              "    fill: var(--button-hover-fill-color);\n",
              "  }\n",
              "\n",
              "  .colab-df-quickchart-complete:disabled,\n",
              "  .colab-df-quickchart-complete:disabled:hover {\n",
              "    background-color: var(--disabled-bg-color);\n",
              "    fill: var(--disabled-fill-color);\n",
              "    box-shadow: none;\n",
              "  }\n",
              "\n",
              "  .colab-df-spinner {\n",
              "    border: 2px solid var(--fill-color);\n",
              "    border-color: transparent;\n",
              "    border-bottom-color: var(--fill-color);\n",
              "    animation:\n",
              "      spin 1s steps(1) infinite;\n",
              "  }\n",
              "\n",
              "  @keyframes spin {\n",
              "    0% {\n",
              "      border-color: transparent;\n",
              "      border-bottom-color: var(--fill-color);\n",
              "      border-left-color: var(--fill-color);\n",
              "    }\n",
              "    20% {\n",
              "      border-color: transparent;\n",
              "      border-left-color: var(--fill-color);\n",
              "      border-top-color: var(--fill-color);\n",
              "    }\n",
              "    30% {\n",
              "      border-color: transparent;\n",
              "      border-left-color: var(--fill-color);\n",
              "      border-top-color: var(--fill-color);\n",
              "      border-right-color: var(--fill-color);\n",
              "    }\n",
              "    40% {\n",
              "      border-color: transparent;\n",
              "      border-right-color: var(--fill-color);\n",
              "      border-top-color: var(--fill-color);\n",
              "    }\n",
              "    60% {\n",
              "      border-color: transparent;\n",
              "      border-right-color: var(--fill-color);\n",
              "    }\n",
              "    80% {\n",
              "      border-color: transparent;\n",
              "      border-right-color: var(--fill-color);\n",
              "      border-bottom-color: var(--fill-color);\n",
              "    }\n",
              "    90% {\n",
              "      border-color: transparent;\n",
              "      border-bottom-color: var(--fill-color);\n",
              "    }\n",
              "  }\n",
              "</style>\n",
              "\n",
              "  <script>\n",
              "    async function quickchart(key) {\n",
              "      const quickchartButtonEl =\n",
              "        document.querySelector('#' + key + ' button');\n",
              "      quickchartButtonEl.disabled = true;  // To prevent multiple clicks.\n",
              "      quickchartButtonEl.classList.add('colab-df-spinner');\n",
              "      try {\n",
              "        const charts = await google.colab.kernel.invokeFunction(\n",
              "            'suggestCharts', [key], {});\n",
              "      } catch (error) {\n",
              "        console.error('Error during call to suggestCharts:', error);\n",
              "      }\n",
              "      quickchartButtonEl.classList.remove('colab-df-spinner');\n",
              "      quickchartButtonEl.classList.add('colab-df-quickchart-complete');\n",
              "    }\n",
              "    (() => {\n",
              "      let quickchartButtonEl =\n",
              "        document.querySelector('#df-57e06913-93f1-4014-a005-8f770095a111 button');\n",
              "      quickchartButtonEl.style.display =\n",
              "        google.colab.kernel.accessAllowed ? 'block' : 'none';\n",
              "    })();\n",
              "  </script>\n",
              "</div>\n",
              "    </div>\n",
              "  </div>\n"
            ]
          },
          "metadata": {},
          "execution_count": 53
        }
      ]
    },
    {
      "cell_type": "code",
      "source": [
        "from tensorflow import keras\n",
        "from tensorflow.keras import layers\n",
        "\n",
        "model = keras.Sequential([\n",
        "    layers.Dense(128, activation='relu', input_shape=input_shape),\n",
        "    layers.Dense(128, activation='relu'),\n",
        "    layers.Dense(64, activation='relu'),\n",
        "    layers.Dense(1),\n",
        "])"
      ],
      "metadata": {
        "id": "kkVvMQWK1L4N"
      },
      "execution_count": 54,
      "outputs": []
    },
    {
      "cell_type": "markdown",
      "source": [
        "1) Add Loss and Optimizer"
      ],
      "metadata": {
        "id": "nY462klN1Ok5"
      }
    },
    {
      "cell_type": "code",
      "source": [
        "model.compile(\n",
        "    optimizer='adam',\n",
        "    loss='mae',\n",
        ")"
      ],
      "metadata": {
        "id": "21L-SstE1N0t"
      },
      "execution_count": 56,
      "outputs": []
    },
    {
      "cell_type": "markdown",
      "source": [
        "2) Train Model"
      ],
      "metadata": {
        "id": "Z2KRakuW1y6W"
      }
    },
    {
      "cell_type": "code",
      "source": [
        "history = model.fit(\n",
        "    X, y,\n",
        "    batch_size=128,\n",
        "    epochs=200,\n",
        ")"
      ],
      "metadata": {
        "colab": {
          "base_uri": "https://localhost:8080/"
        },
        "id": "KaXsXWfH10tA",
        "outputId": "d5f3d470-9f7b-40bd-f546-41deec79fc8b"
      },
      "execution_count": 57,
      "outputs": [
        {
          "output_type": "stream",
          "name": "stdout",
          "text": [
            "Epoch 1/200\n",
            "9/9 [==============================] - 3s 11ms/step - loss: 2.9881\n",
            "Epoch 2/200\n",
            "9/9 [==============================] - 0s 6ms/step - loss: 1.1451\n",
            "Epoch 3/200\n",
            "9/9 [==============================] - 0s 6ms/step - loss: 0.7194\n",
            "Epoch 4/200\n",
            "9/9 [==============================] - 0s 5ms/step - loss: 0.3648\n",
            "Epoch 5/200\n",
            "9/9 [==============================] - 0s 7ms/step - loss: 0.2637\n",
            "Epoch 6/200\n",
            "9/9 [==============================] - 0s 5ms/step - loss: 0.1874\n",
            "Epoch 7/200\n",
            "9/9 [==============================] - 0s 7ms/step - loss: 0.1443\n",
            "Epoch 8/200\n",
            "9/9 [==============================] - 0s 7ms/step - loss: 0.1223\n",
            "Epoch 9/200\n",
            "9/9 [==============================] - 0s 7ms/step - loss: 0.1022\n",
            "Epoch 10/200\n",
            "9/9 [==============================] - 0s 6ms/step - loss: 0.0900\n",
            "Epoch 11/200\n",
            "9/9 [==============================] - 0s 6ms/step - loss: 0.0811\n",
            "Epoch 12/200\n",
            "9/9 [==============================] - 0s 6ms/step - loss: 0.0796\n",
            "Epoch 13/200\n",
            "9/9 [==============================] - 0s 5ms/step - loss: 0.0718\n",
            "Epoch 14/200\n",
            "9/9 [==============================] - 0s 5ms/step - loss: 0.0678\n",
            "Epoch 15/200\n",
            "9/9 [==============================] - 0s 6ms/step - loss: 0.0626\n",
            "Epoch 16/200\n",
            "9/9 [==============================] - 0s 6ms/step - loss: 0.0600\n",
            "Epoch 17/200\n",
            "9/9 [==============================] - 0s 6ms/step - loss: 0.0571\n",
            "Epoch 18/200\n",
            "9/9 [==============================] - 0s 6ms/step - loss: 0.0642\n",
            "Epoch 19/200\n",
            "9/9 [==============================] - 0s 5ms/step - loss: 0.0590\n",
            "Epoch 20/200\n",
            "9/9 [==============================] - 0s 5ms/step - loss: 0.0545\n",
            "Epoch 21/200\n",
            "9/9 [==============================] - 0s 5ms/step - loss: 0.0550\n",
            "Epoch 22/200\n",
            "9/9 [==============================] - 0s 6ms/step - loss: 0.0553\n",
            "Epoch 23/200\n",
            "9/9 [==============================] - 0s 5ms/step - loss: 0.0505\n",
            "Epoch 24/200\n",
            "9/9 [==============================] - 0s 6ms/step - loss: 0.0549\n",
            "Epoch 25/200\n",
            "9/9 [==============================] - 0s 6ms/step - loss: 0.0535\n",
            "Epoch 26/200\n",
            "9/9 [==============================] - 0s 6ms/step - loss: 0.0484\n",
            "Epoch 27/200\n",
            "9/9 [==============================] - 0s 6ms/step - loss: 0.0464\n",
            "Epoch 28/200\n",
            "9/9 [==============================] - 0s 5ms/step - loss: 0.0465\n",
            "Epoch 29/200\n",
            "9/9 [==============================] - 0s 5ms/step - loss: 0.0488\n",
            "Epoch 30/200\n",
            "9/9 [==============================] - 0s 6ms/step - loss: 0.0442\n",
            "Epoch 31/200\n",
            "9/9 [==============================] - 0s 5ms/step - loss: 0.0425\n",
            "Epoch 32/200\n",
            "9/9 [==============================] - 0s 6ms/step - loss: 0.0453\n",
            "Epoch 33/200\n",
            "9/9 [==============================] - 0s 6ms/step - loss: 0.0421\n",
            "Epoch 34/200\n",
            "9/9 [==============================] - 0s 6ms/step - loss: 0.0422\n",
            "Epoch 35/200\n",
            "9/9 [==============================] - 0s 6ms/step - loss: 0.0408\n",
            "Epoch 36/200\n",
            "9/9 [==============================] - 0s 6ms/step - loss: 0.0401\n",
            "Epoch 37/200\n",
            "9/9 [==============================] - 0s 6ms/step - loss: 0.0440\n",
            "Epoch 38/200\n",
            "9/9 [==============================] - 0s 6ms/step - loss: 0.0437\n",
            "Epoch 39/200\n",
            "9/9 [==============================] - 0s 6ms/step - loss: 0.0455\n",
            "Epoch 40/200\n",
            "9/9 [==============================] - 0s 6ms/step - loss: 0.0433\n",
            "Epoch 41/200\n",
            "9/9 [==============================] - 0s 6ms/step - loss: 0.0420\n",
            "Epoch 42/200\n",
            "9/9 [==============================] - 0s 5ms/step - loss: 0.0467\n",
            "Epoch 43/200\n",
            "9/9 [==============================] - 0s 7ms/step - loss: 0.0491\n",
            "Epoch 44/200\n",
            "9/9 [==============================] - 0s 6ms/step - loss: 0.0480\n",
            "Epoch 45/200\n",
            "9/9 [==============================] - 0s 5ms/step - loss: 0.0554\n",
            "Epoch 46/200\n",
            "9/9 [==============================] - 0s 6ms/step - loss: 0.0480\n",
            "Epoch 47/200\n",
            "9/9 [==============================] - 0s 6ms/step - loss: 0.0379\n",
            "Epoch 48/200\n",
            "9/9 [==============================] - 0s 6ms/step - loss: 0.0366\n",
            "Epoch 49/200\n",
            "9/9 [==============================] - 0s 5ms/step - loss: 0.0358\n",
            "Epoch 50/200\n",
            "9/9 [==============================] - 0s 6ms/step - loss: 0.0371\n",
            "Epoch 51/200\n",
            "9/9 [==============================] - 0s 6ms/step - loss: 0.0433\n",
            "Epoch 52/200\n",
            "9/9 [==============================] - 0s 6ms/step - loss: 0.0409\n",
            "Epoch 53/200\n",
            "9/9 [==============================] - 0s 6ms/step - loss: 0.0394\n",
            "Epoch 54/200\n",
            "9/9 [==============================] - 0s 6ms/step - loss: 0.0367\n",
            "Epoch 55/200\n",
            "9/9 [==============================] - 0s 6ms/step - loss: 0.0365\n",
            "Epoch 56/200\n",
            "9/9 [==============================] - 0s 6ms/step - loss: 0.0368\n",
            "Epoch 57/200\n",
            "9/9 [==============================] - 0s 6ms/step - loss: 0.0353\n",
            "Epoch 58/200\n",
            "9/9 [==============================] - 0s 6ms/step - loss: 0.0353\n",
            "Epoch 59/200\n",
            "9/9 [==============================] - 0s 7ms/step - loss: 0.0391\n",
            "Epoch 60/200\n",
            "9/9 [==============================] - 0s 7ms/step - loss: 0.0381\n",
            "Epoch 61/200\n",
            "9/9 [==============================] - 0s 8ms/step - loss: 0.0424\n",
            "Epoch 62/200\n",
            "9/9 [==============================] - 0s 6ms/step - loss: 0.0439\n",
            "Epoch 63/200\n",
            "9/9 [==============================] - 0s 6ms/step - loss: 0.0416\n",
            "Epoch 64/200\n",
            "9/9 [==============================] - 0s 6ms/step - loss: 0.0462\n",
            "Epoch 65/200\n",
            "9/9 [==============================] - 0s 6ms/step - loss: 0.0460\n",
            "Epoch 66/200\n",
            "9/9 [==============================] - 0s 6ms/step - loss: 0.0388\n",
            "Epoch 67/200\n",
            "9/9 [==============================] - 0s 6ms/step - loss: 0.0349\n",
            "Epoch 68/200\n",
            "9/9 [==============================] - 0s 5ms/step - loss: 0.0306\n",
            "Epoch 69/200\n",
            "9/9 [==============================] - 0s 5ms/step - loss: 0.0374\n",
            "Epoch 70/200\n",
            "9/9 [==============================] - 0s 6ms/step - loss: 0.0391\n",
            "Epoch 71/200\n",
            "9/9 [==============================] - 0s 6ms/step - loss: 0.0384\n",
            "Epoch 72/200\n",
            "9/9 [==============================] - 0s 5ms/step - loss: 0.0377\n",
            "Epoch 73/200\n",
            "9/9 [==============================] - 0s 5ms/step - loss: 0.0342\n",
            "Epoch 74/200\n",
            "9/9 [==============================] - 0s 5ms/step - loss: 0.0325\n",
            "Epoch 75/200\n",
            "9/9 [==============================] - 0s 5ms/step - loss: 0.0337\n",
            "Epoch 76/200\n",
            "9/9 [==============================] - 0s 7ms/step - loss: 0.0385\n",
            "Epoch 77/200\n",
            "9/9 [==============================] - 0s 6ms/step - loss: 0.0370\n",
            "Epoch 78/200\n",
            "9/9 [==============================] - 0s 6ms/step - loss: 0.0421\n",
            "Epoch 79/200\n",
            "9/9 [==============================] - 0s 4ms/step - loss: 0.0487\n",
            "Epoch 80/200\n",
            "9/9 [==============================] - 0s 3ms/step - loss: 0.0479\n",
            "Epoch 81/200\n",
            "9/9 [==============================] - 0s 3ms/step - loss: 0.0431\n",
            "Epoch 82/200\n",
            "9/9 [==============================] - 0s 4ms/step - loss: 0.0349\n",
            "Epoch 83/200\n",
            "9/9 [==============================] - 0s 4ms/step - loss: 0.0298\n",
            "Epoch 84/200\n",
            "9/9 [==============================] - 0s 4ms/step - loss: 0.0324\n",
            "Epoch 85/200\n",
            "9/9 [==============================] - 0s 4ms/step - loss: 0.0343\n",
            "Epoch 86/200\n",
            "9/9 [==============================] - 0s 5ms/step - loss: 0.0413\n",
            "Epoch 87/200\n",
            "9/9 [==============================] - 0s 4ms/step - loss: 0.0406\n",
            "Epoch 88/200\n",
            "9/9 [==============================] - 0s 3ms/step - loss: 0.0334\n",
            "Epoch 89/200\n",
            "9/9 [==============================] - 0s 4ms/step - loss: 0.0340\n",
            "Epoch 90/200\n",
            "9/9 [==============================] - 0s 4ms/step - loss: 0.0352\n",
            "Epoch 91/200\n",
            "9/9 [==============================] - 0s 4ms/step - loss: 0.0318\n",
            "Epoch 92/200\n",
            "9/9 [==============================] - 0s 3ms/step - loss: 0.0285\n",
            "Epoch 93/200\n",
            "9/9 [==============================] - 0s 3ms/step - loss: 0.0310\n",
            "Epoch 94/200\n",
            "9/9 [==============================] - 0s 3ms/step - loss: 0.0328\n",
            "Epoch 95/200\n",
            "9/9 [==============================] - 0s 3ms/step - loss: 0.0310\n",
            "Epoch 96/200\n",
            "9/9 [==============================] - 0s 3ms/step - loss: 0.0318\n",
            "Epoch 97/200\n",
            "9/9 [==============================] - 0s 3ms/step - loss: 0.0314\n",
            "Epoch 98/200\n",
            "9/9 [==============================] - 0s 4ms/step - loss: 0.0344\n",
            "Epoch 99/200\n",
            "9/9 [==============================] - 0s 4ms/step - loss: 0.0317\n",
            "Epoch 100/200\n",
            "9/9 [==============================] - 0s 4ms/step - loss: 0.0337\n",
            "Epoch 101/200\n",
            "9/9 [==============================] - 0s 4ms/step - loss: 0.0310\n",
            "Epoch 102/200\n",
            "9/9 [==============================] - 0s 5ms/step - loss: 0.0351\n",
            "Epoch 103/200\n",
            "9/9 [==============================] - 0s 4ms/step - loss: 0.0352\n",
            "Epoch 104/200\n",
            "9/9 [==============================] - 0s 3ms/step - loss: 0.0307\n",
            "Epoch 105/200\n",
            "9/9 [==============================] - 0s 3ms/step - loss: 0.0310\n",
            "Epoch 106/200\n",
            "9/9 [==============================] - 0s 4ms/step - loss: 0.0327\n",
            "Epoch 107/200\n",
            "9/9 [==============================] - 0s 4ms/step - loss: 0.0357\n",
            "Epoch 108/200\n",
            "9/9 [==============================] - 0s 4ms/step - loss: 0.0330\n",
            "Epoch 109/200\n",
            "9/9 [==============================] - 0s 4ms/step - loss: 0.0351\n",
            "Epoch 110/200\n",
            "9/9 [==============================] - 0s 4ms/step - loss: 0.0351\n",
            "Epoch 111/200\n",
            "9/9 [==============================] - 0s 4ms/step - loss: 0.0319\n",
            "Epoch 112/200\n",
            "9/9 [==============================] - 0s 4ms/step - loss: 0.0333\n",
            "Epoch 113/200\n",
            "9/9 [==============================] - 0s 4ms/step - loss: 0.0320\n",
            "Epoch 114/200\n",
            "9/9 [==============================] - 0s 4ms/step - loss: 0.0295\n",
            "Epoch 115/200\n",
            "9/9 [==============================] - 0s 3ms/step - loss: 0.0312\n",
            "Epoch 116/200\n",
            "9/9 [==============================] - 0s 4ms/step - loss: 0.0357\n",
            "Epoch 117/200\n",
            "9/9 [==============================] - 0s 3ms/step - loss: 0.0329\n",
            "Epoch 118/200\n",
            "9/9 [==============================] - 0s 4ms/step - loss: 0.0304\n",
            "Epoch 119/200\n",
            "9/9 [==============================] - 0s 4ms/step - loss: 0.0303\n",
            "Epoch 120/200\n",
            "9/9 [==============================] - 0s 4ms/step - loss: 0.0329\n",
            "Epoch 121/200\n",
            "9/9 [==============================] - 0s 3ms/step - loss: 0.0352\n",
            "Epoch 122/200\n",
            "9/9 [==============================] - 0s 4ms/step - loss: 0.0365\n",
            "Epoch 123/200\n",
            "9/9 [==============================] - 0s 4ms/step - loss: 0.0306\n",
            "Epoch 124/200\n",
            "9/9 [==============================] - 0s 4ms/step - loss: 0.0309\n",
            "Epoch 125/200\n",
            "9/9 [==============================] - 0s 4ms/step - loss: 0.0331\n",
            "Epoch 126/200\n",
            "9/9 [==============================] - 0s 4ms/step - loss: 0.0328\n",
            "Epoch 127/200\n",
            "9/9 [==============================] - 0s 5ms/step - loss: 0.0319\n",
            "Epoch 128/200\n",
            "9/9 [==============================] - 0s 4ms/step - loss: 0.0330\n",
            "Epoch 129/200\n",
            "9/9 [==============================] - 0s 4ms/step - loss: 0.0383\n",
            "Epoch 130/200\n",
            "9/9 [==============================] - 0s 3ms/step - loss: 0.0321\n",
            "Epoch 131/200\n",
            "9/9 [==============================] - 0s 4ms/step - loss: 0.0321\n",
            "Epoch 132/200\n",
            "9/9 [==============================] - 0s 4ms/step - loss: 0.0310\n",
            "Epoch 133/200\n",
            "9/9 [==============================] - 0s 4ms/step - loss: 0.0288\n",
            "Epoch 134/200\n",
            "9/9 [==============================] - 0s 5ms/step - loss: 0.0294\n",
            "Epoch 135/200\n",
            "9/9 [==============================] - 0s 4ms/step - loss: 0.0297\n",
            "Epoch 136/200\n",
            "9/9 [==============================] - 0s 4ms/step - loss: 0.0302\n",
            "Epoch 137/200\n",
            "9/9 [==============================] - 0s 4ms/step - loss: 0.0294\n",
            "Epoch 138/200\n",
            "9/9 [==============================] - 0s 4ms/step - loss: 0.0301\n",
            "Epoch 139/200\n",
            "9/9 [==============================] - 0s 3ms/step - loss: 0.0285\n",
            "Epoch 140/200\n",
            "9/9 [==============================] - 0s 4ms/step - loss: 0.0317\n",
            "Epoch 141/200\n",
            "9/9 [==============================] - 0s 4ms/step - loss: 0.0303\n",
            "Epoch 142/200\n",
            "9/9 [==============================] - 0s 3ms/step - loss: 0.0306\n",
            "Epoch 143/200\n",
            "9/9 [==============================] - 0s 4ms/step - loss: 0.0308\n",
            "Epoch 144/200\n",
            "9/9 [==============================] - 0s 4ms/step - loss: 0.0371\n",
            "Epoch 145/200\n",
            "9/9 [==============================] - 0s 4ms/step - loss: 0.0328\n",
            "Epoch 146/200\n",
            "9/9 [==============================] - 0s 4ms/step - loss: 0.0291\n",
            "Epoch 147/200\n",
            "9/9 [==============================] - 0s 3ms/step - loss: 0.0329\n",
            "Epoch 148/200\n",
            "9/9 [==============================] - 0s 4ms/step - loss: 0.0280\n",
            "Epoch 149/200\n",
            "9/9 [==============================] - 0s 4ms/step - loss: 0.0276\n",
            "Epoch 150/200\n",
            "9/9 [==============================] - 0s 4ms/step - loss: 0.0282\n",
            "Epoch 151/200\n",
            "9/9 [==============================] - 0s 5ms/step - loss: 0.0278\n",
            "Epoch 152/200\n",
            "9/9 [==============================] - 0s 4ms/step - loss: 0.0266\n",
            "Epoch 153/200\n",
            "9/9 [==============================] - 0s 4ms/step - loss: 0.0282\n",
            "Epoch 154/200\n",
            "9/9 [==============================] - 0s 4ms/step - loss: 0.0380\n",
            "Epoch 155/200\n",
            "9/9 [==============================] - 0s 4ms/step - loss: 0.0298\n",
            "Epoch 156/200\n",
            "9/9 [==============================] - 0s 4ms/step - loss: 0.0291\n",
            "Epoch 157/200\n",
            "9/9 [==============================] - 0s 4ms/step - loss: 0.0280\n",
            "Epoch 158/200\n",
            "9/9 [==============================] - 0s 4ms/step - loss: 0.0268\n",
            "Epoch 159/200\n",
            "9/9 [==============================] - 0s 4ms/step - loss: 0.0329\n",
            "Epoch 160/200\n",
            "9/9 [==============================] - 0s 4ms/step - loss: 0.0331\n",
            "Epoch 161/200\n",
            "9/9 [==============================] - 0s 4ms/step - loss: 0.0352\n",
            "Epoch 162/200\n",
            "9/9 [==============================] - 0s 4ms/step - loss: 0.0292\n",
            "Epoch 163/200\n",
            "9/9 [==============================] - 0s 4ms/step - loss: 0.0424\n",
            "Epoch 164/200\n",
            "9/9 [==============================] - 0s 4ms/step - loss: 0.0535\n",
            "Epoch 165/200\n",
            "9/9 [==============================] - 0s 4ms/step - loss: 0.0460\n",
            "Epoch 166/200\n",
            "9/9 [==============================] - 0s 4ms/step - loss: 0.0340\n",
            "Epoch 167/200\n",
            "9/9 [==============================] - 0s 3ms/step - loss: 0.0371\n",
            "Epoch 168/200\n",
            "9/9 [==============================] - 0s 4ms/step - loss: 0.0404\n",
            "Epoch 169/200\n",
            "9/9 [==============================] - 0s 4ms/step - loss: 0.0355\n",
            "Epoch 170/200\n",
            "9/9 [==============================] - 0s 4ms/step - loss: 0.0315\n",
            "Epoch 171/200\n",
            "9/9 [==============================] - 0s 4ms/step - loss: 0.0313\n",
            "Epoch 172/200\n",
            "9/9 [==============================] - 0s 4ms/step - loss: 0.0266\n",
            "Epoch 173/200\n",
            "9/9 [==============================] - 0s 4ms/step - loss: 0.0267\n",
            "Epoch 174/200\n",
            "9/9 [==============================] - 0s 4ms/step - loss: 0.0332\n",
            "Epoch 175/200\n",
            "9/9 [==============================] - 0s 5ms/step - loss: 0.0290\n",
            "Epoch 176/200\n",
            "9/9 [==============================] - 0s 4ms/step - loss: 0.0294\n",
            "Epoch 177/200\n",
            "9/9 [==============================] - 0s 4ms/step - loss: 0.0295\n",
            "Epoch 178/200\n",
            "9/9 [==============================] - 0s 4ms/step - loss: 0.0274\n",
            "Epoch 179/200\n",
            "9/9 [==============================] - 0s 4ms/step - loss: 0.0276\n",
            "Epoch 180/200\n",
            "9/9 [==============================] - 0s 4ms/step - loss: 0.0278\n",
            "Epoch 181/200\n",
            "9/9 [==============================] - 0s 4ms/step - loss: 0.0268\n",
            "Epoch 182/200\n",
            "9/9 [==============================] - 0s 4ms/step - loss: 0.0300\n",
            "Epoch 183/200\n",
            "9/9 [==============================] - 0s 4ms/step - loss: 0.0368\n",
            "Epoch 184/200\n",
            "9/9 [==============================] - 0s 4ms/step - loss: 0.0312\n",
            "Epoch 185/200\n",
            "9/9 [==============================] - 0s 4ms/step - loss: 0.0344\n",
            "Epoch 186/200\n",
            "9/9 [==============================] - 0s 4ms/step - loss: 0.0340\n",
            "Epoch 187/200\n",
            "9/9 [==============================] - 0s 4ms/step - loss: 0.0287\n",
            "Epoch 188/200\n",
            "9/9 [==============================] - 0s 4ms/step - loss: 0.0274\n",
            "Epoch 189/200\n",
            "9/9 [==============================] - 0s 4ms/step - loss: 0.0287\n",
            "Epoch 190/200\n",
            "9/9 [==============================] - 0s 4ms/step - loss: 0.0261\n",
            "Epoch 191/200\n",
            "9/9 [==============================] - 0s 4ms/step - loss: 0.0277\n",
            "Epoch 192/200\n",
            "9/9 [==============================] - 0s 4ms/step - loss: 0.0308\n",
            "Epoch 193/200\n",
            "9/9 [==============================] - 0s 4ms/step - loss: 0.0299\n",
            "Epoch 194/200\n",
            "9/9 [==============================] - 0s 4ms/step - loss: 0.0269\n",
            "Epoch 195/200\n",
            "9/9 [==============================] - 0s 4ms/step - loss: 0.0245\n",
            "Epoch 196/200\n",
            "9/9 [==============================] - 0s 4ms/step - loss: 0.0267\n",
            "Epoch 197/200\n",
            "9/9 [==============================] - 0s 4ms/step - loss: 0.0279\n",
            "Epoch 198/200\n",
            "9/9 [==============================] - 0s 4ms/step - loss: 0.0263\n",
            "Epoch 199/200\n",
            "9/9 [==============================] - 0s 5ms/step - loss: 0.0293\n",
            "Epoch 200/200\n",
            "9/9 [==============================] - 0s 4ms/step - loss: 0.0269\n"
          ]
        }
      ]
    },
    {
      "cell_type": "code",
      "source": [
        "import pandas as pd\n",
        "\n",
        "history_df = pd.DataFrame(history.history)\n",
        "# Start the plot at epoch 5. You can change this to get a different view.\n",
        "history_df.loc[5:, ['loss']].plot();"
      ],
      "metadata": {
        "colab": {
          "base_uri": "https://localhost:8080/",
          "height": 487
        },
        "id": "86ZxPW5f2Ilp",
        "outputId": "89422746-f850-4570-9bfe-c93cf52b95e6"
      },
      "execution_count": 58,
      "outputs": [
        {
          "output_type": "display_data",
          "data": {
            "text/plain": [
              "<Figure size 640x480 with 1 Axes>"
            ],
            "image/png": "[encoded data removed]"
          },
          "metadata": {}
        }
      ]
    },
    {
      "cell_type": "markdown",
      "source": [
        "3) Evaluate Training"
      ],
      "metadata": {
        "id": "FwrtkHNt2Zr0"
      }
    },
    {
      "cell_type": "code",
      "source": [
        "# YOUR CODE HERE: Experiment with different values for the learning rate, batch size, and number of examples\n",
        "learning_rate = 0.05\n",
        "batch_size = 32\n",
        "num_examples = 256\n",
        "\n",
        "\"\"\"\n",
        "animate_sgd(\n",
        "    learning_rate=learning_rate,\n",
        "    batch_size=batch_size,\n",
        "    num_examples=num_examples,\n",
        "    # You can also change these, if you like\n",
        "    steps=50, # total training steps (batches seen)\n",
        "    true_w=3.0, # the slope of the data\n",
        "    true_b=2.0, # the bias of the data\n",
        ")\n",
        "\"\"\""
      ],
      "metadata": {
        "colab": {
          "base_uri": "https://localhost:8080/",
          "height": 72
        },
        "id": "rYjKvN3L2YIq",
        "outputId": "828dc9da-02d8-4958-b244-9649e2e375d0"
      },
      "execution_count": 60,
      "outputs": [
        {
          "output_type": "execute_result",
          "data": {
            "text/plain": [
              "'\\nanimate_sgd(\\n    learning_rate=learning_rate,\\n    batch_size=batch_size,\\n    num_examples=num_examples,\\n    # You can also change these, if you like\\n    steps=50, # total training steps (batches seen)\\n    true_w=3.0, # the slope of the data\\n    true_b=2.0, # the bias of the data\\n)\\n'"
            ],
            "application/vnd.google.colaboratory.intrinsic+json": {
              "type": "string"
            }
          },
          "metadata": {},
          "execution_count": 60
        }
      ]
    },
    {
      "cell_type": "markdown",
      "source": [
        "4) Learning Rate and Batch Size"
      ],
      "metadata": {
        "id": "2Xe6N5CN_tJP"
      }
    },
    {
      "cell_type": "markdown",
      "source": [
        "# 4. Overfitting and Underfitting"
      ],
      "metadata": {
        "id": "fJkj-olt3FkI"
      }
    },
    {
      "cell_type": "code",
      "source": [
        "# Setup plotting\n",
        "import matplotlib.pyplot as plt\n",
        "plt.style.use('seaborn-v0_8-whitegrid')\n",
        "# Set Matplotlib defaults\n",
        "plt.rc('figure', autolayout=True)\n",
        "plt.rc('axes', labelweight='bold', labelsize='large',\n",
        "       titleweight='bold', titlesize=18, titlepad=10)\n",
        "plt.rc('animation', html='html5')"
      ],
      "metadata": {
        "id": "z1D3h55B3ENM"
      },
      "execution_count": 61,
      "outputs": []
    },
    {
      "cell_type": "code",
      "source": [
        "import pandas as pd\n",
        "from sklearn.preprocessing import StandardScaler, OneHotEncoder\n",
        "from sklearn.compose import make_column_transformer\n",
        "from sklearn.model_selection import GroupShuffleSplit\n",
        "\n",
        "from tensorflow import keras\n",
        "from tensorflow.keras import layers\n",
        "from tensorflow.keras import callbacks\n",
        "\n",
        "spotify = pd.read_csv(\"/content/drive/MyDrive/Colab Notebooks/Euron/spotify.csv\")\n",
        "\n",
        "X = spotify.copy().dropna()\n",
        "y = X.pop('track_popularity')\n",
        "artists = X['track_artist']\n",
        "\n",
        "features_num = ['danceability', 'energy', 'key', 'loudness', 'mode',\n",
        "                'speechiness', 'acousticness', 'instrumentalness',\n",
        "                'liveness', 'valence', 'tempo', 'duration_ms']\n",
        "features_cat = ['playlist_genre']\n",
        "\n",
        "preprocessor = make_column_transformer(\n",
        "    (StandardScaler(), features_num),\n",
        "    (OneHotEncoder(), features_cat),\n",
        ")\n",
        "\n",
        "# We'll do a \"grouped\" split to keep all of an artist's songs in one\n",
        "# split or the other. This is to help prevent signal leakage.\n",
        "def group_split(X, y, group, train_size=0.75):\n",
        "    splitter = GroupShuffleSplit(train_size=train_size)\n",
        "    train, test = next(splitter.split(X, y, groups=group))\n",
        "    return (X.iloc[train], X.iloc[test], y.iloc[train], y.iloc[test])\n",
        "\n",
        "X_train, X_valid, y_train, y_valid = group_split(X, y, artists)\n",
        "\n",
        "X_train = preprocessor.fit_transform(X_train)\n",
        "X_valid = preprocessor.transform(X_valid)\n",
        "y_train = y_train / 100 # popularity is on a scale 0-100, so this rescales to 0-1.\n",
        "y_valid = y_valid / 100\n",
        "\n",
        "input_shape = [X_train.shape[1]]\n",
        "print(\"Input shape: {}\".format(input_shape))"
      ],
      "metadata": {
        "colab": {
          "base_uri": "https://localhost:8080/"
        },
        "id": "ji-e_Va33hrQ",
        "outputId": "f68197de-1d6d-4b91-96e8-e6bb68fd2c9c"
      },
      "execution_count": 64,
      "outputs": [
        {
          "output_type": "stream",
          "name": "stdout",
          "text": [
            "Input shape: [18]\n"
          ]
        }
      ]
    },
    {
      "cell_type": "code",
      "source": [
        "model = keras.Sequential([\n",
        "    layers.Dense(1, input_shape=input_shape),\n",
        "])\n",
        "model.compile(\n",
        "    optimizer='adam',\n",
        "    loss='mae',\n",
        ")\n",
        "history = model.fit(\n",
        "    X_train, y_train,\n",
        "    validation_data=(X_valid, y_valid),\n",
        "    batch_size=512,\n",
        "    epochs=50,\n",
        "    verbose=0, # suppress output since we'll plot the curves\n",
        ")\n",
        "history_df = pd.DataFrame(history.history)\n",
        "history_df.loc[0:, ['loss', 'val_loss']].plot()\n",
        "print(\"Minimum Validation Loss: {:0.4f}\".format(history_df['val_loss'].min()));"
      ],
      "metadata": {
        "colab": {
          "base_uri": "https://localhost:8080/",
          "height": 505
        },
        "id": "xXgTX_OR3lyE",
        "outputId": "a676dcbb-30ab-40a0-8b04-8e53fd5e42f4"
      },
      "execution_count": 65,
      "outputs": [
        {
          "output_type": "stream",
          "name": "stdout",
          "text": [
            "Minimum Validation Loss: 0.2001\n"
          ]
        },
        {
          "output_type": "display_data",
          "data": {
            "text/plain": [
              "<Figure size 640x480 with 1 Axes>"
            ],
            "image/png": "[encoded data removed]"
          },
          "metadata": {}
        }
      ]
    },
    {
      "cell_type": "code",
      "source": [
        "# Start the plot at epoch 10\n",
        "history_df.loc[10:, ['loss', 'val_loss']].plot()\n",
        "print(\"Minimum Validation Loss: {:0.4f}\".format(history_df['val_loss'].min()));"
      ],
      "metadata": {
        "colab": {
          "base_uri": "https://localhost:8080/",
          "height": 505
        },
        "id": "Hr54t9I83--P",
        "outputId": "c87cfd53-9a97-45b0-86ac-fb08a1790ad2"
      },
      "execution_count": 66,
      "outputs": [
        {
          "output_type": "stream",
          "name": "stdout",
          "text": [
            "Minimum Validation Loss: 0.2001\n"
          ]
        },
        {
          "output_type": "display_data",
          "data": {
            "text/plain": [
              "<Figure size 640x480 with 1 Axes>"
            ],
            "image/png": "[encoded data removed]"
          },
          "metadata": {}
        }
      ]
    },
    {
      "cell_type": "markdown",
      "source": [
        "1) Evaluate Baseline"
      ],
      "metadata": {
        "id": "9x5Gjfla4BW3"
      }
    },
    {
      "cell_type": "code",
      "source": [
        "model = keras.Sequential([\n",
        "    layers.Dense(128, activation='relu', input_shape=input_shape),\n",
        "    layers.Dense(64, activation='relu'),\n",
        "    layers.Dense(1)\n",
        "])\n",
        "model.compile(\n",
        "    optimizer='adam',\n",
        "    loss='mae',\n",
        ")\n",
        "history = model.fit(\n",
        "    X_train, y_train,\n",
        "    validation_data=(X_valid, y_valid),\n",
        "    batch_size=512,\n",
        "    epochs=50,\n",
        ")\n",
        "history_df = pd.DataFrame(history.history)\n",
        "history_df.loc[:, ['loss', 'val_loss']].plot()\n",
        "print(\"Minimum Validation Loss: {:0.4f}\".format(history_df['val_loss'].min()));"
      ],
      "metadata": {
        "colab": {
          "base_uri": "https://localhost:8080/",
          "height": 1000
        },
        "id": "LdSBJG0b4Arh",
        "outputId": "e33525f8-df73-44dc-b572-c50209ef0163"
      },
      "execution_count": 67,
      "outputs": [
        {
          "output_type": "stream",
          "name": "stdout",
          "text": [
            "Epoch 1/50\n",
            "49/49 [==============================] - 2s 12ms/step - loss: 0.2273 - val_loss: 0.2099\n",
            "Epoch 2/50\n",
            "49/49 [==============================] - 0s 8ms/step - loss: 0.1990 - val_loss: 0.2044\n",
            "Epoch 3/50\n",
            "49/49 [==============================] - 0s 9ms/step - loss: 0.1943 - val_loss: 0.2016\n",
            "Epoch 4/50\n",
            "49/49 [==============================] - 0s 8ms/step - loss: 0.1909 - val_loss: 0.2022\n",
            "Epoch 5/50\n",
            "49/49 [==============================] - 0s 9ms/step - loss: 0.1889 - val_loss: 0.2001\n",
            "Epoch 6/50\n",
            "49/49 [==============================] - 1s 15ms/step - loss: 0.1874 - val_loss: 0.2007\n",
            "Epoch 7/50\n",
            "49/49 [==============================] - 1s 13ms/step - loss: 0.1860 - val_loss: 0.2012\n",
            "Epoch 8/50\n",
            "49/49 [==============================] - 1s 13ms/step - loss: 0.1853 - val_loss: 0.2004\n",
            "Epoch 9/50\n",
            "49/49 [==============================] - 0s 8ms/step - loss: 0.1838 - val_loss: 0.2013\n",
            "Epoch 10/50\n",
            "49/49 [==============================] - 0s 7ms/step - loss: 0.1836 - val_loss: 0.2004\n",
            "Epoch 11/50\n",
            "49/49 [==============================] - 0s 8ms/step - loss: 0.1832 - val_loss: 0.2011\n",
            "Epoch 12/50\n",
            "49/49 [==============================] - 0s 8ms/step - loss: 0.1819 - val_loss: 0.2014\n",
            "Epoch 13/50\n",
            "49/49 [==============================] - 0s 8ms/step - loss: 0.1808 - val_loss: 0.2002\n",
            "Epoch 14/50\n",
            "49/49 [==============================] - 0s 8ms/step - loss: 0.1806 - val_loss: 0.2030\n",
            "Epoch 15/50\n",
            "49/49 [==============================] - 0s 8ms/step - loss: 0.1810 - val_loss: 0.2015\n",
            "Epoch 16/50\n",
            "49/49 [==============================] - 0s 8ms/step - loss: 0.1795 - val_loss: 0.2015\n",
            "Epoch 17/50\n",
            "49/49 [==============================] - 0s 8ms/step - loss: 0.1790 - val_loss: 0.2012\n",
            "Epoch 18/50\n",
            "49/49 [==============================] - 0s 7ms/step - loss: 0.1779 - val_loss: 0.2024\n",
            "Epoch 19/50\n",
            "49/49 [==============================] - 0s 8ms/step - loss: 0.1776 - val_loss: 0.2012\n",
            "Epoch 20/50\n",
            "49/49 [==============================] - 0s 7ms/step - loss: 0.1774 - val_loss: 0.2026\n",
            "Epoch 21/50\n",
            "49/49 [==============================] - 0s 7ms/step - loss: 0.1771 - val_loss: 0.2047\n",
            "Epoch 22/50\n",
            "49/49 [==============================] - 0s 6ms/step - loss: 0.1764 - val_loss: 0.2029\n",
            "Epoch 23/50\n",
            "49/49 [==============================] - 0s 5ms/step - loss: 0.1753 - val_loss: 0.2016\n",
            "Epoch 24/50\n",
            "49/49 [==============================] - 0s 5ms/step - loss: 0.1756 - val_loss: 0.2039\n",
            "Epoch 25/50\n",
            "49/49 [==============================] - 0s 5ms/step - loss: 0.1750 - val_loss: 0.2033\n",
            "Epoch 26/50\n",
            "49/49 [==============================] - 0s 6ms/step - loss: 0.1749 - val_loss: 0.2028\n",
            "Epoch 27/50\n",
            "49/49 [==============================] - 0s 6ms/step - loss: 0.1742 - val_loss: 0.2040\n",
            "Epoch 28/50\n",
            "49/49 [==============================] - 0s 6ms/step - loss: 0.1736 - val_loss: 0.2031\n",
            "Epoch 29/50\n",
            "49/49 [==============================] - 0s 5ms/step - loss: 0.1733 - val_loss: 0.2031\n",
            "Epoch 30/50\n",
            "49/49 [==============================] - 0s 6ms/step - loss: 0.1724 - val_loss: 0.2048\n",
            "Epoch 31/50\n",
            "49/49 [==============================] - 0s 6ms/step - loss: 0.1725 - val_loss: 0.2031\n",
            "Epoch 32/50\n",
            "49/49 [==============================] - 0s 6ms/step - loss: 0.1709 - val_loss: 0.2068\n",
            "Epoch 33/50\n",
            "49/49 [==============================] - 0s 6ms/step - loss: 0.1731 - val_loss: 0.2045\n",
            "Epoch 34/50\n",
            "49/49 [==============================] - 0s 5ms/step - loss: 0.1707 - val_loss: 0.2053\n",
            "Epoch 35/50\n",
            "49/49 [==============================] - 0s 5ms/step - loss: 0.1706 - val_loss: 0.2042\n",
            "Epoch 36/50\n",
            "49/49 [==============================] - 0s 5ms/step - loss: 0.1695 - val_loss: 0.2056\n",
            "Epoch 37/50\n",
            "49/49 [==============================] - 0s 5ms/step - loss: 0.1696 - val_loss: 0.2057\n",
            "Epoch 38/50\n",
            "49/49 [==============================] - 0s 6ms/step - loss: 0.1699 - val_loss: 0.2040\n",
            "Epoch 39/50\n",
            "49/49 [==============================] - 0s 5ms/step - loss: 0.1683 - val_loss: 0.2062\n",
            "Epoch 40/50\n",
            "49/49 [==============================] - 0s 5ms/step - loss: 0.1681 - val_loss: 0.2043\n",
            "Epoch 41/50\n",
            "49/49 [==============================] - 0s 5ms/step - loss: 0.1686 - val_loss: 0.2060\n",
            "Epoch 42/50\n",
            "49/49 [==============================] - 0s 5ms/step - loss: 0.1676 - val_loss: 0.2066\n",
            "Epoch 43/50\n",
            "49/49 [==============================] - 0s 4ms/step - loss: 0.1679 - val_loss: 0.2061\n",
            "Epoch 44/50\n",
            "49/49 [==============================] - 0s 5ms/step - loss: 0.1663 - val_loss: 0.2080\n",
            "Epoch 45/50\n",
            "49/49 [==============================] - 0s 5ms/step - loss: 0.1663 - val_loss: 0.2072\n",
            "Epoch 46/50\n",
            "49/49 [==============================] - 0s 6ms/step - loss: 0.1661 - val_loss: 0.2061\n",
            "Epoch 47/50\n",
            "49/49 [==============================] - 0s 6ms/step - loss: 0.1649 - val_loss: 0.2074\n",
            "Epoch 48/50\n",
            "49/49 [==============================] - 0s 5ms/step - loss: 0.1661 - val_loss: 0.2080\n",
            "Epoch 49/50\n",
            "49/49 [==============================] - 0s 5ms/step - loss: 0.1647 - val_loss: 0.2079\n",
            "Epoch 50/50\n",
            "49/49 [==============================] - 0s 6ms/step - loss: 0.1646 - val_loss: 0.2077\n",
            "Minimum Validation Loss: 0.2001\n"
          ]
        },
        {
          "output_type": "display_data",
          "data": {
            "text/plain": [
              "<Figure size 640x480 with 1 Axes>"
            ],
            "image/png": "[encoded data removed]"
          },
          "metadata": {}
        }
      ]
    },
    {
      "cell_type": "markdown",
      "source": [
        "2) Add Capacity"
      ],
      "metadata": {
        "id": "zqw0bbf_4wc7"
      }
    },
    {
      "cell_type": "markdown",
      "source": [
        "3) Define Early Stopping Callback"
      ],
      "metadata": {
        "id": "j9THt0Iy5BDk"
      }
    },
    {
      "cell_type": "code",
      "source": [
        "from tensorflow.keras import callbacks\n",
        "\n",
        "early_stopping = callbacks.EarlyStopping(\n",
        "    min_delta=0.001, # minimium amount of change to count as an improvement\n",
        "    patience=5, # how many epochs to wait before stopping\n",
        "    restore_best_weights=True,\n",
        ")"
      ],
      "metadata": {
        "id": "5l-FDVxg4Sjk"
      },
      "execution_count": 68,
      "outputs": []
    },
    {
      "cell_type": "code",
      "source": [
        "model = keras.Sequential([\n",
        "    layers.Dense(128, activation='relu', input_shape=input_shape),\n",
        "    layers.Dense(64, activation='relu'),\n",
        "    layers.Dense(1)\n",
        "])\n",
        "model.compile(\n",
        "    optimizer='adam',\n",
        "    loss='mae',\n",
        ")\n",
        "history = model.fit(\n",
        "    X_train, y_train,\n",
        "    validation_data=(X_valid, y_valid),\n",
        "    batch_size=512,\n",
        "    epochs=50,\n",
        "    callbacks=[early_stopping]\n",
        ")\n",
        "history_df = pd.DataFrame(history.history)\n",
        "history_df.loc[:, ['loss', 'val_loss']].plot()\n",
        "print(\"Minimum Validation Loss: {:0.4f}\".format(history_df['val_loss'].min()));"
      ],
      "metadata": {
        "colab": {
          "base_uri": "https://localhost:8080/",
          "height": 761
        },
        "id": "XNXEgPtz5hXw",
        "outputId": "baf2fb2c-3cfc-4b06-9dc4-7ae573a0349c"
      },
      "execution_count": 69,
      "outputs": [
        {
          "output_type": "stream",
          "name": "stdout",
          "text": [
            "Epoch 1/50\n",
            "49/49 [==============================] - 3s 21ms/step - loss: 0.2284 - val_loss: 0.2083\n",
            "Epoch 2/50\n",
            "49/49 [==============================] - 1s 15ms/step - loss: 0.1999 - val_loss: 0.2036\n",
            "Epoch 3/50\n",
            "49/49 [==============================] - 1s 11ms/step - loss: 0.1949 - val_loss: 0.2034\n",
            "Epoch 4/50\n",
            "49/49 [==============================] - 0s 9ms/step - loss: 0.1926 - val_loss: 0.2039\n",
            "Epoch 5/50\n",
            "49/49 [==============================] - 1s 13ms/step - loss: 0.1907 - val_loss: 0.2041\n",
            "Epoch 6/50\n",
            "49/49 [==============================] - 1s 14ms/step - loss: 0.1893 - val_loss: 0.2042\n",
            "Epoch 7/50\n",
            "49/49 [==============================] - 1s 11ms/step - loss: 0.1880 - val_loss: 0.2033\n",
            "Minimum Validation Loss: 0.2033\n"
          ]
        },
        {
          "output_type": "display_data",
          "data": {
            "text/plain": [
              "<Figure size 640x480 with 1 Axes>"
            ],
            "image/png": "[encoded data removed]"
          },
          "metadata": {}
        }
      ]
    },
    {
      "cell_type": "markdown",
      "source": [
        "4) Train and Interpret"
      ],
      "metadata": {
        "id": "ems--R7U5i8j"
      }
    },
    {
      "cell_type": "markdown",
      "source": [
        "# 5. Dropout and Batch Normalization"
      ],
      "metadata": {
        "id": "iqY9xTyr5rBG"
      }
    },
    {
      "cell_type": "code",
      "source": [
        "# Setup plotting\n",
        "import matplotlib.pyplot as plt\n",
        "plt.style.use('seaborn-v0_8-whitegrid')\n",
        "# Set Matplotlib defaults\n",
        "plt.rc('figure', autolayout=True)\n",
        "plt.rc('axes', labelweight='bold', labelsize='large',\n",
        "       titleweight='bold', titlesize=18, titlepad=10)\n",
        "plt.rc('animation', html='html5')"
      ],
      "metadata": {
        "id": "GvinFzd76_l7"
      },
      "execution_count": 70,
      "outputs": []
    },
    {
      "cell_type": "code",
      "source": [
        "import pandas as pd\n",
        "\n",
        "from sklearn.model_selection import train_test_split\n",
        "from sklearn.preprocessing import StandardScaler, OneHotEncoder\n",
        "from sklearn.impute import SimpleImputer\n",
        "from sklearn.pipeline import make_pipeline\n",
        "from sklearn.compose import make_column_transformer\n",
        "\n",
        "hotel = pd.read_csv(\"/content/drive/MyDrive/Colab Notebooks/Euron/hotel.csv\")\n",
        "\n",
        "X = hotel.copy()\n",
        "y = X.pop('is_canceled')\n",
        "\n",
        "X['arrival_date_month'] = \\\n",
        "    X['arrival_date_month'].map(\n",
        "        {'January':1, 'February': 2, 'March':3,\n",
        "         'April':4, 'May':5, 'June':6, 'July':7,\n",
        "         'August':8, 'September':9, 'October':10,\n",
        "         'November':11, 'December':12}\n",
        "    )\n",
        "\n",
        "features_num = [\n",
        "    \"lead_time\", \"arrival_date_week_number\",\n",
        "    \"arrival_date_day_of_month\", \"stays_in_weekend_nights\",\n",
        "    \"stays_in_week_nights\", \"adults\", \"children\", \"babies\",\n",
        "    \"is_repeated_guest\", \"previous_cancellations\",\n",
        "    \"previous_bookings_not_canceled\", \"required_car_parking_spaces\",\n",
        "    \"total_of_special_requests\", \"adr\",\n",
        "]\n",
        "features_cat = [\n",
        "    \"hotel\", \"arrival_date_month\", \"meal\",\n",
        "    \"market_segment\", \"distribution_channel\",\n",
        "    \"reserved_room_type\", \"deposit_type\", \"customer_type\",\n",
        "]\n",
        "\n",
        "transformer_num = make_pipeline(\n",
        "    SimpleImputer(strategy=\"constant\"), # there are a few missing values\n",
        "    StandardScaler(),\n",
        ")\n",
        "transformer_cat = make_pipeline(\n",
        "    SimpleImputer(strategy=\"constant\", fill_value=\"NA\"),\n",
        "    OneHotEncoder(handle_unknown='ignore'),\n",
        ")\n",
        "\n",
        "preprocessor = make_column_transformer(\n",
        "    (transformer_num, features_num),\n",
        "    (transformer_cat, features_cat),\n",
        ")\n",
        "\n",
        "# stratify - make sure classes are evenlly represented across splits\n",
        "X_train, X_valid, y_train, y_valid = \\\n",
        "    train_test_split(X, y, stratify=y, train_size=0.75)\n",
        "\n",
        "X_train = preprocessor.fit_transform(X_train)\n",
        "X_valid = preprocessor.transform(X_valid)\n",
        "\n",
        "input_shape = [X_train.shape[1]]"
      ],
      "metadata": {
        "id": "qvAKwAcG7OL_"
      },
      "execution_count": 73,
      "outputs": []
    },
    {
      "cell_type": "markdown",
      "source": [
        "1) Add Dropout to Spotify Model"
      ],
      "metadata": {
        "id": "oDxZaej97nCu"
      }
    },
    {
      "cell_type": "code",
      "source": [
        "model = keras.Sequential([\n",
        "    layers.Dense(128, activation='relu', input_shape=input_shape),\n",
        "    layers.Dropout(rate=0.3), # apply 30% dropout to the next layer\n",
        "    layers.Dense(64, activation='relu'),\n",
        "    layers.Dropout(rate=0.3),\n",
        "    layers.Dense(1)\n",
        "])"
      ],
      "metadata": {
        "id": "7wcJmMB_7orB"
      },
      "execution_count": 74,
      "outputs": []
    },
    {
      "cell_type": "code",
      "source": [
        "model.compile(\n",
        "    optimizer='adam',\n",
        "    loss='mae',\n",
        ")\n",
        "history = model.fit(\n",
        "    X_train, y_train,\n",
        "    validation_data=(X_valid, y_valid),\n",
        "    batch_size=512,\n",
        "    epochs=50,\n",
        "    verbose=0,\n",
        ")\n",
        "history_df = pd.DataFrame(history.history)\n",
        "history_df.loc[:, ['loss', 'val_loss']].plot()\n",
        "print(\"Minimum Validation Loss: {:0.4f}\".format(history_df['val_loss'].min()))"
      ],
      "metadata": {
        "colab": {
          "base_uri": "https://localhost:8080/",
          "height": 505
        },
        "id": "i3ilohF98BYX",
        "outputId": "936c4584-6d68-4955-fa0e-9fdfe679b0da"
      },
      "execution_count": 75,
      "outputs": [
        {
          "output_type": "stream",
          "name": "stdout",
          "text": [
            "Minimum Validation Loss: 0.1820\n"
          ]
        },
        {
          "output_type": "display_data",
          "data": {
            "text/plain": [
              "<Figure size 640x480 with 1 Axes>"
            ],
            "image/png": "[encoded data removed]"
          },
          "metadata": {}
        }
      ]
    },
    {
      "cell_type": "markdown",
      "source": [
        "2) Evaluate Dropout"
      ],
      "metadata": {
        "id": "AoucSRsE8CyV"
      }
    },
    {
      "cell_type": "code",
      "source": [
        "import pandas as pd\n",
        "\n",
        "concrete = pd.read_csv(\"/content/drive/MyDrive/Colab Notebooks/Euron/concrete.csv\")\n",
        "df = concrete.copy()\n",
        "\n",
        "df_train = df.sample(frac=0.7, random_state=0)\n",
        "df_valid = df.drop(df_train.index)\n",
        "\n",
        "X_train = df_train.drop('CompressiveStrength', axis=1)\n",
        "X_valid = df_valid.drop('CompressiveStrength', axis=1)\n",
        "y_train = df_train['CompressiveStrength']\n",
        "y_valid = df_valid['CompressiveStrength']\n",
        "\n",
        "input_shape = [X_train.shape[1]]"
      ],
      "metadata": {
        "id": "EpZuBzSK8EIG"
      },
      "execution_count": 79,
      "outputs": []
    },
    {
      "cell_type": "code",
      "source": [
        "model = keras.Sequential([\n",
        "    layers.Dense(512, activation='relu', input_shape=input_shape),\n",
        "    layers.Dense(512, activation='relu'),\n",
        "    layers.Dense(512, activation='relu'),\n",
        "    layers.Dense(1),\n",
        "])\n",
        "model.compile(\n",
        "    optimizer='sgd', # SGD is more sensitive to differences of scale\n",
        "    loss='mae',\n",
        "    metrics=['mae'],\n",
        ")\n",
        "history = model.fit(\n",
        "    X_train, y_train,\n",
        "    validation_data=(X_valid, y_valid),\n",
        "    batch_size=64,\n",
        "    epochs=100,\n",
        "    verbose=0,\n",
        ")\n",
        "\n",
        "history_df = pd.DataFrame(history.history)\n",
        "history_df.loc[0:, ['loss', 'val_loss']].plot()\n",
        "print((\"Minimum Validation Loss: {:0.4f}\").format(history_df['val_loss'].min()))"
      ],
      "metadata": {
        "colab": {
          "base_uri": "https://localhost:8080/",
          "height": 505
        },
        "id": "a2Nfu2Pm8kGs",
        "outputId": "8882fefc-d3ec-42bd-a9c5-ba1ea6b596eb"
      },
      "execution_count": 80,
      "outputs": [
        {
          "output_type": "stream",
          "name": "stdout",
          "text": [
            "Minimum Validation Loss: nan\n"
          ]
        },
        {
          "output_type": "display_data",
          "data": {
            "text/plain": [
              "<Figure size 640x480 with 1 Axes>"
            ],
            "image/png": "[encoded data removed]"
          },
          "metadata": {}
        }
      ]
    },
    {
      "cell_type": "markdown",
      "source": [
        "3) Add Batch Normalization Layers"
      ],
      "metadata": {
        "id": "SwFNraMh9G8x"
      }
    },
    {
      "cell_type": "code",
      "source": [
        "model = keras.Sequential([\n",
        "    layers.BatchNormalization(input_shape=input_shape),\n",
        "    layers.Dense(512, activation='relu'),\n",
        "    layers.BatchNormalization(),\n",
        "    layers.Dense(512, activation='relu'),\n",
        "    layers.BatchNormalization(),\n",
        "    layers.Dense(512, activation='relu'),\n",
        "    layers.BatchNormalization(),\n",
        "    layers.Dense(1),\n",
        "])"
      ],
      "metadata": {
        "id": "rG5O0krc9I6R"
      },
      "execution_count": 81,
      "outputs": []
    },
    {
      "cell_type": "code",
      "source": [
        "model.compile(\n",
        "    optimizer='sgd',\n",
        "    loss='mae',\n",
        "    metrics=['mae'],\n",
        ")\n",
        "EPOCHS = 100\n",
        "history = model.fit(\n",
        "    X_train, y_train,\n",
        "    validation_data=(X_valid, y_valid),\n",
        "    batch_size=64,\n",
        "    epochs=EPOCHS,\n",
        "    verbose=0,\n",
        ")\n",
        "\n",
        "history_df = pd.DataFrame(history.history)\n",
        "history_df.loc[0:, ['loss', 'val_loss']].plot()\n",
        "print((\"Minimum Validation Loss: {:0.4f}\").format(history_df['val_loss'].min()))"
      ],
      "metadata": {
        "colab": {
          "base_uri": "https://localhost:8080/",
          "height": 505
        },
        "id": "ic1NDMCd9jWo",
        "outputId": "6684aa95-a565-4e8f-8c88-546599019469"
      },
      "execution_count": 82,
      "outputs": [
        {
          "output_type": "stream",
          "name": "stdout",
          "text": [
            "Minimum Validation Loss: 3.6033\n"
          ]
        },
        {
          "output_type": "display_data",
          "data": {
            "text/plain": [
              "<Figure size 640x480 with 1 Axes>"
            ],
            "image/png": "[encoded data removed]"
          },
          "metadata": {}
        }
      ]
    },
    {
      "cell_type": "markdown",
      "source": [
        "4) Evaluate Batch Normalization"
      ],
      "metadata": {
        "id": "iiDtEVCu9kwL"
      }
    },
    {
      "cell_type": "markdown",
      "source": [
        "# 6. Binary Classification"
      ],
      "metadata": {
        "id": "6m_nO_0A5zjh"
      }
    },
    {
      "cell_type": "code",
      "source": [
        "# Setup plotting\n",
        "import matplotlib.pyplot as plt\n",
        "plt.style.use('seaborn-v0_8-whitegrid')\n",
        "# Set Matplotlib defaults\n",
        "plt.rc('figure', autolayout=True)\n",
        "plt.rc('axes', labelweight='bold', labelsize='large',\n",
        "       titleweight='bold', titlesize=18, titlepad=10)\n",
        "plt.rc('animation', html='html5')"
      ],
      "metadata": {
        "id": "C1TEnU_45h0t"
      },
      "execution_count": 83,
      "outputs": []
    },
    {
      "cell_type": "code",
      "source": [
        "import pandas as pd\n",
        "\n",
        "from sklearn.model_selection import train_test_split\n",
        "from sklearn.preprocessing import StandardScaler, OneHotEncoder\n",
        "from sklearn.impute import SimpleImputer\n",
        "from sklearn.pipeline import make_pipeline\n",
        "from sklearn.compose import make_column_transformer\n",
        "\n",
        "hotel = pd.read_csv(\"/content/drive/MyDrive/Colab Notebooks/Euron/hotel.csv\")\n",
        "\n",
        "X = hotel.copy()\n",
        "y = X.pop('is_canceled')\n",
        "\n",
        "X['arrival_date_month'] = \\\n",
        "    X['arrival_date_month'].map(\n",
        "        {'January':1, 'February': 2, 'March':3,\n",
        "         'April':4, 'May':5, 'June':6, 'July':7,\n",
        "         'August':8, 'September':9, 'October':10,\n",
        "         'November':11, 'December':12}\n",
        "    )\n",
        "\n",
        "features_num = [\n",
        "    \"lead_time\", \"arrival_date_week_number\",\n",
        "    \"arrival_date_day_of_month\", \"stays_in_weekend_nights\",\n",
        "    \"stays_in_week_nights\", \"adults\", \"children\", \"babies\",\n",
        "    \"is_repeated_guest\", \"previous_cancellations\",\n",
        "    \"previous_bookings_not_canceled\", \"required_car_parking_spaces\",\n",
        "    \"total_of_special_requests\", \"adr\",\n",
        "]\n",
        "features_cat = [\n",
        "    \"hotel\", \"arrival_date_month\", \"meal\",\n",
        "    \"market_segment\", \"distribution_channel\",\n",
        "    \"reserved_room_type\", \"deposit_type\", \"customer_type\",\n",
        "]\n",
        "\n",
        "transformer_num = make_pipeline(\n",
        "    SimpleImputer(strategy=\"constant\"), # there are a few missing values\n",
        "    StandardScaler(),\n",
        ")\n",
        "transformer_cat = make_pipeline(\n",
        "    SimpleImputer(strategy=\"constant\", fill_value=\"NA\"),\n",
        "    OneHotEncoder(handle_unknown='ignore'),\n",
        ")\n",
        "\n",
        "preprocessor = make_column_transformer(\n",
        "    (transformer_num, features_num),\n",
        "    (transformer_cat, features_cat),\n",
        ")\n",
        "\n",
        "# stratify - make sure classes are evenlly represented across splits\n",
        "X_train, X_valid, y_train, y_valid = \\\n",
        "    train_test_split(X, y, stratify=y, train_size=0.75)\n",
        "\n",
        "X_train = preprocessor.fit_transform(X_train)\n",
        "X_valid = preprocessor.transform(X_valid)\n",
        "\n",
        "input_shape = [X_train.shape[1]]"
      ],
      "metadata": {
        "id": "H_Qd-HE-99tS"
      },
      "execution_count": 84,
      "outputs": []
    },
    {
      "cell_type": "markdown",
      "source": [
        "1) Define Model"
      ],
      "metadata": {
        "id": "9bS7ICBW-EF0"
      }
    },
    {
      "cell_type": "code",
      "source": [
        "from tensorflow import keras\n",
        "from tensorflow.keras import layers\n",
        "\n",
        "model = keras.Sequential([\n",
        "    layers.BatchNormalization(input_shape=input_shape),\n",
        "    layers.Dense(256, activation='relu'),\n",
        "    layers.BatchNormalization(),\n",
        "    layers.Dropout(rate=0.3),\n",
        "    layers.Dense(256, activation='relu'),\n",
        "    layers.BatchNormalization(),\n",
        "    layers.Dropout(rate=0.3),\n",
        "    layers.Dense(1, activation='sigmoid')\n",
        "])"
      ],
      "metadata": {
        "id": "N0wTd4Tw-CA1"
      },
      "execution_count": 85,
      "outputs": []
    },
    {
      "cell_type": "markdown",
      "source": [
        "2) Add Optimizer, Loss, and Metric"
      ],
      "metadata": {
        "id": "kh4ON3tO-1gA"
      }
    },
    {
      "cell_type": "code",
      "source": [
        "model.compile(\n",
        "    optimizer='adam',\n",
        "    loss='binary_crossentropy',\n",
        "    metrics=['binary_accuracy'],\n",
        ")"
      ],
      "metadata": {
        "id": "1IQ2lVod-0sZ"
      },
      "execution_count": 87,
      "outputs": []
    },
    {
      "cell_type": "code",
      "source": [
        "early_stopping = keras.callbacks.EarlyStopping(\n",
        "    patience=5,\n",
        "    min_delta=0.001,\n",
        "    restore_best_weights=True,\n",
        ")\n",
        "history = model.fit(\n",
        "    X_train, y_train,\n",
        "    validation_data=(X_valid, y_valid),\n",
        "    batch_size=512,\n",
        "    epochs=200,\n",
        "    callbacks=[early_stopping],\n",
        ")\n",
        "\n",
        "history_df = pd.DataFrame(history.history)\n",
        "history_df.loc[:, ['loss', 'val_loss']].plot(title=\"Cross-entropy\")\n",
        "history_df.loc[:, ['binary_accuracy', 'val_binary_accuracy']].plot(title=\"Accuracy\")"
      ],
      "metadata": {
        "colab": {
          "base_uri": "https://localhost:8080/",
          "height": 1000
        },
        "id": "QYbuUlcR-89x",
        "outputId": "d63d359c-df9d-41c0-86a1-dd3519be6520"
      },
      "execution_count": 88,
      "outputs": [
        {
          "output_type": "stream",
          "name": "stdout",
          "text": [
            "Epoch 1/200\n",
            "175/175 [==============================] - 8s 28ms/step - loss: 0.4824 - binary_accuracy: 0.7710 - val_loss: 0.4314 - val_binary_accuracy: 0.7923\n",
            "Epoch 2/200\n",
            "175/175 [==============================] - 6s 36ms/step - loss: 0.4235 - binary_accuracy: 0.8001 - val_loss: 0.4038 - val_binary_accuracy: 0.8087\n",
            "Epoch 3/200\n",
            "175/175 [==============================] - 4s 22ms/step - loss: 0.4110 - binary_accuracy: 0.8065 - val_loss: 0.3924 - val_binary_accuracy: 0.8173\n",
            "Epoch 4/200\n",
            "175/175 [==============================] - 3s 17ms/step - loss: 0.4028 - binary_accuracy: 0.8112 - val_loss: 0.3880 - val_binary_accuracy: 0.8201\n",
            "Epoch 5/200\n",
            "175/175 [==============================] - 3s 17ms/step - loss: 0.3976 - binary_accuracy: 0.8139 - val_loss: 0.3831 - val_binary_accuracy: 0.8218\n",
            "Epoch 6/200\n",
            "175/175 [==============================] - 3s 20ms/step - loss: 0.3931 - binary_accuracy: 0.8162 - val_loss: 0.3821 - val_binary_accuracy: 0.8256\n",
            "Epoch 7/200\n",
            "175/175 [==============================] - 5s 27ms/step - loss: 0.3904 - binary_accuracy: 0.8176 - val_loss: 0.3786 - val_binary_accuracy: 0.8277\n",
            "Epoch 8/200\n",
            "175/175 [==============================] - 3s 18ms/step - loss: 0.3875 - binary_accuracy: 0.8202 - val_loss: 0.3753 - val_binary_accuracy: 0.8284\n",
            "Epoch 9/200\n",
            "175/175 [==============================] - 3s 17ms/step - loss: 0.3835 - binary_accuracy: 0.8213 - val_loss: 0.3721 - val_binary_accuracy: 0.8296\n",
            "Epoch 10/200\n",
            "175/175 [==============================] - 3s 17ms/step - loss: 0.3805 - binary_accuracy: 0.8227 - val_loss: 0.3699 - val_binary_accuracy: 0.8318\n",
            "Epoch 11/200\n",
            "175/175 [==============================] - 4s 23ms/step - loss: 0.3789 - binary_accuracy: 0.8244 - val_loss: 0.3700 - val_binary_accuracy: 0.8299\n",
            "Epoch 12/200\n",
            "175/175 [==============================] - 5s 28ms/step - loss: 0.3760 - binary_accuracy: 0.8262 - val_loss: 0.3654 - val_binary_accuracy: 0.8332\n",
            "Epoch 13/200\n",
            "175/175 [==============================] - 3s 18ms/step - loss: 0.3731 - binary_accuracy: 0.8276 - val_loss: 0.3695 - val_binary_accuracy: 0.8309\n",
            "Epoch 14/200\n",
            "175/175 [==============================] - 3s 17ms/step - loss: 0.3714 - binary_accuracy: 0.8269 - val_loss: 0.3633 - val_binary_accuracy: 0.8344\n",
            "Epoch 15/200\n",
            "175/175 [==============================] - 3s 17ms/step - loss: 0.3684 - binary_accuracy: 0.8299 - val_loss: 0.3638 - val_binary_accuracy: 0.8339\n",
            "Epoch 16/200\n",
            "175/175 [==============================] - 5s 26ms/step - loss: 0.3666 - binary_accuracy: 0.8296 - val_loss: 0.3614 - val_binary_accuracy: 0.8356\n",
            "Epoch 17/200\n",
            "175/175 [==============================] - 4s 24ms/step - loss: 0.3661 - binary_accuracy: 0.8308 - val_loss: 0.3598 - val_binary_accuracy: 0.8346\n",
            "Epoch 18/200\n",
            "175/175 [==============================] - 3s 17ms/step - loss: 0.3635 - binary_accuracy: 0.8316 - val_loss: 0.3596 - val_binary_accuracy: 0.8347\n",
            "Epoch 19/200\n",
            "175/175 [==============================] - 3s 18ms/step - loss: 0.3628 - binary_accuracy: 0.8320 - val_loss: 0.3577 - val_binary_accuracy: 0.8364\n",
            "Epoch 20/200\n",
            "175/175 [==============================] - 3s 17ms/step - loss: 0.3612 - binary_accuracy: 0.8328 - val_loss: 0.3571 - val_binary_accuracy: 0.8364\n",
            "Epoch 21/200\n",
            "175/175 [==============================] - 5s 27ms/step - loss: 0.3597 - binary_accuracy: 0.8333 - val_loss: 0.3594 - val_binary_accuracy: 0.8357\n",
            "Epoch 22/200\n",
            "175/175 [==============================] - 5s 31ms/step - loss: 0.3578 - binary_accuracy: 0.8356 - val_loss: 0.3556 - val_binary_accuracy: 0.8378\n",
            "Epoch 23/200\n",
            "175/175 [==============================] - 4s 25ms/step - loss: 0.3574 - binary_accuracy: 0.8349 - val_loss: 0.3563 - val_binary_accuracy: 0.8362\n",
            "Epoch 24/200\n",
            "175/175 [==============================] - 3s 17ms/step - loss: 0.3546 - binary_accuracy: 0.8354 - val_loss: 0.3533 - val_binary_accuracy: 0.8393\n",
            "Epoch 25/200\n",
            "175/175 [==============================] - 3s 16ms/step - loss: 0.3544 - binary_accuracy: 0.8371 - val_loss: 0.3523 - val_binary_accuracy: 0.8390\n",
            "Epoch 26/200\n",
            "175/175 [==============================] - 4s 25ms/step - loss: 0.3529 - binary_accuracy: 0.8370 - val_loss: 0.3521 - val_binary_accuracy: 0.8391\n",
            "Epoch 27/200\n",
            "175/175 [==============================] - 4s 24ms/step - loss: 0.3529 - binary_accuracy: 0.8360 - val_loss: 0.3510 - val_binary_accuracy: 0.8392\n",
            "Epoch 28/200\n",
            "175/175 [==============================] - 3s 17ms/step - loss: 0.3503 - binary_accuracy: 0.8387 - val_loss: 0.3515 - val_binary_accuracy: 0.8381\n",
            "Epoch 29/200\n",
            "175/175 [==============================] - 3s 17ms/step - loss: 0.3498 - binary_accuracy: 0.8389 - val_loss: 0.3492 - val_binary_accuracy: 0.8400\n",
            "Epoch 30/200\n",
            "175/175 [==============================] - 3s 17ms/step - loss: 0.3493 - binary_accuracy: 0.8387 - val_loss: 0.3508 - val_binary_accuracy: 0.8396\n",
            "Epoch 31/200\n",
            "175/175 [==============================] - 5s 27ms/step - loss: 0.3481 - binary_accuracy: 0.8386 - val_loss: 0.3487 - val_binary_accuracy: 0.8406\n",
            "Epoch 32/200\n",
            "175/175 [==============================] - 4s 22ms/step - loss: 0.3460 - binary_accuracy: 0.8404 - val_loss: 0.3488 - val_binary_accuracy: 0.8405\n",
            "Epoch 33/200\n",
            "175/175 [==============================] - 3s 17ms/step - loss: 0.3459 - binary_accuracy: 0.8404 - val_loss: 0.3494 - val_binary_accuracy: 0.8405\n",
            "Epoch 34/200\n",
            "175/175 [==============================] - 3s 17ms/step - loss: 0.3450 - binary_accuracy: 0.8423 - val_loss: 0.3483 - val_binary_accuracy: 0.8399\n"
          ]
        },
        {
          "output_type": "execute_result",
          "data": {
            "text/plain": [
              "<Axes: title={'center': 'Accuracy'}>"
            ]
          },
          "metadata": {},
          "execution_count": 88
        },
        {
          "output_type": "display_data",
          "data": {
            "text/plain": [
              "<Figure size 640x480 with 1 Axes>"
            ],
            "image/png": "[encoded data removed]"
          },
          "metadata": {}
        },
        {
          "output_type": "display_data",
          "data": {
            "text/plain": [
              "<Figure size 640x480 with 1 Axes>"
            ],
            "image/png": "[encoded data removed]"
          },
          "metadata": {}
        }
      ]
    },
    {
      "cell_type": "markdown",
      "source": [
        "3) Train and Evaluate"
      ],
      "metadata": {
        "id": "LaEbLri2_AhL"
      }
    }
  ]
}