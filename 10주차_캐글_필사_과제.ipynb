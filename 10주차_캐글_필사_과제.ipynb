{
  "nbformat": 4,
  "nbformat_minor": 0,
  "metadata": {
    "colab": {
      "provenance": []
    },
    "kernelspec": {
      "name": "python3",
      "display_name": "Python 3"
    },
    "language_info": {
      "name": "python"
    }
  },
  "cells": [
    {
      "cell_type": "markdown",
      "source": [
        "# Pytorch Tutorial for Deep Learning Lovers"
      ],
      "metadata": {
        "id": "eBcbmkZsefHx"
      }
    },
    {
      "cell_type": "markdown",
      "source": [
        "## 🌀Introduction"
      ],
      "metadata": {
        "id": "L_GrLKIyeugi"
      }
    },
    {
      "cell_type": "markdown",
      "source": [
        "파이토치 기반 scientific computing 패키지\n",
        "- 장점: 대화형으로 디버깅하여 편의 제공, 디버깅과 시각화 측면에서 사용하기 쉬움, 다양한 그래픽에 대한 지원, 페이스북의 조직적 지원, 다양한 API\n",
        "- 단점: 다른 대안들에 비해 완전히 발달하지 않음, 참고자료 및 리소스가 제한됨\n",
        "\n",
        "이 튜톨리얼에서는 파이토치를 사용하여 신경망 기본 개념을 설명함."
      ],
      "metadata": {
        "id": "IEJX5cb1fqWk"
      }
    },
    {
      "cell_type": "code",
      "source": [
        "import numpy as np # linear algebra\n",
        "import pandas as pd # data processing, CSV file I/O (e.g. pd.read_csv)\n",
        "import matplotlib.pyplot as plt\n",
        "# 입력 데이터 파일은 \"../input/\" 디렉토리에서 사용 가능\n",
        "# 실행 버튼 또는 shift+Enter 키를 눌러 실행하면 입력 디렉토리 파일이 나열됨\n",
        "\n",
        "import os\n",
        "print(os.listdir(\"../input\"))\n",
        "\n",
        "# 현재 디렉토리에 기록한 결과는 모두 출력으로 저장됨"
      ],
      "metadata": {
        "id": "xshVKM5bfQP5"
      },
      "execution_count": null,
      "outputs": []
    },
    {
      "cell_type": "markdown",
      "source": [
        "## 🌀Basics of Pytorch"
      ],
      "metadata": {
        "id": "5Wb8edcQg2Yu"
      }
    },
    {
      "cell_type": "markdown",
      "source": [
        "### Matrices\n",
        "- 파이토치에서 행렬은 tensors라고 불림\n",
        "- 3*3 matrix는 3x3 tensor\n",
        "- numpy를 통해 행렬 예시 살펴보기\n",
        "  - np.numpy() 메소드로 numpy array 생성\n",
        "  - Type(): array의 type(이 예시에서는 numpy)\n",
        "  - np.shape(): array의 모양(row x column)"
      ],
      "metadata": {
        "id": "7JhVgsDDg-wt"
      }
    },
    {
      "cell_type": "code",
      "source": [
        "# import numpy library\n",
        "import numpy as np\n",
        "\n",
        "# numpy array\n",
        "array = [[1,2,3],[4,5,6]]\n",
        "first_array = np.array(array) # 2x3 array\n",
        "print(\"Array Type: {}\".format(type(first_array))) # type\n",
        "print(\"Array Shape: {}\".format(np.shape(first_array))) # shape\n",
        "print(first_array)"
      ],
      "metadata": {
        "colab": {
          "base_uri": "https://localhost:8080/"
        },
        "id": "hQ2fOLrJg5cZ",
        "outputId": "8f4c8dc1-5dac-4460-fd8d-0fea36874c80"
      },
      "execution_count": 26,
      "outputs": [
        {
          "output_type": "stream",
          "name": "stdout",
          "text": [
            "Array Type: <class 'numpy.ndarray'>\n",
            "Array Shape: (2, 3)\n",
            "[[1 2 3]\n",
            " [4 5 6]]\n"
          ]
        }
      ]
    },
    {
      "cell_type": "code",
      "source": [
        "# import pytorch library\n",
        "import torch\n",
        "\n",
        "# 위 코드에서는 numpy를 사용하여 2x3 행렬을 만들었다면, 이번에는 파이토치로 행렬을 생성\n",
        "# 파이토치에서는 행렬을 tensor라고 하며, torch.Tensor() 메소드로 이를 생성함\n",
        "# array의 타입은 tensor, shape은 numpy와 동일(row x column)\n",
        "\n",
        "# pytorch array\n",
        "tensor = torch.Tensor(array)\n",
        "print(\"Array Type: {}\".format(tensor.type)) # type\n",
        "print(\"Array Shape: {}\".format(tensor.shape)) # shape\n",
        "print(tensor)"
      ],
      "metadata": {
        "colab": {
          "base_uri": "https://localhost:8080/"
        },
        "id": "IZDOmv1phylG",
        "outputId": "bc2a97d6-e095-4433-fd3a-4d6e3d9d65ab"
      },
      "execution_count": 27,
      "outputs": [
        {
          "output_type": "stream",
          "name": "stdout",
          "text": [
            "Array Type: <built-in method type of Tensor object at 0x780233326840>\n",
            "Array Shape: torch.Size([2, 3])\n",
            "tensor([[1., 2., 3.],\n",
            "        [4., 5., 6.]])\n"
          ]
        }
      ]
    },
    {
      "cell_type": "markdown",
      "source": [
        "- Allocation(선언)은 코딩 기술 중 가장 중요한 것 중 하나. 이를 파이토치로 만들어보자\n",
        "- numpy와 tensor를 비교\n",
        "  - np.ones()와 torch.one()\n",
        "  - np.random.rand()와 torch.rand()\n"
      ],
      "metadata": {
        "id": "mmgY5SLgkgz9"
      }
    },
    {
      "cell_type": "code",
      "source": [
        "# numpy ones: 1로 초기화\n",
        "print(\"Numpy {}\\n\".format(np.ones((2,3))))\n",
        "\n",
        "# pytorch ones: 1값을 가지는 tensor 생성\n",
        "print(torch.ones((2,3)))\n",
        "\n",
        "# np.ones()와 torch.one()는 같은 기능을 한다"
      ],
      "metadata": {
        "colab": {
          "base_uri": "https://localhost:8080/"
        },
        "id": "fpRwJM82ihrQ",
        "outputId": "8d4b44f2-b997-48a0-c5c0-f6d5d9125857"
      },
      "execution_count": 28,
      "outputs": [
        {
          "output_type": "stream",
          "name": "stdout",
          "text": [
            "Numpy [[1. 1. 1.]\n",
            " [1. 1. 1.]]\n",
            "\n",
            "tensor([[1., 1., 1.],\n",
            "        [1., 1., 1.]])\n"
          ]
        }
      ]
    },
    {
      "cell_type": "code",
      "source": [
        "# numpy random: 0부터 1까지의 난수 반환\n",
        "print(\"Numpy {}\\n\".format(np.random.rand(2,3)))\n",
        "\n",
        "# pytorch random: 0과 1 사이의 실수로 난수 생성, 텐서 생성\n",
        "print(torch.rand(2,3))\n",
        "\n",
        "# np.random.rand()와 torch.rand()는 같은 기능을 한"
      ],
      "metadata": {
        "colab": {
          "base_uri": "https://localhost:8080/"
        },
        "id": "z2Jos5gJjCTE",
        "outputId": "7b9d5dfa-1503-4dd4-e870-40f6d7643bbe"
      },
      "execution_count": 29,
      "outputs": [
        {
          "output_type": "stream",
          "name": "stdout",
          "text": [
            "Numpy [[0.0390377  0.0885951  0.64588773]\n",
            " [0.98580024 0.9082953  0.58961536]]\n",
            "\n",
            "tensor([[0.7315, 0.3779, 0.8039],\n",
            "        [0.8809, 0.6728, 0.6371]])\n"
          ]
        }
      ]
    },
    {
      "cell_type": "markdown",
      "source": [
        "- tensor와 numpy array 사이의 변환\n",
        "  - torch.from_numpy(): numpy에서 tensor로\n",
        "  - numpy(): tensor에서 numpy로\n"
      ],
      "metadata": {
        "id": "IGvQCmCYk19i"
      }
    },
    {
      "cell_type": "code",
      "source": [
        "# 랜덤으로 numpy array 생성\n",
        "array = np.random.rand(2,2)\n",
        "print(\"{} {}\\n\".format(type(array),array))\n",
        "\n",
        "# numpy에서 tensor로\n",
        "from_numpy_to_tensor = torch.from_numpy(array)\n",
        "print(\"{}\\n\".format(from_numpy_to_tensor))\n",
        "\n",
        "# tensor에서 numpy로\n",
        "tensor = from_numpy_to_tensor\n",
        "from_tensor_to_numpy = tensor.numpy()\n",
        "print(\"{} {}\\n\".format(type(from_tensor_to_numpy),from_tensor_to_numpy))"
      ],
      "metadata": {
        "colab": {
          "base_uri": "https://localhost:8080/"
        },
        "id": "374i12skkAX6",
        "outputId": "77beb072-b794-45a5-88d1-8bd821fc0a46"
      },
      "execution_count": 30,
      "outputs": [
        {
          "output_type": "stream",
          "name": "stdout",
          "text": [
            "<class 'numpy.ndarray'> [[0.29232851 0.68203044]\n",
            " [0.07457622 0.31602574]]\n",
            "\n",
            "tensor([[0.2923, 0.6820],\n",
            "        [0.0746, 0.3160]], dtype=torch.float64)\n",
            "\n",
            "<class 'numpy.ndarray'> [[0.29232851 0.68203044]\n",
            " [0.07457622 0.31602574]]\n",
            "\n"
          ]
        }
      ]
    },
    {
      "cell_type": "markdown",
      "source": [
        "### Basic Math with Pytorch\n",
        "- Resize(차원 조작): view()\n",
        "- a와 b가 tensor라고 했을 때\n",
        "  - 덧셈: torch.add(a,b) = a+b\n",
        "  - 뺄셈: a.sub(b) = a-b\n",
        "  - 요소별 곱셈: torch.mul(a,b) = a*b\n",
        "  - 요소별 나눗셈: torch.div(a,b) = a/b\n",
        "- 평균: a.mean()\n",
        "- 표준편차(std): a.std()"
      ],
      "metadata": {
        "id": "F01RxEbolWVD"
      }
    },
    {
      "cell_type": "code",
      "source": [
        "# tensor 생성\n",
        "tensor = torch.ones(3,3)\n",
        "print(\"\\n\",tensor)\n",
        "\n",
        "# 차원 조작\n",
        "print(\"{}{}\\n\".format(tensor.view(9).shape,tensor.view(9)))\n",
        "# view()를 통해 모양을 바꾸면서 메모리를 공유하게 되므로,\n",
        "# 원래의 텐서나 새로운 텐서 중 어느 하나를 변경하면 다른 하나도 영향을 받게 됨\n",
        "\n",
        "# 덧셈\n",
        "print(\"Addition: {}\\n\".format(torch.add(tensor,tensor)))\n",
        "\n",
        "# Subtraction\n",
        "print(\"Subtraction: {}\\n\".format(tensor.sub(tensor)))\n",
        "\n",
        "# Element wise multiplication\n",
        "print(\"Element wise multiplication: {}\\n\".format(torch.mul(tensor,tensor)))\n",
        "\n",
        "# Element wise division\n",
        "print(\"Element wise division: {}\\n\".format(torch.div(tensor,tensor)))\n",
        "\n",
        "# Mean\n",
        "tensor = torch.Tensor([1,2,3,4,5])\n",
        "print(\"Mean: {}\".format(tensor.mean()))\n",
        "\n",
        "# Standart deviation (std)\n",
        "print(\"std: {}\".format(tensor.std()))"
      ],
      "metadata": {
        "colab": {
          "base_uri": "https://localhost:8080/"
        },
        "id": "GqjBsAndl3Z5",
        "outputId": "3d15331d-64f3-4af2-e574-618d906c9ed3"
      },
      "execution_count": 31,
      "outputs": [
        {
          "output_type": "stream",
          "name": "stdout",
          "text": [
            "\n",
            " tensor([[1., 1., 1.],\n",
            "        [1., 1., 1.],\n",
            "        [1., 1., 1.]])\n",
            "torch.Size([9])tensor([1., 1., 1., 1., 1., 1., 1., 1., 1.])\n",
            "\n",
            "Addition: tensor([[2., 2., 2.],\n",
            "        [2., 2., 2.],\n",
            "        [2., 2., 2.]])\n",
            "\n",
            "Subtraction: tensor([[0., 0., 0.],\n",
            "        [0., 0., 0.],\n",
            "        [0., 0., 0.]])\n",
            "\n",
            "Element wise multiplication: tensor([[1., 1., 1.],\n",
            "        [1., 1., 1.],\n",
            "        [1., 1., 1.]])\n",
            "\n",
            "Element wise division: tensor([[1., 1., 1.],\n",
            "        [1., 1., 1.],\n",
            "        [1., 1., 1.]])\n",
            "\n",
            "Mean: 3.0\n",
            "std: 1.5811388492584229\n"
          ]
        }
      ]
    },
    {
      "cell_type": "markdown",
      "source": [
        "### Variables\n",
        "- 그래디언트(경사) 누적\n",
        "- 신경망에서는 그래디언트가 계산되는 역전파가 있으므로, 우선 그래디언트를 처리해야 함.\n",
        "- 변수와 텐서 사이의 차이는 변수 누적 그래디언트\n",
        "- 변수로 수학 연산 가능\n",
        "- 역전파를 하기 위해 변수 필요"
      ],
      "metadata": {
        "id": "c2bz24p1nqpr"
      }
    },
    {
      "cell_type": "code",
      "source": [
        "# import variable from pytorch library\n",
        "from torch.autograd import Variable\n",
        "\n",
        "# define variable\n",
        "# Variable()은 파이토치의 이전 버전에서 사용되었으며, 계산 그래프를 구성할 때 사용됨.\n",
        "# 모델의 파라미터에 대해 자동으로 미분을 수행하기 위한 특별한 텐서로서, 역전파를 지원함.\n",
        "# 최신 버전의 파이토치에서는 torch.Tensor 자체가 자동 미분을 지원하므로, 일반적으로 Variable을 사용할 필요는 없다.\n",
        "\n",
        "# requires_grad=True 매개변수는 자동 미분을 사용하기 위해 필요한 것\n",
        "# requires_grad를 True로 설정하면 파이토치는 이 텐서에서 이루어지는 모든 연산을 추적하고, 나중에 역전파를 통해 그래디언트를 계산할 수 있게 됨.\n",
        "var = Variable(torch.ones(3), requires_grad = True)\n",
        "var"
      ],
      "metadata": {
        "colab": {
          "base_uri": "https://localhost:8080/"
        },
        "id": "bKAQc2-TngVt",
        "outputId": "aa2bbcac-0a1a-4c0d-d0e8-7bc7a9b4236e"
      },
      "execution_count": 32,
      "outputs": [
        {
          "output_type": "execute_result",
          "data": {
            "text/plain": [
              "tensor([1., 1., 1.], requires_grad=True)"
            ]
          },
          "metadata": {},
          "execution_count": 32
        }
      ]
    },
    {
      "cell_type": "markdown",
      "source": [
        "- y=x^2이라는 방정식이 있다고 가정\n",
        "- x = [2,4]라는 변수 정의\n",
        "- 계산 후 우리는  y = [4,16] (y = x^2)를 찾을 수 있음\n",
        "- 이 방정식을 비용함수 o로 재정의하면 o = (1/2)sum(y) = (1/2)sum(x^2)\n",
        "- o를 x에 대해 미분한 결과, 이는 x와 같으므로 그라디언트(경사)는 [2,4]가 됨(x를 각 요소에 대해 미분한 결과)"
      ],
      "metadata": {
        "id": "iK9jVgkMrQUN"
      }
    },
    {
      "cell_type": "code",
      "source": [
        "# 역전파를 생성해보자\n",
        "# y = x^2 방정식이 있다고 가정\n",
        "array = [2,4]\n",
        "tensor = torch.Tensor(array)\n",
        "x = Variable(tensor, requires_grad = True)\n",
        "y = x**2\n",
        "print(\" y =  \",y)\n",
        "\n",
        "# 비용함수 o를 재정의: o = 1/2*sum(y)\n",
        "o = (1/2)*sum(y)\n",
        "print(\" o =  \",o)\n",
        "\n",
        "# 역전파\n",
        "o.backward() # 경사를 계산\n",
        "# backword() 메소드는 각 매개변수에 대한 그래디언트를 계산함. 이는 손실함수를 각 매개변수로 미분한 값\n",
        "# 해당 매개변수를 조절하여 손실을 최소화하는 방향으로 업데이트하는 데 사용됨.\n",
        "\n",
        "# 변수들은 경사를 누적함. 이 경우 변수 x는 하나밖에 없음\n",
        "# 변수 x에는 경사가 있어야 함\n",
        "# x.grad로 경사 살펴보기\n",
        "print(\"gradients: \",x.grad) # x가 2일 때 경사는 4"
      ],
      "metadata": {
        "colab": {
          "base_uri": "https://localhost:8080/"
        },
        "id": "ffgW3VsarxIM",
        "outputId": "887f3ce4-2730-45a7-f72c-47f144bb80c3"
      },
      "execution_count": 33,
      "outputs": [
        {
          "output_type": "stream",
          "name": "stdout",
          "text": [
            " y =   tensor([ 4., 16.], grad_fn=<PowBackward0>)\n",
            " o =   tensor(10., grad_fn=<MulBackward0>)\n",
            "gradients:  tensor([2., 4.])\n"
          ]
        }
      ]
    },
    {
      "cell_type": "markdown",
      "source": [
        "## 🌀Linear Regression\n",
        "- y = Ax + b에서\n",
        "  - A는 곡선의 기울기\n",
        "  - B는 편향(y절편)\n",
        "- 예를 들어 어떤 자동차 회사에서, 차값이 낮으면 차를 더 많이 팔고 차값이 높으면 차를 덜 판다고 하자. 우리는 이 사실에 대한 데이터셋을 가지고 있다.\n",
        "- 알고 싶은 것: 자동차 가격이 100일 때 자동차 판매 대수"
      ],
      "metadata": {
        "id": "oUERAogOua_c"
      }
    },
    {
      "cell_type": "code",
      "source": [
        "# 이전 판매 기록으로 자동차 회사에 대한 데이터셋을 확보\n",
        "# 자동차 판매 가격 정의\n",
        "car_prices_array = [3,4,5,6,7,8,9]\n",
        "car_price_np = np.array(car_prices_array,dtype=np.float32) # np.array() 메소드\n",
        "car_price_np = car_price_np.reshape(-1,1) # np.reshape() 메소드\n",
        "car_price_tensor = Variable(torch.from_numpy(car_price_np)) # torch.from_numpy(), Variable() 메소드\n",
        "\n",
        "# 자동차 판매 대수 정의(판매 가격 정의 코드의 반복)\n",
        "number_of_car_sell_array = [ 7.5, 7, 6.5, 6.0, 5.5, 5.0, 4.5]\n",
        "number_of_car_sell_np = np.array(number_of_car_sell_array,dtype=np.float32)\n",
        "number_of_car_sell_np = number_of_car_sell_np.reshape(-1,1)\n",
        "number_of_car_sell_tensor = Variable(torch.from_numpy(number_of_car_sell_np))\n",
        "\n",
        "# 데이터 시각화\n",
        "import matplotlib.pyplot as plt\n",
        "plt.scatter(car_prices_array,number_of_car_sell_array)\n",
        "plt.xlabel(\"Car Price $\")\n",
        "plt.ylabel(\"Number of Car Sell\")\n",
        "plt.title(\"Car Price$ VS Number of Car Sell\")\n",
        "plt.show() # 산점도 생성"
      ],
      "metadata": {
        "colab": {
          "base_uri": "https://localhost:8080/",
          "height": 472
        },
        "id": "t8Uv3u6cvpsl",
        "outputId": "62b56d1b-d8ee-45ff-8543-18a41eb49c21"
      },
      "execution_count": 34,
      "outputs": [
        {
          "output_type": "display_data",
          "data": {
            "text/plain": [
              "<Figure size 640x480 with 1 Axes>"
            ],
            "image/png": "[encoded data removed]"
          },
          "metadata": {}
        }
      ]
    },
    {
      "cell_type": "markdown",
      "source": [
        "- 위 산점도는 우리가 모은 데이터를 시각화한 것\n",
        "- 우리가 궁금한 것은 자동차 판매 가격이 100$일 때의 자동차 판매 대수\n",
        "- 이 문제를 해결하기 위해 선형 회귀(linear regression)을 사용할 것\n",
        "- 선형 회귀의 단계\n",
        "  - 선형회귀 class 생성\n",
        "  - LinearRegression class로부터 모델 정의\n",
        "  - MSE(평균 제곱 오차): Mean squeared error\n",
        "  - 최적화(확률적 경사 하강법)\n",
        "  - 역전파 수행\n",
        "  - 예측"
      ],
      "metadata": {
        "id": "UMpEgjbbwqcu"
      }
    },
    {
      "cell_type": "code",
      "source": [
        "# 파이토치를 이용한 선형 회귀\n",
        "\n",
        "# 라이브러리 임포트\n",
        "import torch\n",
        "from torch.autograd import Variable\n",
        "import torch.nn as nn\n",
        "import warnings\n",
        "warnings.filterwarnings(\"ignore\")\n",
        "\n",
        "# 클래스 생성\n",
        "class LinearRegression(nn.Module): # nn.Module 클래스를 상속받는 LinearRegression을 새로 정의\n",
        "\n",
        "    def __init__(self,input_size,output_size):\n",
        "    # 입력 차원과 출력 차원을 인자로 받음\n",
        "    # 선형 회귀 모델에서 입력과 가중치를 곱하고 편향을 더하는 연산을 수행\n",
        "    # __init__ 메소드: 클래스의 생성자 메소드로, 클래스가 초기화될 때 호출\n",
        "\n",
        "        # super function: nn.Module 상속받음, nn.Module의 모든 think에 접근 가능\n",
        "        super(LinearRegression,self).__init__()\n",
        "        # 부모 클래스인 nn.Module 호출\n",
        "        # 부모 클래스인 nn.Module의 생성자를 호출하여 초기화\n",
        "\n",
        "        # Linear function.\n",
        "        self.linear = nn.Linear(input_dim,output_dim)\n",
        "        # nn.Linear: 선형 변환 수행 레이어, 입력 차원 input size와 출력 차원 output_size를 인자로 받음\n",
        "        # 선형 회귀 모델에서 입력과 가중치(w)를 곱하고 편향(b)을 더하는 연산 수행\n",
        "\n",
        "    def forward(self,x): # nn.Module 클래스에서 상속받은 메소드로, 모델의 순전파 연산을 저장\n",
        "        return self.linear(x)\n",
        "        # self.linear(x): 앞서 정의한 선형 레이어 nn.Linear에 입력 x를 전달하여 선형 변환을 수행 및 결과 반환\n",
        "        # 선형 레이어는 가중치와 편향이 내제된 연산을 수행하므로 이를 통해 입력 데이터ㅔ 대한 모델의 예측값이 생성됨\n",
        "\n",
        "# def __init__ 메소드는 모델의 구조를 정의하고 초기화할 때 호출\n",
        "# def forward 메소드는 주어진 입력 데이터를 사용하여 실제로 모델의 순전파를 수행\n",
        "\n",
        "# 모델 정의\n",
        "input_dim = 1 # 입력 차원\n",
        "output_dim = 1 # 출력 차원\n",
        "model = LinearRegression(input_dim,output_dim) # 입력 차원과 출력 차원 모두 1\n",
        "\n",
        "# 평균제곱오차 MSE\n",
        "mse = nn.MSELoss()\n",
        "# nn.MSELoss(): 파이토치에서 제공하는 평균 제곱 오차 손실함수\n",
        "# 평균 제곱 오차 손실함수는 회귀 문제에서 모델의 예측과 실제 타겟 값 간의 평균 오차 제곱을 계산함으로써 오차를 측정\n",
        "\n",
        "# 최적화 (오차를 최소화하는 매개변수 찾기)\n",
        "learning_rate = 0.02   # 학습률 α(각 업데이트에서 모델의 매개변수를 얼마나 변화시킬 것인지), 최적의 매개변수에 다다르는 데 얼마나 빨리 걸리는지 결정\n",
        "optimizer = torch.optim.SGD(model.parameters(),lr = learning_rate)\n",
        "# torch.optim.SGD 인스턴스 생성: SGD(확률적 경사 하강법) 최적화 알고리즘을 구현한 파이토치의 클래스\n",
        "# model.parameters(): 최적화할 모델의 매개변수 전달, 모델 내의 가주치와 편향 등을 포함\n",
        "# lr은 학습률이라 불리는 하이퍼파라미터\n",
        "# 옵티마이저: 손실 함수에서 계산된 그래디언트를 사용하여 모델의 매개변수 업데이트\n",
        "# SGD는 각 매개변수를 현재 그래디언트와 학습률을 사용하여 업데이트 함.\n",
        "\n",
        "# 이렇게 설정된 SGD 옵티마이저는 이후에 모델을 학습할 때 사용되며, 역전파 및 가중치 업데이트를 수행\n",
        "# 최적화 알고리즘과 학습률의 선택은 모델의 학습 성능에 영향을 미칠 중요한 하이퍼파라미터\n",
        "\n",
        "# 모델 훈련\n",
        "loss_list = [] # 훈련 중에 발생한 손실값을 저장하기 위한 리스트 초기화\n",
        "iteration_number = 1001 # 훈련 1001번 반복\n",
        "for iteration in range(iteration_number):\n",
        "\n",
        "    # optimization, 옵티마이저 초기화\n",
        "    # 매 반복마다 새로운 그래디언트를 계산하기 전에 기존의 그래디언트를 0으로 초기화\n",
        "    # 파이토치의 zero_grad() 메소드 사용\n",
        "    optimizer.zero_grad()\n",
        "\n",
        "\n",
        "    # Forward to get output, 순전파 수행\n",
        "    # 모델의 입력 데이터를 전달하여 순전파를 수행하고, 모델은 입력에 대한 예측값을 반환\n",
        "    results = model(car_price_tensor)\n",
        "\n",
        "    # Calculate Loss, 손실 계산\n",
        "    # 예측값과 실제 타겟값을 사용하여 평균 제곱 오차를 계산\n",
        "    loss = mse(results, number_of_car_sell_tensor)\n",
        "\n",
        "    # backward propagation, 역전파 수행\n",
        "    # 손실에 대한 역전파를 수행하여 그래디언트를 계산\n",
        "    loss.backward()\n",
        "\n",
        "    # Updating parameters, 옵티마이저를 사용하여 매개변수 업데이트\n",
        "    # 경사하강법을 통해 손실을 최소화하기 위해 수행\n",
        "    optimizer.step()\n",
        "\n",
        "    # store loss, 매 반복마다 계산된 손실값 저장\n",
        "    loss_list.append(loss.data)\n",
        "\n",
        "    # print loss, 일정한 간격으로 현재 epoch와 손실 출력\n",
        "    # epoch: 전체 훈련 데이터셋이 모델에 대해 한 번 순전파와 역전파를 거치는 주기\n",
        "    # 각 에포크는 훈련 데이터셋을 한 번 사용하는 것을 의미하며, epoch가 증가할수록 모델은 더 많은 훈련 데이터를 보고 학습하게 됨\n",
        "    if(iteration % 50 == 0):\n",
        "        print('epoch {}, loss {}'.format(iteration, loss.data))\n",
        "\n",
        "plt.plot(range(iteration_number),loss_list)\n",
        "plt.xlabel(\"Number of Iterations\")\n",
        "plt.ylabel(\"Loss\")\n",
        "plt.show()"
      ],
      "metadata": {
        "colab": {
          "base_uri": "https://localhost:8080/",
          "height": 835
        },
        "id": "K3NoMrX0w4Gn",
        "outputId": "793877e2-36fb-4ad1-b3b2-0c848b99f2b8"
      },
      "execution_count": 35,
      "outputs": [
        {
          "output_type": "stream",
          "name": "stdout",
          "text": [
            "epoch 0, loss 143.95468139648438\n",
            "epoch 50, loss 6.129683971405029\n",
            "epoch 100, loss 4.14208459854126\n",
            "epoch 150, loss 2.7989799976348877\n",
            "epoch 200, loss 1.891387701034546\n",
            "epoch 250, loss 1.2780905961990356\n",
            "epoch 300, loss 0.863659679889679\n",
            "epoch 350, loss 0.5836107134819031\n",
            "epoch 400, loss 0.3943707048892975\n",
            "epoch 450, loss 0.266492635011673\n",
            "epoch 500, loss 0.18008029460906982\n",
            "epoch 550, loss 0.12168773263692856\n",
            "epoch 600, loss 0.08222945779561996\n",
            "epoch 650, loss 0.055565740913152695\n",
            "epoch 700, loss 0.03754819557070732\n",
            "epoch 750, loss 0.025372754782438278\n",
            "epoch 800, loss 0.0171455517411232\n",
            "epoch 850, loss 0.011585956439375877\n",
            "epoch 900, loss 0.007829082198441029\n",
            "epoch 950, loss 0.005290493369102478\n",
            "epoch 1000, loss 0.0035749587696045637\n"
          ]
        },
        {
          "output_type": "display_data",
          "data": {
            "text/plain": [
              "<Figure size 640x480 with 1 Axes>"
            ],
            "image/png": "[encoded data removed]"
          },
          "metadata": {}
        }
      ]
    },
    {
      "cell_type": "markdown",
      "source": [
        "- 1001회 반복\n",
        "- 그래프를 통해 손실은 거의 0이라는 점을 확인할 수 있음\n",
        "- 훈련은 1000 epoch 동안 진행되었으며 마지막 에포크에서의 손실값은 거의 0에 가까움\n",
        "- 이렇게 훈련된 모델을 이용하여 자동차 가격 예측을 수행"
      ],
      "metadata": {
        "id": "zuLI-dfL3ldQ"
      }
    },
    {
      "cell_type": "code",
      "source": [
        "# 자동차 가격 예측\n",
        "\n",
        "# 훈련된 선형 회귀 모델인 model을 사용, 입력 데이터인 car_price_tensor를 모델에 전달하여 예측값 획득\n",
        "# .data: 텐서의 데이터 부분을 나타내며, 여기서는 모델의 예측값을 나타냄\n",
        "# 모델을 통해 얻은 예측값을 Numpy 배열로 변환하여 predicted에 할당\n",
        "predicted = model(car_price_tensor).data.numpy()\n",
        "\n",
        "plt.scatter(car_prices_array, number_of_car_sell_array,label = \"original data\",color =\"red\")\n",
        "plt.scatter(car_prices_array,predicted,label = \"predicted data\",color =\"blue\")\n",
        "\n",
        "# 자동차 가격이 $10일 때 자동차 판매 대수 예측(특정한 값 예)\n",
        "# predicted_10 = model(torch.from_numpy(np.array([10]))).data.numpy()\n",
        "# plt.scatter(10,predicted_10.data,label = \"car price 10$\",color =\"green\")\n",
        "plt.legend()\n",
        "plt.xlabel(\"Car Price $\")\n",
        "plt.ylabel(\"Number of Car Sell\")\n",
        "plt.title(\"Original vs Predicted values\")\n",
        "plt.show()"
      ],
      "metadata": {
        "colab": {
          "base_uri": "https://localhost:8080/",
          "height": 472
        },
        "id": "_PX_y3S-xgNF",
        "outputId": "bfae0955-2467-4735-b98e-f40cdb18828b"
      },
      "execution_count": 36,
      "outputs": [
        {
          "output_type": "display_data",
          "data": {
            "text/plain": [
              "<Figure size 640x480 with 1 Axes>"
            ],
            "image/png": "[encoded data removed]"
          },
          "metadata": {}
        }
      ]
    },
    {
      "cell_type": "markdown",
      "source": [
        "- 빨간 점: 실제 데이터의 타겟 값\n",
        "- 파란 점: 모델을 통해 예측한 값\n",
        "- 빨간 점과 파란 점의 위치가 거의 유사함, 모델을 통한 예측이 잘 되었음을 알 수 있음"
      ],
      "metadata": {
        "id": "-B5Z_J2d5Rf6"
      }
    },
    {
      "cell_type": "markdown",
      "source": [
        "## 🌀Logistic Regression\n",
        "- 선형 회귀는 분류에 효과적이지는 않음\n",
        "- 분류를 할 때는 로지스틱 회귀를 사용\n",
        "- 선형 회귀 + 로지스틱 함수(softmax) = 로지스틱 회귀\n",
        "- 로지스틱 회귀의 단계\n",
        "  - 라이브러리 임포트\n",
        "  - 데이터셋 준비\n",
        "    - MNIST 데이터셋 사용\n",
        "    - 28*28 크기의 이미지와 0부터 9까지 10개의 label(분류 타겟) 존재\n",
        "    - 데이터를 나누기 위해 사이킷런의 train_test_split 사용\n",
        "    - 80%가 train 데이터셋, 20%가 test 데ㅣ터셋\n",
        "    - feature와 target 텐서 만들기. 다음 부분부터 이 텐서들로부터 변수를 생성(경사의 누적에 대한 변수 정의)\n",
        "    - batch_size: 전체 데이터셋을 몇 개의 그룹으로 나눌 때, 그룹의 크기를 의미.예를 들어 데이터셋에 1000개의 샘플이 있고 이를 100개의 샘플을 포함하는 10개의 그룹으로 나눈다고 할 때 batch_size = 100.\n",
        "    - epoch: 1 epoch은 모든 샘플들을 한 번씩 훈련하는 것을 의미\n",
        "    - 우리의 예시에서 33600개의 샘플을 훈련시키고 batch_size를 100으로 설정. 또한 epoch은 29로 설정함(정확도는 epoch가 29일 때 거의 가장 높은 값을 달성). 데이터는 29번 훈련되며, 총 반복 횟수는 9744회(100사이즈의 그룹 336개, epoch가 29이므로 336*29=9744).\n",
        "    - TensorDataset(): tensor를 wrapping하는 데이터셋. 각 샘플은 첫 번째 차원을 따라 tensor를 인덱싱하여 검색함.\n",
        "    - DataLoader(): 데이터셋과 샘플을 결합하고, 데이터셋에 대한 멀티프로세스 반복을 제공\n",
        "    - 데이터셋의 이미지 중 하나를 시각화\n",
        "  - 로지스틱 회귀 모델 생성\n",
        "    - 선형 회귀와 동일\n",
        "    - 모델 안에 로지스틱 함수 포함\n",
        "    - 파이토치에서 로지스틱 함수는 손실 함수 안에 존재\n",
        "  - 모델 예시\n",
        "    - 입력 차원: 28*28 (이미지 사이즈)\n",
        "    - 출력 차원: 10 (0부터 9까지의 label)\n",
        "  - 손실 예시\n",
        "    - 교차 엔트로피 오차\n",
        "  - 모델 훈련 및 예측\n",
        "- 결과적으로 그래프를 통해 확인할 수 있듯이, 손실은 감소하는 반면 정확도(85%)는 증가하고 있으며 모델은 훈련 중임."
      ],
      "metadata": {
        "id": "IIdngahj6OVP"
      }
    },
    {
      "cell_type": "code",
      "source": [
        "# Import Libraries\n",
        "import torch\n",
        "import torch.nn as nn\n",
        "from torch.autograd import Variable\n",
        "from torch.utils.data import DataLoader\n",
        "import pandas as pd\n",
        "from sklearn.model_selection import train_test_split"
      ],
      "metadata": {
        "id": "gCZy_8Ly5fmP"
      },
      "execution_count": 37,
      "outputs": []
    },
    {
      "cell_type": "code",
      "source": [
        "from google.colab import drive\n",
        "drive.mount('/content/drive')"
      ],
      "metadata": {
        "colab": {
          "base_uri": "https://localhost:8080/"
        },
        "id": "Jsm6uSPpAM9s",
        "outputId": "d6c05c59-6c22-41a2-8e45-b870b79d0d6e"
      },
      "execution_count": 38,
      "outputs": [
        {
          "output_type": "stream",
          "name": "stdout",
          "text": [
            "Drive already mounted at /content/drive; to attempt to forcibly remount, call drive.mount(\"/content/drive\", force_remount=True).\n"
          ]
        }
      ]
    },
    {
      "cell_type": "code",
      "source": [
        "# 데이터셋 준비\n",
        "# 데이터 로드\n",
        "train = pd.read_csv(r\"/content/drive/MyDrive/data/digit_train.csv\",dtype = np.float32)\n",
        "\n",
        "# features(pixels) 와 labels(numbers from 0 to 9)로 데이터 분리\n",
        "targets_numpy = train.label.values\n",
        "features_numpy = train.loc[:,train.columns != \"label\"].values/255 # 정규화\n",
        "\n",
        "# 훈련 세트, 테스트 세트 분리 (80:20)\n",
        "features_train, features_test, targets_train, targets_test = train_test_split(features_numpy,\n",
        "                                                                             targets_numpy,\n",
        "                                                                             test_size = 0.2,\n",
        "                                                                             random_state = 42)"
      ],
      "metadata": {
        "id": "02wEAmcv94_q"
      },
      "execution_count": 39,
      "outputs": []
    },
    {
      "cell_type": "code",
      "source": [
        "# 훈련 세트에 대한 feature, target tensor 생성\n",
        "# 경사 누적을 위한 변수(variable) 필요 >> tensor 생성 후 변수 생성\n",
        "targetsTrain = torch.from_numpy(targets_train).type(torch.LongTensor) # data type is long\n",
        "\n",
        "# 테스트 세트에 대한 feature, target tensor 생성\n",
        "featuresTest = torch.from_numpy(features_test)\n",
        "targetsTest = torch.from_numpy(targets_test).type(torch.LongTensor) # data type is long\n",
        "\n",
        "# batch_size, epoch and iteration\n",
        "batch_size = 100\n",
        "n_iters = 10000\n",
        "num_epochs = n_iters / (len(features_train) / batch_size)\n",
        "num_epochs = int(num_epochs)\n",
        "\n",
        "# Pytorch train and test sets\n",
        "# torch.utils.data: PyTorch에서 데이터셋과 데이터로더를 관리하기 위한 유틸리티 함수와 클래스를 제공하는 서브 모듈\n",
        "# featuresTrain과 targetsTrain은 훈련 데이터의 입력 특성과 타겟(레이블)을 나타내는 PyTorch 텐서\n",
        "# TensorDataset 클래스: 입력된 텐서들을 묶어서 하나의 데이터셋으로 만들어줌\n",
        "# 각각의 텐서는 동일한 인덱스에 있는 데이터들끼리 연결\n",
        "train = torch.utils.data.TensorDataset(featuresTrain,targetsTrain)\n",
        "test = torch.utils.data.TensorDataset(featuresTest,targetsTest)\n",
        "\n",
        "# data loader: 반복문에서 간편하게 미니배치 단위로 데이터를 추출\n",
        "\n",
        "# PyTorch의 DataLoader를 사용하여 훈련 데이터셋과 테스트 데이터셋을 미니배치로 나누고 셔플링함\n",
        "# train은 훈련 데이터셋을 나타내는 TensorDataset 객체, 'test는 테스트 데이터셋을 나타내는 TensorDataset 객체\n",
        "# batch_size는 미니배치의 크기를 지정하는 매개변수로, 훈련 데이터를 미니배치로 나눔\n",
        "# shuffle은 데이터를 에포크마다 섞을지 여부를 나타내는 매개변수로 여기서는 False로 설정하여 순서대로 데이터를 로드함\n",
        "train_loader = DataLoader(train, batch_size = batch_size, shuffle = False)\n",
        "test_loader = DataLoader(test, batch_size = batch_size, shuffle = False)\n",
        "\n",
        "# 데이터셋에 있는 이미지를 시각화\n",
        "\n",
        "# features_numpy는 이미지 데이터를 담고 있는 NumPy 배열이라고 가정, 여기서는 10번째 이미지를 시각화\n",
        "# reshape(28,28)를 사용하여 이미지를 28x28 크기로 변형하여 시각화\n",
        "#.imshow(): 이미지를 표시하는 함수\n",
        "plt.imshow(features_numpy[10].reshape(28,28))\n",
        "\n",
        "plt.axis(\"off\") # 이미지 주변에 있는 축을 비활성화하여 이미지 주변에 불필요한 눈금 및 축을 제거\n",
        "plt.title(str(targets_numpy[10])) # 이미지의 레이블을 타이틀로 추가 (targets_numpy는 이미지에 대한 레이블이 담긴 NumPy 배열이라고 가정)\n",
        "plt.savefig('graph.png') # 시각화한 이미지를 'graph.png'라는 파일로 저장\n",
        "plt.show()"
      ],
      "metadata": {
        "colab": {
          "base_uri": "https://localhost:8080/",
          "height": 428
        },
        "id": "37pduCP_99Nl",
        "outputId": "b0c1e260-feb4-4795-96de-82a1e9f533b1"
      },
      "execution_count": 40,
      "outputs": [
        {
          "output_type": "display_data",
          "data": {
            "text/plain": [
              "<Figure size 640x480 with 1 Axes>"
            ],
            "image/png": "[encoded data removed]"
          },
          "metadata": {}
        }
      ]
    },
    {
      "cell_type": "code",
      "source": [
        "# 로지스틱 회귀 모델 생성\n",
        "class LogisticRegressionModel(nn.Module):\n",
        "    def __init__(self, input_dim, output_dim):\n",
        "        super(LogisticRegressionModel, self).__init__()\n",
        "        # 선형 부분\n",
        "        self.linear = nn.Linear(input_dim, output_dim)\n",
        "        # 로지스틱 회귀이므로 로지스틱 함수가 있어야 함\n",
        "        # 그러나 Pytorch의 로지스틱 함수는 손실 함수에 있음\n",
        "        # 함수 넣는 것을 잊은 것이 아니라, 단지 다음 단계에 있을 뿐\n",
        "\n",
        "    def forward(self, x): # 선형 회귀와 동일\n",
        "        out = self.linear(x)\n",
        "        return out\n",
        "\n",
        "# 모델 클래스 초기화\n",
        "input_dim = 28*28 # size of image px*px\n",
        "output_dim = 10  # labels 0,1,2,3,4,5,6,7,8,9\n",
        "\n",
        "# 로지스틱 회귀 모델 생성\n",
        "model = LogisticRegressionModel(input_dim, output_dim)\n",
        "\n",
        "# 교차 엔트로피 오차\n",
        "error = nn.CrossEntropyLoss()\n",
        "\n",
        "# 확률적 경사 하강법의 최적화 알고리즘\n",
        "learning_rate = 0.001 # 학습률\n",
        "\n",
        "# PyTorch에서 SGD 최적화 알고리즘을 사용하여 모델의 매개변수를 업데이트하는데 사용되는 옵티마이저를 설정\n",
        "# torch.optim.SGD: 확률적 경사 하강법(SGD)을 구현한 PyTorch의 SGD 옵티마이저\n",
        "# model.parameters(): 모델의 학습 가능한 모든 매개변수를 반환하는 함수\n",
        "optimizer = torch.optim.SGD(model.parameters(), lr=learning_rate)"
      ],
      "metadata": {
        "id": "Ej_nxnge-Ax_"
      },
      "execution_count": 41,
      "outputs": []
    },
    {
      "cell_type": "code",
      "source": [
        "# 모델 훈련\n",
        "count = 0\n",
        "loss_list = []\n",
        "iteration_list = []\n",
        "\n",
        "# 전체 데이터셋에 대해 여러 번(epoch 수 만큼) 반복하며 미니배치를 가져오기 위한 루프\n",
        "for epoch in range(num_epochs):\n",
        "    for i, (images, labels) in enumerate(train_loader):\n",
        "\n",
        "        # 변수 정의\n",
        "        # 불러온 이미지 데이터를 펼쳐서 1차원 벡터로 만들고, Variable을 사용하여 PyTorch에서 처리할 수 있는 형태로 변환\n",
        "        train = Variable(images.view(-1, 28*28))\n",
        "        labels = Variable(labels)\n",
        "\n",
        "        # 그래디언트 초기화\n",
        "        # PyTorch에서는 기본적으로 이전 반복의 그래디언트를 저장하기 때문에, 매 반복마다 그래디언트를 초기화해야 함\n",
        "        optimizer.zero_grad()\n",
        "\n",
        "        # 순전파\n",
        "        # 모델에 입력 데이터를 전달하여 예측값을 얻음\n",
        "        outputs = model(train)\n",
        "\n",
        "        # 손실 계산\n",
        "        # 모델의 예측값과 실제 레이블 간의 손실을 계산\n",
        "        loss = error(outputs, labels)\n",
        "\n",
        "        # 역전파\n",
        "        # 손실을 사용하여 역전파를 수행하고, 각 매개변수에 대한 그래디언트를 계산\n",
        "        loss.backward()\n",
        "\n",
        "        # 계산된 그래디언트를 사용하여 매개변수 업데이트\n",
        "        optimizer.step()\n",
        "\n",
        "        count += 1 # 반복 횟수 증가\n",
        "\n",
        "        # 예측\n",
        "        # 매 일정한 간격(예: 50번의 반복마다) 정확도를 계산하고, 일정한 간격(예: 500번의 반복마다) 손실과 정확도를 출력\n",
        "        if count % 50 == 0:\n",
        "            # 정확도 계산\n",
        "            correct = 0\n",
        "            total = 0\n",
        "            # Predict test dataset\n",
        "\n",
        "            # test_loader를 통해 테스트 데이터셋에 대한 미니배치를 가져옴\n",
        "            # 각 미니배치를 모델에 전달하고, 모델의 출력에서 예측값을 얻음\n",
        "            # 정확한 예측 수를 총 정답 수에 더함\n",
        "            for images, labels in test_loader:\n",
        "                test = Variable(images.view(-1, 28*28))\n",
        "\n",
        "                # 순전파\n",
        "                outputs = model(test)\n",
        "\n",
        "                # 모델의 출력에서 최댓값을 찾아 예측 클래스를 가져옴\n",
        "                # 최댓값을 찾아서 예측 클래스를 가져오는 것은 주로 분류 문제에서 모델의 출력 중에서 가장 높은 확률을 가지는 클래스를 선택하는 방법\n",
        "                # 모델의 출력은 보통 소프트맥스(softmax) 함수를 통과하게 되면 각 클래스에 속할 확률값으로 나타남\n",
        "                predicted = torch.max(outputs.data, 1)[1]\n",
        "\n",
        "                # 전체 레이블 수를 더하고, 정확한 예측 수를 계산하여 correct에 더함\n",
        "\n",
        "                total += len(labels)\n",
        "\n",
        "                # 전체 correct predictions\n",
        "                correct += (predicted == labels).sum()\n",
        "\n",
        "            # 정확도 계산 및 저장\n",
        "            # 정확도를 전체 데이터셋에 대한 정답률로 계산\n",
        "            # 계산된 정확도를 리스트에 추가\n",
        "            # 손실과 반복 횟수도 리스트에 추가\n",
        "            accuracy = 100 * correct / float(total)\n",
        "\n",
        "            # 손실과 반복 저장\n",
        "            loss_list.append(loss.data)\n",
        "            iteration_list.append(count)\n",
        "\n",
        "        if count % 500 == 0:\n",
        "            # Print Loss\n",
        "            print('Iteration: {}  Loss: {}  Accuracy: {}%'.format(count, loss.data, accuracy))\n"
      ],
      "metadata": {
        "colab": {
          "base_uri": "https://localhost:8080/"
        },
        "id": "LQvDmRmVAyEo",
        "outputId": "b6b23cd3-f4cb-4a01-a3f0-a09677ffa37f"
      },
      "execution_count": 44,
      "outputs": [
        {
          "output_type": "stream",
          "name": "stdout",
          "text": [
            "Iteration: 500  Loss: 0.5645173788070679  Accuracy: 85.96428680419922%\n",
            "Iteration: 1000  Loss: 0.6604678630828857  Accuracy: 86.11904907226562%\n",
            "Iteration: 1500  Loss: 0.4804125130176544  Accuracy: 86.1547622680664%\n",
            "Iteration: 2000  Loss: 0.5825194120407104  Accuracy: 86.25%\n",
            "Iteration: 2500  Loss: 0.5339609384536743  Accuracy: 86.35713958740234%\n",
            "Iteration: 3000  Loss: 0.3981034755706787  Accuracy: 86.55952453613281%\n",
            "Iteration: 3500  Loss: 0.5301312208175659  Accuracy: 86.63095092773438%\n",
            "Iteration: 4000  Loss: 0.38779616355895996  Accuracy: 86.80952453613281%\n",
            "Iteration: 4500  Loss: 0.7063114643096924  Accuracy: 86.89286041259766%\n",
            "Iteration: 5000  Loss: 0.5221177935600281  Accuracy: 86.94047546386719%\n",
            "Iteration: 5500  Loss: 0.5085040926933289  Accuracy: 87.0%\n",
            "Iteration: 6000  Loss: 0.6531243920326233  Accuracy: 87.11904907226562%\n",
            "Iteration: 6500  Loss: 0.44170719385147095  Accuracy: 87.16666412353516%\n",
            "Iteration: 7000  Loss: 0.518631100654602  Accuracy: 87.21428680419922%\n",
            "Iteration: 7500  Loss: 0.45419037342071533  Accuracy: 87.22618865966797%\n",
            "Iteration: 8000  Loss: 0.5872360467910767  Accuracy: 87.39286041259766%\n",
            "Iteration: 8500  Loss: 0.4137895703315735  Accuracy: 87.45237731933594%\n",
            "Iteration: 9000  Loss: 0.5009725093841553  Accuracy: 87.52381134033203%\n",
            "Iteration: 9500  Loss: 0.41010287404060364  Accuracy: 87.54762268066406%\n"
          ]
        }
      ]
    },
    {
      "cell_type": "code",
      "source": [
        "# 시각화\n",
        "plt.plot(iteration_list,loss_list)\n",
        "plt.xlabel(\"Number of iteration\")\n",
        "plt.ylabel(\"Loss\")\n",
        "plt.title(\"Logistic Regression: Loss vs Number of iteration\")\n",
        "plt.show()"
      ],
      "metadata": {
        "colab": {
          "base_uri": "https://localhost:8080/",
          "height": 472
        },
        "id": "HvKYfn1TBOLi",
        "outputId": "5b9794d8-6fe0-41c3-c8ef-0e06f9510458"
      },
      "execution_count": 43,
      "outputs": [
        {
          "output_type": "display_data",
          "data": {
            "text/plain": [
              "<Figure size 640x480 with 1 Axes>"
            ],
            "image/png": "[encoded data removed]"
          },
          "metadata": {}
        }
      ]
    },
    {
      "cell_type": "markdown",
      "source": [
        "## 🌀Artificial Neural Network(ANN)\n",
        "- 로지스틱 회귀는 분류에 효과적이지만, 복잡도가 증가하면 모델의 정확도가 떨어진다\n",
        "- 따라서 모델의 복잡도를 증가시켜야 한다\n",
        "- 모델의 복잡도를 높이기 위해, 은닉층으로 비선형 함수를 더 추가해야 한다\n",
        "- 우리가 ANN에서 기대하는 것은 복잡성이 증가할 때, 모델이 잘 적응할 수 있도록 은닉층을 더 넣어주는 것이며, 그 결과 정확도가 증가할 것이다."
      ],
      "metadata": {
        "id": "HRvuXNjeiqeO"
      }
    },
    {
      "cell_type": "markdown",
      "source": [
        "- ANN의 단계\n",
        "  - 라이브러리 임포트\n",
        "  - 데이터셋 준비\n",
        "    - 데이터셋, batch size, epoch, iteration number 이전과 동일\n",
        "  - ANN 모델 생성\n",
        "    - 3개의 은닉층 추가\n",
        "    - ReLU, Tanh, ELU 활성화 함수 사용\n",
        "  - 모델 클래스의 인스턴스화\n",
        "    - 입력 차원: 28*28\n",
        "    - 출력 차원: 10\n",
        "    - 은닉층의 차원: 150(정해진 것이 아님, 다른 차원을 이용하고 결과를 비교해보는 것도 좋음)\n",
        "    - 모델 생성\n",
        "  - 손실의 인스턴스화\n",
        "    - 교차 엔트로피 오차\n",
        "    - softmax(logistic function) 보유\n",
        "  - 최적화 알고리즘 인스턴스화\n",
        "    - SGD Optimizer\n",
        "  - 모델 훈련 및 예측"
      ],
      "metadata": {
        "id": "b6qAGcmVjd9l"
      }
    },
    {
      "cell_type": "markdown",
      "source": [
        "- 그래프를 통해 알 수 있듯, 손실이 감소하는 동안 정확도 증가\n",
        "- 은닉 계층 덕분에 모형이 더 잘 학습되었고 정확도(거의 95%)가 로지스틱 회귀 모형의 정확도보다 더 향상되었음"
      ],
      "metadata": {
        "id": "mljccf8xkYH7"
      }
    },
    {
      "cell_type": "code",
      "source": [
        "# Import Libraries\n",
        "import torch\n",
        "import torch.nn as nn\n",
        "from torch.autograd import Variable"
      ],
      "metadata": {
        "id": "igw-VzTqjX7L"
      },
      "execution_count": 45,
      "outputs": []
    },
    {
      "cell_type": "code",
      "source": [
        "# Create ANN Model\n",
        "class ANNModel(nn.Module): # nn.Module 클래스를 상속하는 ANNModel 클래스를 정의\n",
        "\n",
        "    def __init__(self, input_dim, hidden_dim, output_dim): # __init__ 메서드에서 모델의 초기 설정을 수행\n",
        "        # super(ANNModel, self).__init__()은 부모 클래스인 nn.Module의 초기화 메서드를 호출\n",
        "        super(ANNModel, self).__init__()\n",
        "\n",
        "        # 신경망의 각 층 정의\n",
        "        # 선형 변환 층 (nn.Linear)과 활성화 함수 (nn.ReLU, nn.Tanh, nn.ELU)을 갖는 각 층을 정의\n",
        "        # 입력 차원(input_dim), 은닉층 차원(hidden_dim), 출력 차원(output_dim)을 인자로 받아 초기화\n",
        "\n",
        "        # 은닉층1\n",
        "        # Linear function 1: 784 --> 150\n",
        "        self.fc1 = nn.Linear(input_dim, hidden_dim)\n",
        "        # Non-linearity 1\n",
        "        self.relu1 = nn.ReLU()\n",
        "\n",
        "        # 은닉층2\n",
        "        # Linear function 2: 150 --> 150\n",
        "        self.fc2 = nn.Linear(hidden_dim, hidden_dim)\n",
        "        # Non-linearity 2\n",
        "        self.tanh2 = nn.Tanh()\n",
        "\n",
        "        # 은닉층3\n",
        "        # Linear function 3: 150 --> 150\n",
        "        self.fc3 = nn.Linear(hidden_dim, hidden_dim)\n",
        "        # Non-linearity 3\n",
        "        self.elu3 = nn.ELU()\n",
        "\n",
        "        # 출력층\n",
        "        # Linear function 4 (readout): 150 --> 10\n",
        "        self.fc4 = nn.Linear(hidden_dim, output_dim)\n",
        "\n",
        "    # 순전파 매소드 정의, 각 층의 연산을 순서대로 진행하고 최종적으로 출력을 반환\n",
        "    def forward(self, x):\n",
        "\n",
        "        # 첫 번째 은닉층에 입력 데이터 x를 전달하여 선형 변환을 수행하고, 그 결과를 활성화 함수 ReLU에 적용\n",
        "        # Linear function 1\n",
        "        out = self.fc1(x)\n",
        "        # Non-linearity 1\n",
        "        out = self.relu1(out)\n",
        "\n",
        "        # 두 번째 은닉층에 이전 층의 출력 out을 전달하여 선형 변환을 수행하고, 그 결과를 활성화 함수 Tanh에 적용\n",
        "        # Linear function 2\n",
        "        out = self.fc2(out)\n",
        "        # Non-linearity 2\n",
        "        out = self.tanh2(out)\n",
        "\n",
        "        # 세 번째 은닉층에 이전 층의 출력 out을 전달하여 선형 변환을 수행하고, 그 결과를 활성화 함수 ELU에 적용\n",
        "        # Linear function 2\n",
        "        out = self.fc3(out)\n",
        "        # Non-linearity 2\n",
        "        out = self.elu3(out)\n",
        "\n",
        "        # 출력층에 이전 층의 출력 out을 전달하여 선형 변환을 수행\n",
        "        # Linear function 4 (readout)\n",
        "        out = self.fc4(out)\n",
        "\n",
        "        return out # 출력 반환\n",
        "\n",
        "# ANN을 인스턴스화\n",
        "input_dim = 28*28 # 입력 차원은 28x28 이미지를 1차원으로 펼친 크기인 input_dim\n",
        "hidden_dim = 150 # 직접 조정해야 하며, 150으로 정한 특별한 이유가 없음\n",
        "output_dim = 10\n",
        "\n",
        "# ANN 생성\n",
        "model = ANNModel(input_dim, hidden_dim, output_dim)\n",
        "\n",
        "# 손실 함수로 Cross Entropy Loss 설정\n",
        "# nn.CrossEntropyLoss()는 Cross Entropy Loss를 나타내는 PyTorch의 손실 함수\n",
        "# 모델의 출력과 정답 레이블 사이의 손실을 계산\n",
        "error = nn.CrossEntropyLoss()\n",
        "\n",
        "# 최적화 알고리즘으로 SGD Optimizer 설정\n",
        "# torch.optim.SGD는 확률적 경사 하강법(Stochastic Gradient Descent) 옵티마이저를 나타냄\n",
        "# model.parameters()를 통해 모델의 학습 가능한 매개변수들을 전달하고, lr=learning_rate로 학습률을 설정\n",
        "# 이 옵티마이저는 모델을 훈련할 때 사용될 역전파 알고리즘을 구현\n",
        "learning_rate = 0.02\n",
        "optimizer = torch.optim.SGD(model.parameters(), lr=learning_rate)"
      ],
      "metadata": {
        "id": "WcDba7pYkkhj"
      },
      "execution_count": 48,
      "outputs": []
    },
    {
      "cell_type": "code",
      "source": [
        "# ANN model training\n",
        "count = 0\n",
        "loss_list = []\n",
        "iteration_list = []\n",
        "accuracy_list = []\n",
        "\n",
        "for epoch in range(num_epochs): # 전체 데이터셋에 대해 몇 번 반복할지를 결정하는 에폭 루프\n",
        "    # 훈련 데이터셋에서 미니배치를 가져오는 루프, enumerate 함수를 사용하여 미니배치의 인덱스(i)와 데이터(images, labels)를 순회\n",
        "    for i, (images, labels) in enumerate(train_loader):\n",
        "\n",
        "        # 데이터 전처리\n",
        "        # 미니배치의 이미지 데이터를 1차원으로 평탄화하고 변수에 저장\n",
        "        train = Variable(images.view(-1, 28*28))\n",
        "        labels = Variable(labels)\n",
        "\n",
        "        # 역전파 전에 저장된 그래디언트를 초기화\n",
        "        optimizer.zero_grad()\n",
        "\n",
        "        # 순전파, 모델에 입력 데이터를 전달하여 순전파를 수행하고 출력을 얻음\n",
        "        outputs = model(train)\n",
        "\n",
        "        # 모델의 출력과 정답 레이블을 사용하여 Cross Entropy Loss(손실)를 계산\n",
        "        loss = error(outputs, labels)\n",
        "\n",
        "        # 경사 계산, 역전파 수행\n",
        "        loss.backward()\n",
        "\n",
        "        # 옵티마이저를 사용하여 모델의 매개변수를 업데이트\n",
        "        optimizer.step()\n",
        "\n",
        "        # 반복 횟수 업데이트\n",
        "        count += 1\n",
        "\n",
        "        # 일정한 간격으로 정확도를 계산하고 기록\n",
        "        if count % 50 == 0:\n",
        "            # 정확도 계산\n",
        "            correct = 0\n",
        "            total = 0\n",
        "            # 테스트 데이터에 예측, 정확도 계산\n",
        "            for images, labels in test_loader:\n",
        "\n",
        "                test = Variable(images.view(-1, 28*28))\n",
        "\n",
        "                # 순전파\n",
        "                outputs = model(test)\n",
        "\n",
        "                # 모델의 출력에서 최댓값을 찾아 예측 클래스를 가져옴\n",
        "                # 최댓값을 찾아서 예측 클래스를 가져오는 것은 주로 분류 문제에서 모델의 출력 중에서 가장 높은 확률을 가지는 클래스를 선택하는 방법\n",
        "                # 모델의 출력은 보통 소프트맥스(softmax) 함수를 통과하게 되면 각 클래스에 속할 확률값으로 나타남\n",
        "                predicted = torch.max(outputs.data, 1)[1]\n",
        "\n",
        "                # 전체 레이블 수를 더하고, 정확한 예측 수를 계산하여 correct에 더함\n",
        "\n",
        "                total += len(labels)\n",
        "\n",
        "                # 전체 correct predictions\n",
        "                correct += (predicted == labels).sum()\n",
        "\n",
        "            accuracy = 100 * correct / float(total)\n",
        "\n",
        "            # 손실, 반복 저장\n",
        "            # 정확도 및 손실 기록\n",
        "            loss_list.append(loss.data)\n",
        "            iteration_list.append(count)\n",
        "            accuracy_list.append(accuracy)\n",
        "        if count % 500 == 0: # 특정 반복 횟수에 도달할 때마다 현재 손실과 정확도를 출력하여 훈련 진행 상황을 모니터링\n",
        "            # Print Loss\n",
        "            print('Iteration: {}  Loss: {}  Accuracy: {} %'.format(count, loss.data, accuracy))\n",
        "\n"
      ],
      "metadata": {
        "colab": {
          "base_uri": "https://localhost:8080/"
        },
        "id": "D_6FVXeRk5re",
        "outputId": "4c2fa812-1ba8-49f4-893f-4437d95da2c9"
      },
      "execution_count": 51,
      "outputs": [
        {
          "output_type": "stream",
          "name": "stdout",
          "text": [
            "Iteration: 500  Loss: 0.061433807015419006  Accuracy: 96.54762268066406 %\n",
            "Iteration: 1000  Loss: 0.03397037088871002  Accuracy: 96.5952377319336 %\n",
            "Iteration: 1500  Loss: 0.022273726761341095  Accuracy: 96.71428680419922 %\n",
            "Iteration: 2000  Loss: 0.03900328278541565  Accuracy: 96.60713958740234 %\n",
            "Iteration: 2500  Loss: 0.06380531191825867  Accuracy: 96.66666412353516 %\n",
            "Iteration: 3000  Loss: 0.017173264175653458  Accuracy: 96.78571319580078 %\n",
            "Iteration: 3500  Loss: 0.04039861634373665  Accuracy: 96.9047622680664 %\n",
            "Iteration: 4000  Loss: 0.008767378516495228  Accuracy: 96.91666412353516 %\n",
            "Iteration: 4500  Loss: 0.060781460255384445  Accuracy: 96.8452377319336 %\n",
            "Iteration: 5000  Loss: 0.020362703129649162  Accuracy: 96.92857360839844 %\n",
            "Iteration: 5500  Loss: 0.05642027035355568  Accuracy: 96.83333587646484 %\n",
            "Iteration: 6000  Loss: 0.04280589893460274  Accuracy: 96.72618865966797 %\n",
            "Iteration: 6500  Loss: 0.04761621356010437  Accuracy: 96.94047546386719 %\n",
            "Iteration: 7000  Loss: 0.016610467806458473  Accuracy: 96.83333587646484 %\n",
            "Iteration: 7500  Loss: 0.02146853506565094  Accuracy: 97.04762268066406 %\n",
            "Iteration: 8000  Loss: 0.09096607565879822  Accuracy: 96.71428680419922 %\n",
            "Iteration: 8500  Loss: 0.01594165712594986  Accuracy: 97.01190185546875 %\n",
            "Iteration: 9000  Loss: 0.01295202225446701  Accuracy: 97.03571319580078 %\n",
            "Iteration: 9500  Loss: 0.0058504072949290276  Accuracy: 96.83333587646484 %\n"
          ]
        }
      ]
    },
    {
      "cell_type": "code",
      "source": [
        "# 손실(오차) 시각화\n",
        "plt.plot(iteration_list,loss_list)\n",
        "plt.xlabel(\"Number of iteration\")\n",
        "plt.ylabel(\"Loss\")\n",
        "plt.title(\"ANN: Loss vs Number of iteration\")\n",
        "plt.show()\n",
        "\n",
        "# 정확도 시각화\n",
        "plt.plot(iteration_list,accuracy_list,color = \"red\")\n",
        "plt.xlabel(\"Number of iteration\")\n",
        "plt.ylabel(\"Accuracy\")\n",
        "plt.title(\"ANN: Accuracy vs Number of iteration\")\n",
        "plt.show()"
      ],
      "metadata": {
        "colab": {
          "base_uri": "https://localhost:8080/",
          "height": 927
        },
        "id": "kzMMdpTZlblo",
        "outputId": "288ece03-be71-4dbe-f7de-8ac3493dd772"
      },
      "execution_count": 50,
      "outputs": [
        {
          "output_type": "display_data",
          "data": {
            "text/plain": [
              "<Figure size 640x480 with 1 Axes>"
            ],
            "image/png": "[encoded data removed]"
          },
          "metadata": {}
        },
        {
          "output_type": "display_data",
          "data": {
            "text/plain": [
              "<Figure size 640x480 with 1 Axes>"
            ],
            "image/png": "[encoded data removed]"
          },
          "metadata": {}
        }
      ]
    },
    {
      "cell_type": "markdown",
      "source": [
        "- 위 그래프에서 반복이 진행될수록 손실은 점점 감소하는 반면, 정확도는 점점 증가하고 있다"
      ],
      "metadata": {
        "id": "_DVbKLHqrRkD"
      }
    },
    {
      "cell_type": "markdown",
      "source": [
        "## 🌀Convolutional Neural Network(CNN)\n",
        "- CNN은 이미지를 분류하는 데 유용함\n",
        "- CNN의 단계\n",
        "  - 라이브러리 임포트\n",
        "  - 데이터셋 준비\n",
        "    - 이전과 동일\n",
        "  - Convolutional layer(합성곱 레이어): 입력 데이터에 대해 필터(커널)를 이용한 컨볼루션 연산을 수행하여 특징을 추출\n",
        "    - 필터(kernels)를 사용하여 형상 지도 제작\n",
        "    - 패딩: 필터를 적용한 후 원본 이미지의 차수 감소. 그러나 원본 이미지에 대한 정보를 보존하기 위해, 패딩을 이용하여 합성곱 레이어 이후에 feature map의 차원을 증가\n",
        "    - 2개의 합성곱 레이어 사용\n",
        "    - feature map 개수: out_channels = 16\n",
        "    - feature map: 입력 데이터로부터 추출된 특징을 나타내는 3D 배열, 높이/너비/채널에 대한 정보 담고있음\n",
        "    - 필터(kernel) 크기: 5*5\n",
        "  - Pooling layer(풀링 레이어)\n",
        "    - 이미지 처리와 같은 신경망에서 공간 차원을 줄이고 계산량을 감소시키기 위해 사용되는 레이어\n",
        "    - 합성곱 레이어(feature map)의 출력에서 축약된 feature map을 준비\n",
        "    - max pooling: 주어진 영역에서 최대값을 추출하는 방식, 풀링 영역(윈도우)이 입력을 스캔하면서 각 영역에서 가장 큰 값을 선택하여 특징 맵을 생성\n",
        "    - max pooling을 위한 2 pooling layer\n",
        "    - pooling size: 풀링 레이어에서 사용되는 풀링 윈도우의 크기, 여기서는 2*2\n",
        "    - pooling window: 풀링 연산을 수행할 때, 입력 데이터를 격자로 나누어 각 격자에 대해 적용되는 영역\n",
        "  - Flattening(평탄화): feature map(3차원)을 평탄화\n",
        "  - Fully Connected Layer(전결합층, 완전 연결층)\n",
        "    - 각 뉴런이 이전 층의 모든 뉴런과 연결되어 있는 층\n",
        "    - 이전에 학습했던 인공신경망(ANN)\n",
        "    - 또는 로지스틱 회귀 분석처럼 선형일 수 있지만, 마지막에는 항상 softmax 함수가 존재\n",
        "    - 활성화 기능 사용 X\n",
        "    - 로지스틱 회귀라고 생각할 수 있음\n",
        "    - 합성곱 부분과 로지스틱 회귀 부분을 결합하여 CNN 모델 생성\n",
        "  - 모델 클래스 인스턴스화\n",
        "    - 모델 생성\n",
        "  - 손실 인스턴스화\n",
        "    - 교차 엔트로피 손실\n",
        "    - 로지스틱 함수의 softmax도 보유\n",
        "  - 최적화 함수 인스턴스화\n",
        "    - SGD Optimizer\n",
        "  - 모델 훈련 및 예측\n",
        "- 시각화 그림을 보면 결과적으로 손실은 감소하는 반면, 정확도는 증가함\n",
        "- 합성곱 계층 덕본에 모델이 더 잘 학습되었으며 정확도가 ANN 모델보다 우수함. 실제로 하이퍼파라미터를 조정하는 동안 반복이 증가하고 합성곱 신경망이 확좡되면 정확도가 높아질 수 있지만, 실행시간이 많이 소요된다는 단점이 있음\n",
        "\n",
        "\n",
        "    \n"
      ],
      "metadata": {
        "id": "WAk2mtM5slx_"
      }
    },
    {
      "cell_type": "code",
      "source": [
        "# Import Libraries\n",
        "import torch\n",
        "import torch.nn as nn\n",
        "from torch.autograd import Variable"
      ],
      "metadata": {
        "id": "tCa8NtvvrYFD"
      },
      "execution_count": 52,
      "outputs": []
    },
    {
      "cell_type": "code",
      "source": [
        "# CNN 모델 생성\n",
        "class CNNModel(nn.Module):\n",
        "    def __init__(self):\n",
        "        super(CNNModel, self).__init__() # __init__ 메서드에서 모델의 초기 설정을 수행\n",
        "        # super(CNNModel, self).__init__()은 부모 클래스인 nn.Module의 초기화 메서드를 호출\n",
        "\n",
        "        # 합성곱 레이어: 이미지나 음성과 같은 다차원 데이터에서 지역적인 패턴을 인식, 입력 데이터에 대해 커널(필터)을 이동시켜가며 각 위치에서의 특징을 추출\n",
        "        # 지역적인 패턴을 학습하여 다양한 특징을 추출\n",
        "\n",
        "        # 맥스 풀링: 공간 차원을 감소시키면서 주요한 특징을 강조, 각 영역에서 최댓값을 추출하여 다음 층으로 전달\n",
        "        # 중요한 특징을 강조하고, 계산량을 줄여 속도를 향상\n",
        "\n",
        "        # 합성곱 레이어 1\n",
        "        # nn.Conv2d: 2차원 합성곱 레이어를 정의하는 클래스\n",
        "        # 입력 채널 수: 1, 출력 채널 수: 16, 커널 크기: 5x5, 스트라이드: 1, 패딩: 0\n",
        "        self.cnn1 = nn.Conv2d(in_channels=1, out_channels=16, kernel_size=5, stride=1, padding=0)\n",
        "        self.relu1 = nn.ReLU() # 신경망의 비선형성을 도입하기 위해 사용\n",
        "\n",
        "        # Max pool 1\n",
        "        # nn.MaxPool2d: 2차원 최대 풀링 레이어, 주어진 영역에서 최댓값을 선택하여 다운샘플링(데이터 크기 작게)을 수행하는 연산\n",
        "        # 2x2 크기의 맥스 풀링\n",
        "        self.maxpool1 = nn.MaxPool2d(kernel_size=2)\n",
        "\n",
        "        # 합성곱 레이어 2\n",
        "        # 입력 채널 수: 16, 출력 채널 수: 32, 커널 크기: 5x5, 스트라이드: 1, 패딩: 0\n",
        "        self.cnn2 = nn.Conv2d(in_channels=16, out_channels=32, kernel_size=5, stride=1, padding=0)\n",
        "        self.relu2 = nn.ReLU() # 신경망의 비선형성을 도입하기 위해 사용\n",
        "\n",
        "        # Max pool 2\n",
        "        # 2x2 크기의 맥스 풀링\n",
        "        self.maxpool2 = nn.MaxPool2d(kernel_size=2)\n",
        "\n",
        "        # 완전 연결 층 1\n",
        "        # 모든 입력 뉴런과 출력 뉴런이 서로 연결되어 있는 층\n",
        "        # 입력 크기: 32 * 4 * 4, 출력 크기: 10\n",
        "        self.fc1 = nn.Linear(32 * 4 * 4, 10)\n",
        "\n",
        "    def forward(self, x): # 순전\n",
        "        # Convolution 1\n",
        "\n",
        "        # 입력 데이터 x에 대해 첫 번째 합성곱 레이어인 cnn1을 적용\n",
        "        # 입력 이미지에 커널을 적용하여 특징 맵을 생성\n",
        "        out = self.cnn1(x)\n",
        "\n",
        "        # 첫 번째 합성곱 레이어의 출력에 ReLU(활성화 함수)를 적용. 비선형성 추가\n",
        "        out = self.relu1(out)\n",
        "\n",
        "        # Max pool 1\n",
        "        # 첫 번째 최대 풀링 레이어를 적용\n",
        "        # 특징 맵을 다운샘플링하여 공간 차원을 줄\n",
        "        out = self.maxpool1(out)\n",
        "\n",
        "        # Convolution 2\n",
        "        out = self.cnn2(out)\n",
        "        out = self.relu2(out)\n",
        "\n",
        "        # Max pool 2\n",
        "        out = self.maxpool2(out)\n",
        "\n",
        "        # flatten\n",
        "        # 3차원 텐서를 1차원으로 평탄화\n",
        "        # fully connected layer에 입력하기 위해 특징 맵의 모양을 변경하는 과정\n",
        "        out = out.view(out.size(0), -1)\n",
        "\n",
        "        # Linear function (readout)\n",
        "        # 평탄화된 특징을 fully connected layer fc1에 적용하여 최종 출력을 얻음\n",
        "        # 입력된 특징을 10개의 클래스로 매핑\n",
        "        out = self.fc1(out)\n",
        "\n",
        "        return out\n",
        "\n",
        "\n",
        "# batch_size, epoch and iteration\n",
        "batch_size = 100\n",
        "n_iters = 2500\n",
        "num_epochs = n_iters / (len(features_train) / batch_size)\n",
        "num_epochs = int(num_epochs)\n",
        "\n",
        "# Pytorch train and test sets\n",
        "# torch.utils.data: PyTorch에서 데이터셋과 데이터로더를 관리하기 위한 유틸리티 함수와 클래스를 제공하는 서브 모듈\n",
        "# featuresTrain과 targetsTrain은 훈련 데이터의 입력 특성과 타겟(레이블)을 나타내는 PyTorch 텐서\n",
        "# TensorDataset 클래스: 입력된 텐서들을 묶어서 하나의 데이터셋으로 만들어줌\n",
        "# 각각의 텐서는 동일한 인덱스에 있는 데이터들끼리 연결\n",
        "train = torch.utils.data.TensorDataset(featuresTrain,targetsTrain)\n",
        "test = torch.utils.data.TensorDataset(featuresTest,targetsTest)\n",
        "\n",
        "# data loader 반복문에서 간편하게 미니배치 단위로 데이터를 추출\n",
        "\n",
        "# PyTorch의 DataLoader를 사용하여 훈련 데이터셋과 테스트 데이터셋을 미니배치로 나누고 셔플링함\n",
        "# train은 훈련 데이터셋을 나타내는 TensorDataset 객체, 'test는 테스트 데이터셋을 나타내는 TensorDataset 객체\n",
        "# batch_size는 미니배치의 크기를 지정하는 매개변수로, 훈련 데이터를 미니배치로 나눔\n",
        "# shuffle은 데이터를 에포크마다 섞을지 여부를 나타내는 매개변수로 여기서는 False로 설정하여 순서대로 데이터를 로드함\n",
        "train_loader = torch.utils.data.DataLoader(train, batch_size = batch_size, shuffle = False)\n",
        "test_loader = torch.utils.data.DataLoader(test, batch_size = batch_size, shuffle = False)\n",
        "\n",
        "# CNN 모델 생성\n",
        "model = CNNModel()\n",
        "\n",
        "# 손실 함수로 Cross Entropy Loss 설정\n",
        "# nn.CrossEntropyLoss()는 Cross Entropy Loss를 나타내는 PyTorch의 손실 함수\n",
        "# 모델의 출력과 정답 레이블 사이의 손실을 계산\n",
        "error = nn.CrossEntropyLoss()\n",
        "\n",
        "# 최적화 알고리즘으로 SGD Optimizer 설정\n",
        "# torch.optim.SGD는 확률적 경사 하강법(Stochastic Gradient Descent) 옵티마이저를 나타냄\n",
        "# model.parameters()를 통해 모델의 학습 가능한 매개변수들을 전달하고, lr=learning_rate로 학습률을 설정\n",
        "# 이 옵티마이저는 모델을 훈련할 때 사용될 역전파 알고리즘을 구현\n",
        "learning_rate = 0.1\n",
        "optimizer = torch.optim.SGD(model.parameters(), lr=learning_rate)"
      ],
      "metadata": {
        "id": "ovSBhovwy01x"
      },
      "execution_count": 56,
      "outputs": []
    },
    {
      "cell_type": "code",
      "source": [
        "# CNN model training\n",
        "count = 0\n",
        "loss_list = []\n",
        "iteration_list = []\n",
        "accuracy_list = []\n",
        "for epoch in range(num_epochs): # 전체 데이터셋에 대해 몇 번 반복할지를 결정하는 에폭 루프\n",
        "    # 훈련 데이터셋에서 미니배치를 가져오는 루프, enumerate 함수를 사용하여 미니배치의 인덱스(i)와 데이터(images, labels)를 순회\n",
        "    for i, (images, labels) in enumerate(train_loader):\n",
        "\n",
        "        # 데이터 전처리\n",
        "        # 100개의 이미지가 한 미니배치에 있고 각 이미지는 1채널(흑백 이미지)이며, 크기가 28x28 픽셀임\n",
        "        train = Variable(images.view(100,1,28,28))\n",
        "        labels = Variable(labels)\n",
        "\n",
        "        # 역전파 전에 저장된 그래디언트를 초기화\n",
        "        optimizer.zero_grad()\n",
        "\n",
        "        # 순전파, 모델에 입력 데이터를 전달하여 순전파를 수행하고 출력을 얻음\n",
        "        outputs = model(train)\n",
        "\n",
        "        # 모델의 출력과 정답 레이블을 사용하여 Cross Entropy Loss(손실)를 계산\n",
        "        loss = error(outputs, labels)\n",
        "\n",
        "        # 경사 계산, 역전파 수행\n",
        "        loss.backward()\n",
        "\n",
        "        # 옵티마이저(알고리즘 최적화)를 사용하여 모델의 매개변수를 업데이트\n",
        "        optimizer.step()\n",
        "\n",
        "        # 반복 횟수 업데이트\n",
        "        count += 1\n",
        "\n",
        "        # 일정한 간격으로 정확도를 계산하고 기록\n",
        "        if count % 50 == 0:\n",
        "            # 정확도 계산\n",
        "            correct = 0\n",
        "            total = 0\n",
        "            # 테스트 데이터에 예측, 정확도 계산\n",
        "            for images, labels in test_loader:\n",
        "\n",
        "                test = Variable(images.view(100,1,28,28))\n",
        "\n",
        "                # 순전파\n",
        "                outputs = model(test)\n",
        "\n",
        "                # 모델의 출력에서 최댓값을 찾아 예측 클래스를 가져옴\n",
        "                # 최댓값을 찾아서 예측 클래스를 가져오는 것은 주로 분류 문제에서 모델의 출력 중에서 가장 높은 확률을 가지는 클래스를 선택하는 방법\n",
        "                # 모델의 출력은 보통 소프트맥스(softmax) 함수를 통과하게 되면 각 클래스에 속할 확률값으로 나타남\n",
        "                predicted = torch.max(outputs.data, 1)[1]\n",
        "\n",
        "                # 전체 레이블 수를 더하고, 정확한 예측 수를 계산하여 correct에 더함\n",
        "\n",
        "                total += len(labels)\n",
        "\n",
        "                # 전체 correct predictions\n",
        "                correct += (predicted == labels).sum()\n",
        "\n",
        "            accuracy = 100 * correct / float(total)\n",
        "\n",
        "            # 손실, 반복 저장\n",
        "            # 정확도 및 손실 기록\n",
        "            loss_list.append(loss.data)\n",
        "            iteration_list.append(count)\n",
        "            accuracy_list.append(accuracy)\n",
        "        if count % 500 == 0: # 특정 반복 횟수에 도달할 때마다 현재 손실과 정확도를 출력하여 훈련 진행 상황을 모니터링\n",
        "            # Print Loss\n",
        "            print('Iteration: {}  Loss: {}  Accuracy: {} %'.format(count, loss.data, accuracy))"
      ],
      "metadata": {
        "colab": {
          "base_uri": "https://localhost:8080/"
        },
        "id": "gu6gMGrbzAgD",
        "outputId": "51d1740e-56bf-40dd-c86f-8b8046fa1fc2"
      },
      "execution_count": 54,
      "outputs": [
        {
          "output_type": "stream",
          "name": "stdout",
          "text": [
            "Iteration: 500  Loss: 0.12923818826675415  Accuracy: 96.52381134033203 %\n",
            "Iteration: 1000  Loss: 0.044352903962135315  Accuracy: 97.55952453613281 %\n",
            "Iteration: 1500  Loss: 0.05668875202536583  Accuracy: 97.82142639160156 %\n",
            "Iteration: 2000  Loss: 0.01846305839717388  Accuracy: 98.08333587646484 %\n"
          ]
        }
      ]
    },
    {
      "cell_type": "code",
      "source": [
        "# 손실 시각화\n",
        "plt.plot(iteration_list,loss_list)\n",
        "plt.xlabel(\"Number of iteration\")\n",
        "plt.ylabel(\"Loss\")\n",
        "plt.title(\"CNN: Loss vs Number of iteration\")\n",
        "plt.show()\n",
        "\n",
        "# 정확도 시각화\n",
        "plt.plot(iteration_list,accuracy_list,color = \"red\")\n",
        "plt.xlabel(\"Number of iteration\")\n",
        "plt.ylabel(\"Accuracy\")\n",
        "plt.title(\"CNN: Accuracy vs Number of iteration\")\n",
        "plt.show()"
      ],
      "metadata": {
        "colab": {
          "base_uri": "https://localhost:8080/",
          "height": 927
        },
        "id": "xcHSyuKx1gkh",
        "outputId": "43b1e958-dbc1-4661-a677-95f07fc9aaea"
      },
      "execution_count": 55,
      "outputs": [
        {
          "output_type": "display_data",
          "data": {
            "text/plain": [
              "<Figure size 640x480 with 1 Axes>"
            ],
            "image/png": "[encoded data removed]"
          },
          "metadata": {}
        },
        {
          "output_type": "display_data",
          "data": {
            "text/plain": [
              "<Figure size 640x480 with 1 Axes>"
            ],
            "image/png": "[encoded data removed]"
          },
          "metadata": {}
        }
      ]
    },
    {
      "cell_type": "markdown",
      "source": [
        "- CNN 모델에서, 반복이 계속될수록 손실은 대체로 감소하는 한편 정확도는 증가하는 추세를 보인다"
      ],
      "metadata": {
        "id": "gzJCJBfo9bwe"
      }
    }
  ]
}