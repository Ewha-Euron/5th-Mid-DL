{
  "cells": [
    {
      "cell_type": "markdown",
      "metadata": {
        "id": "view-in-github",
        "colab_type": "text"
      },
      "source": [
        "<a href=\"https://colab.research.google.com/github/aaoiii/5th-Mid-DL/blob/16%EC%A3%BC%EC%B0%A8/pytorch_CNN.ipynb\" target=\"_parent\"><img src=\"https://colab.research.google.com/assets/colab-badge.svg\" alt=\"Open In Colab\"/></a>"
      ]
    },
    {
      "cell_type": "markdown",
      "id": "94b6eefa",
      "metadata": {
        "id": "94b6eefa"
      },
      "source": [
        "## Introduction\n",
        "\n",
        "* building a convolutional neural network using Pytorch"
      ]
    },
    {
      "cell_type": "code",
      "source": [
        "import numpy as np\n",
        "import pandas as pd\n",
        "from PIL import Image\n",
        "import matplotlib.pyplot as plt\n",
        "from glob import glob\n",
        "import time\n",
        "\n",
        "\n",
        "import torch\n",
        "import torch.nn as nn\n",
        "import torch.nn.functional as F\n",
        "import torch.optim as optim\n",
        "\n",
        "from torch.utils.data.sampler import SubsetRandomSampler\n",
        "from torch.utils.data import Dataset\n",
        "\n",
        "import torchvision\n",
        "import torchvision.transforms as transforms"
      ],
      "metadata": {
        "id": "amEPt7hwk-qe"
      },
      "id": "amEPt7hwk-qe",
      "execution_count": null,
      "outputs": []
    },
    {
      "cell_type": "markdown",
      "id": "1d630d18",
      "metadata": {
        "id": "1d630d18"
      },
      "source": [
        "## Preparing Dataset\n",
        "\n",
        "### 1. Preparing Dataset Class"
      ]
    },
    {
      "cell_type": "code",
      "execution_count": null,
      "id": "4d8ddfc4",
      "metadata": {
        "id": "4d8ddfc4"
      },
      "outputs": [],
      "source": [
        "#We will use this class to control the things\n",
        "class InvalidDatasetException(Exception):\n",
        "  def __init__(self,len_of_paths,len_of_labels):\n",
        "    super().__init__(\n",
        "        f'Number of paths ({len_of_paths}) is not compatible with number of labels({len_of_labels})'\n",
        "    )"
      ]
    },
    {
      "cell_type": "code",
      "execution_count": null,
      "id": "f4b0e2bb",
      "metadata": {
        "id": "f4b0e2bb"
      },
      "outputs": [],
      "source": [
        "transform=transforms.Compose([transforms.ToTensor()])"
      ]
    },
    {
      "cell_type": "code",
      "execution_count": null,
      "id": "fa53ffc6",
      "metadata": {
        "id": "fa53ffc6"
      },
      "outputs": [],
      "source": [
        "class AnimalDataset(Dataset):\n",
        "\n",
        "    def __init__(self,img_paths,img_labels,size_of_images):\n",
        "        self.img_paths = img_paths\n",
        "        self.img_labels = img_labels\n",
        "        self.size_of_images = size_of_images\n",
        "        if len(self.img_paths) != len(self.img_labels):\n",
        "            raise InvalidDatasetException(self.img_paths,self.img_labels)\n",
        "\n",
        "\n",
        "    # We need to override __len__ special method\n",
        "    def __len__(self):\n",
        "        return len(self.img_paths)\n",
        "\n",
        "    # Also we need to override __getitem__ special method\n",
        "    # This method should return the image and its label from index given.\n",
        "    def __getitem__(self,index):\n",
        "        PIL_IMAGE = Image.open(self.img_paths[index]).resize(self.size_of_images)\n",
        "        # In pytorch we use torch tensors, ToTensor transform transforms the PIL image\n",
        "        # to Torch tensor.\n",
        "        TENSOR_IMAGE = transform(PIL_IMAGE)\n",
        "        label = self.img_labels[index]\n",
        "\n",
        "        return TENSOR_IMAGE,label"
      ]
    },
    {
      "cell_type": "markdown",
      "id": "d136de0f",
      "metadata": {
        "id": "d136de0f"
      },
      "source": [
        "=> reads the image and convert it to Torch tensor, and returns the image and the label of the image"
      ]
    },
    {
      "cell_type": "code",
      "execution_count": null,
      "id": "5557c24f",
      "metadata": {
        "id": "5557c24f",
        "outputId": "d6a9e672-f4a3-4b49-e885-f755f4b388a0"
      },
      "outputs": [
        {
          "name": "stdout",
          "output_type": "stream",
          "text": [
            "14630\n",
            "14630\n"
          ]
        }
      ],
      "source": [
        "paths = []\n",
        "labels = []\n",
        "label_map = {0:\"Cat\",\n",
        "             1:\"Dog\",\n",
        "             2:\"Wild\"\n",
        "            }\n",
        "\n",
        "for cat_path in glob(\"train/cat/*\") + glob(\"../input/animal-faces/afhq/val/cat/*\"):\n",
        "    paths.append(cat_path)\n",
        "    labels.append(0)\n",
        "\n",
        "for dog_path in glob(\"train/dog/*\") + glob(\"../input/animal-faces/afhq/val/dog/*\"):\n",
        "    paths.append(dog_path)\n",
        "    labels.append(1)\n",
        "\n",
        "for wild_path in glob(\"train/wild/*\") + glob(\"../input/animal-faces/afhq/val/wild/*\"):\n",
        "    paths.append(wild_path)\n",
        "    labels.append(2)\n",
        "\n",
        "\n",
        "print(len(paths))\n",
        "print(len(labels))"
      ]
    },
    {
      "cell_type": "code",
      "execution_count": null,
      "id": "38d64410",
      "metadata": {
        "id": "38d64410"
      },
      "outputs": [],
      "source": [
        "dataset=AnimalDataset(paths,labels,(250,250))"
      ]
    },
    {
      "cell_type": "markdown",
      "id": "b2dacf21",
      "metadata": {
        "id": "b2dacf21"
      },
      "source": [
        "- sampler shows how we will choose the data\n",
        "- Train Random Sampler and Test Random Sampler\n",
        "- random samplers will randomly choose indices from the list given."
      ]
    },
    {
      "cell_type": "markdown",
      "id": "7600031f",
      "metadata": {
        "id": "7600031f"
      },
      "source": [
        "### 2. Preparing Sampler Objects"
      ]
    },
    {
      "cell_type": "code",
      "execution_count": null,
      "id": "453fdd6c",
      "metadata": {
        "id": "453fdd6c",
        "outputId": "ec51cfab-bef3-4e73-9c85-d8aee3bc5311"
      },
      "outputs": [
        {
          "name": "stdout",
          "output_type": "stream",
          "text": [
            "Number of train samples: 11704\n",
            "Number of test samples: 2926\n"
          ]
        }
      ],
      "source": [
        "from sklearn.model_selection import train_test_split\n",
        "\n",
        "#dataset_indices=[0,1,2,3,..len(dataset)-1]\n",
        "dataset_indices=list(range(0,len(dataset)))\n",
        "\n",
        "train_indices, test_indices=train_test_split(dataset_indices,test_size=0.2,random_state=42)\n",
        "print('Number of train samples:',len(train_indices))\n",
        "print('Number of test samples:',len(test_indices))"
      ]
    },
    {
      "cell_type": "markdown",
      "id": "a09fe9d7",
      "metadata": {
        "id": "a09fe9d7"
      },
      "source": [
        "Now we need to give these indices lists to our samplers"
      ]
    },
    {
      "cell_type": "code",
      "execution_count": null,
      "id": "a07028db",
      "metadata": {
        "id": "a07028db"
      },
      "outputs": [],
      "source": [
        "train_sampler = SubsetRandomSampler(train_indices)\n",
        "test_sampler = SubsetRandomSampler(test_indices)"
      ]
    },
    {
      "cell_type": "markdown",
      "id": "d18b045c",
      "metadata": {
        "id": "d18b045c"
      },
      "source": [
        "### 3.Preparing Data Loader Objects\n",
        "\n",
        "We can/have\n",
        "1. dataset\n",
        "2. read images\n",
        "3. labels\n",
        "4. samplers which will help us to randomly choose samples\n",
        "\n",
        "We need a data loader which will create batches using the dataset and samplers\n"
      ]
    },
    {
      "cell_type": "code",
      "execution_count": null,
      "id": "780d55ac",
      "metadata": {
        "id": "780d55ac"
      },
      "outputs": [],
      "source": [
        "BATCH_SIZE = 128\n",
        "train_loader = torch.utils.data.DataLoader(dataset, batch_size=BATCH_SIZE, sampler=train_sampler)\n",
        "validation_loader = torch.utils.data.DataLoader(dataset, batch_size=BATCH_SIZE, sampler=test_sampler)"
      ]
    },
    {
      "cell_type": "markdown",
      "id": "c1fd5765",
      "metadata": {
        "id": "c1fd5765"
      },
      "source": [
        "Let's move on to the neural network modeling.\n",
        "Before, let's take a look at the images.\n",
        "\n",
        "<Images>"
      ]
    },
    {
      "cell_type": "code",
      "execution_count": null,
      "id": "0f0aa4a6",
      "metadata": {
        "id": "0f0aa4a6",
        "outputId": "68556679-2bab-40d0-cc52-01db054a1735"
      },
      "outputs": [
        {
          "data": {
            "text/plain": [
              "torch.Size([3, 250, 250])"
            ]
          },
          "execution_count": 30,
          "metadata": {},
          "output_type": "execute_result"
        }
      ],
      "source": [
        "dataset[1][0].shape"
      ]
    },
    {
      "cell_type": "code",
      "execution_count": null,
      "id": "908722a5",
      "metadata": {
        "id": "908722a5",
        "outputId": "26b339a1-248a-4e21-c4e8-0779eb161b30"
      },
      "outputs": [
        {
          "data": {
            "text/plain": [
              "torch.Tensor"
            ]
          },
          "execution_count": 31,
          "metadata": {},
          "output_type": "execute_result"
        }
      ],
      "source": [
        "images,labels = next(iter(train_loader))\n",
        "type(labels)"
      ]
    },
    {
      "cell_type": "code",
      "execution_count": null,
      "id": "6dbc260a",
      "metadata": {
        "id": "6dbc260a"
      },
      "outputs": [],
      "source": [
        "images,labels = iter(train_loader).next()\n",
        "\n",
        "fig, axis = plt.subplots(3, 5, figsize=(15, 10))\n",
        "for i, ax in enumerate(axis.flat):\n",
        "    with torch.no_grad():\n",
        "        npimg = images[i].numpy()\n",
        "        npimg = np.transpose(npimg, (1, 2, 0))\n",
        "        label = label_map[int(labels[i])]\n",
        "        ax.imshow(npimg)\n",
        "        ax.set(title = f\"{label}\")"
      ]
    },
    {
      "cell_type": "markdown",
      "id": "583f6891",
      "metadata": {
        "id": "583f6891"
      },
      "source": [
        "## Neural Network Modeling\n",
        "\n",
        "We can build our deep convolutional neural network.\n",
        "In pytorch, when we build a model, we create a class inherited Pytorch's nn. Module abstract class.\n",
        "Then we need to write forward function which includes forward propagation."
      ]
    },
    {
      "cell_type": "code",
      "execution_count": null,
      "id": "8f2f9c12",
      "metadata": {
        "id": "8f2f9c12"
      },
      "outputs": [],
      "source": [
        "class CNN(nn.Module):\n",
        "\n",
        "    def __init__(self):\n",
        "        super(CNN,self).__init__()\n",
        "        # First we'll define our layers\n",
        "        self.conv1 = nn.Conv2d(3,32,kernel_size=3,stride=2,padding=1)\n",
        "        self.conv2 = nn.Conv2d(32,64,kernel_size=3,stride=2,padding=1)\n",
        "        self.batchnorm1 = nn.BatchNorm2d(64)\n",
        "\n",
        "        self.conv3 = nn.Conv2d(64,128,kernel_size=3,stride=2,padding=1)\n",
        "        self.batchnorm2 = nn.BatchNorm2d(128)\n",
        "\n",
        "        self.conv4 = nn.Conv2d(128,256,kernel_size=3,stride=2,padding=1)\n",
        "        self.batchnorm3 = nn.BatchNorm2d(256)\n",
        "\n",
        "        self.maxpool = nn.MaxPool2d(2,2)\n",
        "\n",
        "        self.fc1 = nn.Linear(256 * 2 * 2,512)\n",
        "        self.fc2 = nn.Linear(512,3)\n",
        "\n",
        "\n",
        "    def forward(self,x):\n",
        "        x = F.relu(self.conv1(x))\n",
        "        x = F.relu(self.conv2(x))\n",
        "        x = self.batchnorm1(x)\n",
        "        x = self.maxpool(x)\n",
        "        x = F.relu(self.conv3(x))\n",
        "        x = self.batchnorm2(x)\n",
        "        x = self.maxpool(x)\n",
        "        x = F.relu(self.conv4(x))\n",
        "        x = self.batchnorm3(x)\n",
        "        x = self.maxpool(x)\n",
        "        x = x.view(-1, 256 * 2 * 2)\n",
        "        x = self.fc1(x)\n",
        "        x = self.fc2(x)\n",
        "        x = F.log_softmax(x,dim=1)\n",
        "        return x"
      ]
    },
    {
      "cell_type": "markdown",
      "id": "7041d37d",
      "metadata": {
        "id": "7041d37d"
      },
      "source": [
        "* we need to send the model to the gpu before creating GPU variable."
      ]
    },
    {
      "cell_type": "code",
      "execution_count": null,
      "id": "2a6b739a",
      "metadata": {
        "id": "2a6b739a"
      },
      "outputs": [],
      "source": [
        "device = torch.device(\"cuda\" if torch.cuda.is_available() else \"cpu\")"
      ]
    },
    {
      "cell_type": "code",
      "execution_count": null,
      "id": "8cfb225e",
      "metadata": {
        "id": "8cfb225e",
        "outputId": "ffbc038c-6bb3-4e09-ee03-0f94249c80b1"
      },
      "outputs": [
        {
          "data": {
            "text/plain": [
              "device(type='cpu')"
            ]
          },
          "execution_count": 35,
          "metadata": {},
          "output_type": "execute_result"
        }
      ],
      "source": [
        "device"
      ]
    },
    {
      "cell_type": "code",
      "execution_count": null,
      "id": "0dd3c7c0",
      "metadata": {
        "id": "0dd3c7c0"
      },
      "outputs": [],
      "source": [
        "model=CNN().to(device)"
      ]
    },
    {
      "cell_type": "markdown",
      "id": "6f50f4d6",
      "metadata": {
        "id": "6f50f4d6"
      },
      "source": [
        "* In deep learning, we use an optimization algorithm to apply gradients and loss function to compute gradients.\n",
        "* In this kernel we're going to use cross entropy loss and RMSProp optimizer."
      ]
    },
    {
      "cell_type": "code",
      "execution_count": null,
      "id": "d108af2a",
      "metadata": {
        "id": "d108af2a"
      },
      "outputs": [],
      "source": [
        "criterion = nn.CrossEntropyLoss()\n",
        "optimizer = optim.RMSprop(model.parameters(),lr=1e-4)"
      ]
    },
    {
      "cell_type": "markdown",
      "id": "c908cb6d",
      "metadata": {
        "id": "c908cb6d"
      },
      "source": [
        "## Training Model"
      ]
    },
    {
      "cell_type": "code",
      "execution_count": null,
      "id": "9367a2b2",
      "metadata": {
        "id": "9367a2b2",
        "outputId": "baccb981-68df-4e4a-aff9-29537cd9a240"
      },
      "outputs": [
        {
          "name": "stdout",
          "output_type": "stream",
          "text": [
            "Epoch 1: Accuracy: 94.70266575529733, Loss: 14.130988128483295\n",
            "Epoch 2: Accuracy: 97.83834586466165, Loss: 6.638136073946953\n",
            "Epoch 3: Accuracy: 99.2822966507177, Loss: 3.1546844001859426\n",
            "Epoch 4: Accuracy: 99.80348598769652, Loss: 1.3098991219885647\n",
            "Epoch 5: Accuracy: 99.9401913875598, Loss: 0.5827710385201499\n"
          ]
        }
      ],
      "source": [
        "EPOCH_NUMBER = 5\n",
        "TRAIN_LOSS = []\n",
        "TRAIN_ACCURACY = []\n",
        "\n",
        "for epoch in range(1,EPOCH_NUMBER+1):\n",
        "    epoch_loss = 0.0\n",
        "    correct = 0\n",
        "    total = 0\n",
        "    for data_,target_ in train_loader:\n",
        "        # We have to one hot encode our labels.\n",
        "        target_ =target_.to(device)\n",
        "        data_ = data_.to(device)\n",
        "\n",
        "        # Cleaning the cached gradients if there are\n",
        "        optimizer.zero_grad()\n",
        "\n",
        "        # Getting train decisions and computing loss.\n",
        "        outputs = model(data_)\n",
        "        loss = criterion(outputs,target_)\n",
        "\n",
        "        # Backpropagation and optimizing.\n",
        "        loss.backward()\n",
        "        optimizer.step()\n",
        "\n",
        "        # Computing statistics.\n",
        "        epoch_loss = epoch_loss + loss.item()\n",
        "        _,pred = torch.max(outputs,dim=1)\n",
        "        correct = correct + torch.sum(pred == target_).item()\n",
        "        total += target_.size(0)\n",
        "\n",
        "    # Appending stats to the lists.\n",
        "    TRAIN_LOSS.append(epoch_loss)\n",
        "    TRAIN_ACCURACY.append(100 * correct / total)\n",
        "    print(f\"Epoch {epoch}: Accuracy: {100 * correct/total}, Loss: {epoch_loss}\")"
      ]
    },
    {
      "cell_type": "code",
      "execution_count": null,
      "id": "fd580728",
      "metadata": {
        "id": "fd580728",
        "outputId": "298ef6f6-bc8b-4acd-c2da-7ef901216206"
      },
      "outputs": [
        {
          "data": {
            "image/png": "[encoded data removed]",
            "text/plain": [
              "<Figure size 600x400 with 1 Axes>"
            ]
          },
          "metadata": {},
          "output_type": "display_data"
        },
        {
          "data": {
            "image/png": "[encoded data removed]",
            "text/plain": [
              "<Figure size 600x400 with 1 Axes>"
            ]
          },
          "metadata": {},
          "output_type": "display_data"
        }
      ],
      "source": [
        "plt.subplots(figsize=(6,4))\n",
        "plt.plot(range(EPOCH_NUMBER),TRAIN_LOSS,color=\"blue\",label=\"Loss\")\n",
        "plt.legend()\n",
        "plt.show()\n",
        "\n",
        "plt.subplots(figsize=(6,4))\n",
        "plt.plot(range(EPOCH_NUMBER),TRAIN_ACCURACY,color=\"green\",label=\"Accuracy\")\n",
        "plt.legend()\n",
        "plt.show()"
      ]
    },
    {
      "cell_type": "markdown",
      "id": "a17f3bb4",
      "metadata": {
        "id": "a17f3bb4"
      },
      "source": [
        "## Final Test\n",
        "\n",
        "test the model using test loader"
      ]
    },
    {
      "cell_type": "code",
      "execution_count": null,
      "id": "3f886730",
      "metadata": {
        "id": "3f886730",
        "outputId": "52cf2026-70e3-42e3-d57b-01fb105a7f54"
      },
      "outputs": [
        {
          "name": "stdout",
          "output_type": "stream",
          "text": [
            "Validation accuracy: 93.88%\n",
            "Validation loss: 4.88%\n"
          ]
        }
      ],
      "source": [
        "total_val_loss = 0.0\n",
        "total_true = 0\n",
        "total = len(test_sampler)\n",
        "\n",
        "# When we're not working with gradients and backpropagation\n",
        "# we use torch.no_grad() utility\n",
        "with torch.no_grad():\n",
        "    model.eval()\n",
        "    for data_,target_ in validation_loader:\n",
        "        data_ = data_.to(device)\n",
        "        target_ = target_.to(device)\n",
        "\n",
        "        outputs = model(data_)\n",
        "        loss = criterion(outputs,target_).item()\n",
        "        _,preds = torch.max(outputs,dim=1)\n",
        "        total_val_loss += loss\n",
        "        true = torch.sum(preds == target_).item()\n",
        "        total_true += true\n",
        "\n",
        "validation_accuracy = round(100 * total_true / total,2)\n",
        "print(f\"Validation accuracy: {validation_accuracy}%\")\n",
        "print(f\"Validation loss: {round(total_val_loss,2)}%\")"
      ]
    },
    {
      "cell_type": "markdown",
      "id": "941178d0",
      "metadata": {
        "id": "941178d0"
      },
      "source": [
        "## How to Save a Pytorch Model\n",
        "\n",
        "=> saving state dict.\n",
        "\n",
        "State dictionary is a python dictionary which includes layer names as keys and layer weights as items."
      ]
    },
    {
      "cell_type": "code",
      "execution_count": null,
      "id": "dcb79daf",
      "metadata": {
        "id": "dcb79daf",
        "outputId": "7f3f7c6c-59e0-490d-e875-0b9b1fdf4e4f"
      },
      "outputs": [
        {
          "name": "stdout",
          "output_type": "stream",
          "text": [
            "conv1.weight \t torch.Size([32, 3, 3, 3])\n",
            "conv1.bias \t torch.Size([32])\n",
            "conv2.weight \t torch.Size([64, 32, 3, 3])\n",
            "conv2.bias \t torch.Size([64])\n",
            "batchnorm1.weight \t torch.Size([64])\n",
            "batchnorm1.bias \t torch.Size([64])\n",
            "batchnorm1.running_mean \t torch.Size([64])\n",
            "batchnorm1.running_var \t torch.Size([64])\n",
            "batchnorm1.num_batches_tracked \t torch.Size([])\n",
            "conv3.weight \t torch.Size([128, 64, 3, 3])\n",
            "conv3.bias \t torch.Size([128])\n",
            "batchnorm2.weight \t torch.Size([128])\n",
            "batchnorm2.bias \t torch.Size([128])\n",
            "batchnorm2.running_mean \t torch.Size([128])\n",
            "batchnorm2.running_var \t torch.Size([128])\n",
            "batchnorm2.num_batches_tracked \t torch.Size([])\n",
            "conv4.weight \t torch.Size([256, 128, 3, 3])\n",
            "conv4.bias \t torch.Size([256])\n",
            "batchnorm3.weight \t torch.Size([256])\n",
            "batchnorm3.bias \t torch.Size([256])\n",
            "batchnorm3.running_mean \t torch.Size([256])\n",
            "batchnorm3.running_var \t torch.Size([256])\n",
            "batchnorm3.num_batches_tracked \t torch.Size([])\n",
            "fc1.weight \t torch.Size([512, 1024])\n",
            "fc1.bias \t torch.Size([512])\n",
            "fc2.weight \t torch.Size([3, 512])\n",
            "fc2.bias \t torch.Size([3])\n"
          ]
        }
      ],
      "source": [
        "for param_tensor in model.state_dict():\n",
        "    print(param_tensor, \"\\t\", model.state_dict()[param_tensor].size())"
      ]
    },
    {
      "cell_type": "code",
      "execution_count": null,
      "id": "0a8e6349",
      "metadata": {
        "id": "0a8e6349"
      },
      "outputs": [],
      "source": [
        "torch.save(model.state_dict(),\"model.pt\")"
      ]
    },
    {
      "cell_type": "markdown",
      "id": "d645a3b1",
      "metadata": {
        "id": "d645a3b1"
      },
      "source": [
        "In order to load model, we need to create a new objecto from the class and load the state dict."
      ]
    },
    {
      "cell_type": "code",
      "execution_count": null,
      "id": "0f995090",
      "metadata": {
        "id": "0f995090",
        "outputId": "743912fe-8ee7-40f2-d7fa-dbac0031f9a7"
      },
      "outputs": [
        {
          "data": {
            "text/plain": [
              "<All keys matched successfully>"
            ]
          },
          "execution_count": 44,
          "metadata": {},
          "output_type": "execute_result"
        }
      ],
      "source": [
        "loaded_model = CNN()\n",
        "loaded_model.load_state_dict(torch.load(\"model.pt\"))"
      ]
    }
  ],
  "metadata": {
    "kernelspec": {
      "display_name": "Python 3 (ipykernel)",
      "language": "python",
      "name": "python3"
    },
    "language_info": {
      "codemirror_mode": {
        "name": "ipython",
        "version": 3
      },
      "file_extension": ".py",
      "mimetype": "text/x-python",
      "name": "python",
      "nbconvert_exporter": "python",
      "pygments_lexer": "ipython3",
      "version": "3.9.13"
    },
    "colab": {
      "provenance": [],
      "include_colab_link": true
    }
  },
  "nbformat": 4,
  "nbformat_minor": 5
}